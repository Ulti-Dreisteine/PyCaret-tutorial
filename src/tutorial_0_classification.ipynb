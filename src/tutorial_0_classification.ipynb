{
 "cells": [
  {
   "cell_type": "markdown",
   "source": [
    "## 载入配置"
   ],
   "metadata": {
    "collapsed": false,
    "pycharm": {
     "name": "#%% md\n"
    }
   }
  },
  {
   "cell_type": "code",
   "execution_count": 1,
   "source": [
    "from pycaret.classification import setup, compare_models, create_model, tune_model, plot_model, evaluate_model, interpret_model\r\n",
    "import pandas as pd\r\n",
    "import sys, os\r\n",
    "\r\n",
    "sys.path.append('../')\r\n",
    "\r\n",
    "from src import proj_dir"
   ],
   "outputs": [
    {
     "output_type": "stream",
     "name": "stdout",
     "text": [
      "Use environmental variables in default.yml\n"
     ]
    }
   ],
   "metadata": {
    "collapsed": true
   }
  },
  {
   "cell_type": "markdown",
   "source": [
    "## 载入测试数据"
   ],
   "metadata": {
    "collapsed": false,
    "pycharm": {
     "name": "#%% md\n"
    }
   }
  },
  {
   "cell_type": "code",
   "execution_count": 2,
   "source": [
    "data = pd.read_csv(os.path.join(proj_dir, 'data/local_test/patient_data.csv'))\r\n",
    "data.drop('INPATIENT_ID', axis = 1, inplace = True)\r\n",
    "\r\n",
    "numeric_cols = [\r\n",
    "    'AGE', 'ISS', 'CAPRINI_SCORE', 'T', 'P', 'R', 'MBP', 'SHOCK_INDEX', 'HEIGHT', 'WEIGHT',\r\n",
    "    'BMI', 'RBC', 'HGB', 'PLT', 'WBC', 'ALB', 'CRE', 'UA', 'AST', 'ALT', 'GLU', 'TG', 'CHO',\r\n",
    "    'CA', 'MG', 'LDL', 'NA', 'K', 'CL', 'GFR', 'PT', 'FIB', 'DD', 'CK', 'INR'\r\n",
    "]\r\n",
    "\r\n",
    "categoric_cols = [p for p in list(data.columns) if p not in ['VTE'] + numeric_cols]\r\n",
    "\r\n",
    "for col in data.columns:\r\n",
    "    if col == 'VTE':\r\n",
    "        data[col] = data[col].apply(lambda x: 'pos' if x == 1 else 'neg')\r\n",
    "    elif col in categoric_cols:\r\n",
    "        data[col] = data[col].astype(int)\r\n",
    "    elif col in numeric_cols:\r\n",
    "        data[col] = data[col].astype(float)\r\n",
    "    else:\r\n",
    "        pass"
   ],
   "outputs": [],
   "metadata": {
    "collapsed": false,
    "pycharm": {
     "name": "#%%\n"
    }
   }
  },
  {
   "cell_type": "markdown",
   "source": [
    "## 创建分类模型\n",
    "\n",
    "* numeric_features和categorical_features里不包括target.\n",
    "* 可以在这里进行数据和特征处理."
   ],
   "metadata": {
    "collapsed": false,
    "pycharm": {
     "name": "#%% md\n"
    }
   }
  },
  {
   "cell_type": "code",
   "execution_count": 3,
   "source": [
    "task = setup(\r\n",
    "    data,\r\n",
    "    target = 'VTE',\r\n",
    "    numeric_features = numeric_cols,\r\n",
    "    categorical_features = categoric_cols,\r\n",
    "    verbose = False,\r\n",
    "    remove_multicollinearity = True,\r\n",
    "    multicollinearity_threshold = 0.6,\r\n",
    "    ignore_low_variance = True,\r\n",
    ")"
   ],
   "outputs": [
    {
     "output_type": "stream",
     "name": "stderr",
     "text": [
      "INFO:logs:create_model_container 0\n",
      "INFO:logs:master_model_container 0\n",
      "INFO:logs:display_container 0\n",
      "INFO:logs:Pipeline(memory=None,\n",
      "         steps=[('dtypes',\n",
      "                 DataTypes_Auto_infer(categorical_features=['CHEMOPROPHYLAXIS',\n",
      "                                                            'SEX', 'SURGERY',\n",
      "                                                            'CVC', 'ICU_STAY',\n",
      "                                                            'OPEN_INJURY',\n",
      "                                                            'INJURY_TYPE',\n",
      "                                                            'INJURY_CAUSE_fall',\n",
      "                                                            'INJURY_CAUSE_traffic '\n",
      "                                                            'accident',\n",
      "                                                            'INJURY_CAUSE_high '\n",
      "                                                            'fall',\n",
      "                                                            'INJURY_CAUSE_other',\n",
      "                                                            'INJURY_CAUSE_crush',\n",
      "                                                            'INJURY_CAUSE_machine',\n",
      "                                                            'INJURY_CAUSE_firearm',\n",
      "                                                            'INJURY_CAUSE_sharp '\n",
      "                                                            'i...\n",
      "                ('binn', Empty()), ('rem_outliers', Empty()),\n",
      "                ('cluster_all', Empty()), ('dummy', Dummify(target='VTE')),\n",
      "                ('fix_perfect', Empty()), ('clean_names', Clean_Colum_Names()),\n",
      "                ('feature_select', Empty()),\n",
      "                ('fix_multi',\n",
      "                 Fix_multicollinearity(correlation_with_target_preference=None,\n",
      "                                       correlation_with_target_threshold=0.0,\n",
      "                                       target_variable='VTE', threshold=0.6)),\n",
      "                ('dfs', Empty()), ('pca', Empty())],\n",
      "         verbose=False)\n",
      "INFO:logs:setup() succesfully completed......................................\n"
     ]
    }
   ],
   "metadata": {
    "collapsed": false,
    "pycharm": {
     "name": "#%%\n"
    }
   }
  },
  {
   "cell_type": "markdown",
   "source": [
    "## 模型比较\n",
    "\n",
    "自动打印各模型各指标对比表.\n",
    "创建模型和训练调参.\n",
    "\n",
    "|ID|Name|\n",
    "|:--:|:--:|\n",
    "|lr       |Logistic Regression            |\n",
    "|knn      |K Nearest Neighbour            |\n",
    "|nb       |Naive Bayes                    |\n",
    "|dt       |Decision Tree Classifier       |\n",
    "|svm      |SVM - Linear Kernel            |\n",
    "|rbfsvm   |SVM - Radial Kernel            |\n",
    "|gpc      |Gaussian Process Classifier    |\n",
    "|mlp      |Multi Level Perceptron         |\n",
    "|ridge    |Ridge Classifier               |\n",
    "|rf       |Random Forest Classifier       |\n",
    "|qda      |Quadratic Discriminant Analysis|\n",
    "|ada      |Ada Boost Classifier           |\n",
    "|gbc      |Gradient Boosting Classifier   |\n",
    "|lda      |Linear Discriminant Analysis   |\n",
    "|et       |Extra Trees Classifier         |\n",
    "|xgboost  |Extreme Gradient Boosting      |\n",
    "|lightgbm |Light Gradient Boosting        |\n",
    "|catboost |CatBoost Classifier            |"
   ],
   "metadata": {
    "collapsed": false,
    "pycharm": {
     "name": "#%% md\n"
    }
   }
  },
  {
   "cell_type": "code",
   "execution_count": 4,
   "source": [
    "model_store_final = compare_models(\r\n",
    "    whitelist = ['lr', 'rf', 'ridge', 'xgboost'],\r\n",
    "    sort = 'F1',\r\n",
    "    verbose = True\r\n",
    ")"
   ],
   "outputs": [
    {
     "output_type": "display_data",
     "data": {
      "text/plain": [
       "<pandas.io.formats.style.Styler at 0x2330b6ca520>"
      ],
      "text/html": [
       "<style  type=\"text/css\" >\n",
       "    #T_2631b3d4_0251_11ec_aeba_1c1b0d69be7a th {\n",
       "          text-align: left;\n",
       "    }#T_2631b3d4_0251_11ec_aeba_1c1b0d69be7arow0_col0,#T_2631b3d4_0251_11ec_aeba_1c1b0d69be7arow0_col1,#T_2631b3d4_0251_11ec_aeba_1c1b0d69be7arow0_col2,#T_2631b3d4_0251_11ec_aeba_1c1b0d69be7arow0_col4,#T_2631b3d4_0251_11ec_aeba_1c1b0d69be7arow1_col0,#T_2631b3d4_0251_11ec_aeba_1c1b0d69be7arow1_col1,#T_2631b3d4_0251_11ec_aeba_1c1b0d69be7arow1_col3,#T_2631b3d4_0251_11ec_aeba_1c1b0d69be7arow1_col4,#T_2631b3d4_0251_11ec_aeba_1c1b0d69be7arow1_col5,#T_2631b3d4_0251_11ec_aeba_1c1b0d69be7arow1_col6,#T_2631b3d4_0251_11ec_aeba_1c1b0d69be7arow1_col7,#T_2631b3d4_0251_11ec_aeba_1c1b0d69be7arow2_col0,#T_2631b3d4_0251_11ec_aeba_1c1b0d69be7arow2_col2,#T_2631b3d4_0251_11ec_aeba_1c1b0d69be7arow2_col3,#T_2631b3d4_0251_11ec_aeba_1c1b0d69be7arow2_col5,#T_2631b3d4_0251_11ec_aeba_1c1b0d69be7arow2_col6,#T_2631b3d4_0251_11ec_aeba_1c1b0d69be7arow2_col7,#T_2631b3d4_0251_11ec_aeba_1c1b0d69be7arow3_col0,#T_2631b3d4_0251_11ec_aeba_1c1b0d69be7arow3_col1,#T_2631b3d4_0251_11ec_aeba_1c1b0d69be7arow3_col2,#T_2631b3d4_0251_11ec_aeba_1c1b0d69be7arow3_col3,#T_2631b3d4_0251_11ec_aeba_1c1b0d69be7arow3_col4,#T_2631b3d4_0251_11ec_aeba_1c1b0d69be7arow3_col5,#T_2631b3d4_0251_11ec_aeba_1c1b0d69be7arow3_col6,#T_2631b3d4_0251_11ec_aeba_1c1b0d69be7arow3_col7{\n",
       "            text-align:  left;\n",
       "        }#T_2631b3d4_0251_11ec_aeba_1c1b0d69be7arow0_col3,#T_2631b3d4_0251_11ec_aeba_1c1b0d69be7arow0_col5,#T_2631b3d4_0251_11ec_aeba_1c1b0d69be7arow0_col6,#T_2631b3d4_0251_11ec_aeba_1c1b0d69be7arow0_col7,#T_2631b3d4_0251_11ec_aeba_1c1b0d69be7arow1_col2,#T_2631b3d4_0251_11ec_aeba_1c1b0d69be7arow2_col1,#T_2631b3d4_0251_11ec_aeba_1c1b0d69be7arow2_col4{\n",
       "            background-color:  yellow;\n",
       "            text-align:  left;\n",
       "        }#T_2631b3d4_0251_11ec_aeba_1c1b0d69be7arow0_col8,#T_2631b3d4_0251_11ec_aeba_1c1b0d69be7arow1_col8,#T_2631b3d4_0251_11ec_aeba_1c1b0d69be7arow2_col8,#T_2631b3d4_0251_11ec_aeba_1c1b0d69be7arow3_col8{\n",
       "            background-color:  lightgrey;\n",
       "            text-align:  left;\n",
       "        }</style><table id=\"T_2631b3d4_0251_11ec_aeba_1c1b0d69be7a\" ><thead>    <tr>        <th class=\"blank level0\" ></th>        <th class=\"col_heading level0 col0\" >Model</th>        <th class=\"col_heading level0 col1\" >Accuracy</th>        <th class=\"col_heading level0 col2\" >AUC</th>        <th class=\"col_heading level0 col3\" >Recall</th>        <th class=\"col_heading level0 col4\" >Prec.</th>        <th class=\"col_heading level0 col5\" >F1</th>        <th class=\"col_heading level0 col6\" >Kappa</th>        <th class=\"col_heading level0 col7\" >MCC</th>        <th class=\"col_heading level0 col8\" >TT (Sec)</th>    </tr></thead><tbody>\n",
       "                <tr>\n",
       "                        <th id=\"T_2631b3d4_0251_11ec_aeba_1c1b0d69be7alevel0_row0\" class=\"row_heading level0 row0\" >0</th>\n",
       "                        <td id=\"T_2631b3d4_0251_11ec_aeba_1c1b0d69be7arow0_col0\" class=\"data row0 col0\" >Extreme Gradient Boosting</td>\n",
       "                        <td id=\"T_2631b3d4_0251_11ec_aeba_1c1b0d69be7arow0_col1\" class=\"data row0 col1\" >0.7977</td>\n",
       "                        <td id=\"T_2631b3d4_0251_11ec_aeba_1c1b0d69be7arow0_col2\" class=\"data row0 col2\" >0.7894</td>\n",
       "                        <td id=\"T_2631b3d4_0251_11ec_aeba_1c1b0d69be7arow0_col3\" class=\"data row0 col3\" >0.3830</td>\n",
       "                        <td id=\"T_2631b3d4_0251_11ec_aeba_1c1b0d69be7arow0_col4\" class=\"data row0 col4\" >0.5349</td>\n",
       "                        <td id=\"T_2631b3d4_0251_11ec_aeba_1c1b0d69be7arow0_col5\" class=\"data row0 col5\" >0.4378</td>\n",
       "                        <td id=\"T_2631b3d4_0251_11ec_aeba_1c1b0d69be7arow0_col6\" class=\"data row0 col6\" >0.3217</td>\n",
       "                        <td id=\"T_2631b3d4_0251_11ec_aeba_1c1b0d69be7arow0_col7\" class=\"data row0 col7\" >0.3318</td>\n",
       "                        <td id=\"T_2631b3d4_0251_11ec_aeba_1c1b0d69be7arow0_col8\" class=\"data row0 col8\" >0.1052</td>\n",
       "            </tr>\n",
       "            <tr>\n",
       "                        <th id=\"T_2631b3d4_0251_11ec_aeba_1c1b0d69be7alevel0_row1\" class=\"row_heading level0 row1\" >1</th>\n",
       "                        <td id=\"T_2631b3d4_0251_11ec_aeba_1c1b0d69be7arow1_col0\" class=\"data row1 col0\" >Logistic Regression</td>\n",
       "                        <td id=\"T_2631b3d4_0251_11ec_aeba_1c1b0d69be7arow1_col1\" class=\"data row1 col1\" >0.7914</td>\n",
       "                        <td id=\"T_2631b3d4_0251_11ec_aeba_1c1b0d69be7arow1_col2\" class=\"data row1 col2\" >0.7898</td>\n",
       "                        <td id=\"T_2631b3d4_0251_11ec_aeba_1c1b0d69be7arow1_col3\" class=\"data row1 col3\" >0.2852</td>\n",
       "                        <td id=\"T_2631b3d4_0251_11ec_aeba_1c1b0d69be7arow1_col4\" class=\"data row1 col4\" >0.5198</td>\n",
       "                        <td id=\"T_2631b3d4_0251_11ec_aeba_1c1b0d69be7arow1_col5\" class=\"data row1 col5\" >0.3624</td>\n",
       "                        <td id=\"T_2631b3d4_0251_11ec_aeba_1c1b0d69be7arow1_col6\" class=\"data row1 col6\" >0.2527</td>\n",
       "                        <td id=\"T_2631b3d4_0251_11ec_aeba_1c1b0d69be7arow1_col7\" class=\"data row1 col7\" >0.2706</td>\n",
       "                        <td id=\"T_2631b3d4_0251_11ec_aeba_1c1b0d69be7arow1_col8\" class=\"data row1 col8\" >0.0389</td>\n",
       "            </tr>\n",
       "            <tr>\n",
       "                        <th id=\"T_2631b3d4_0251_11ec_aeba_1c1b0d69be7alevel0_row2\" class=\"row_heading level0 row2\" >2</th>\n",
       "                        <td id=\"T_2631b3d4_0251_11ec_aeba_1c1b0d69be7arow2_col0\" class=\"data row2 col0\" >Ridge Classifier</td>\n",
       "                        <td id=\"T_2631b3d4_0251_11ec_aeba_1c1b0d69be7arow2_col1\" class=\"data row2 col1\" >0.7994</td>\n",
       "                        <td id=\"T_2631b3d4_0251_11ec_aeba_1c1b0d69be7arow2_col2\" class=\"data row2 col2\" >0.0000</td>\n",
       "                        <td id=\"T_2631b3d4_0251_11ec_aeba_1c1b0d69be7arow2_col3\" class=\"data row2 col3\" >0.2264</td>\n",
       "                        <td id=\"T_2631b3d4_0251_11ec_aeba_1c1b0d69be7arow2_col4\" class=\"data row2 col4\" >0.5955</td>\n",
       "                        <td id=\"T_2631b3d4_0251_11ec_aeba_1c1b0d69be7arow2_col5\" class=\"data row2 col5\" >0.3192</td>\n",
       "                        <td id=\"T_2631b3d4_0251_11ec_aeba_1c1b0d69be7arow2_col6\" class=\"data row2 col6\" >0.2304</td>\n",
       "                        <td id=\"T_2631b3d4_0251_11ec_aeba_1c1b0d69be7arow2_col7\" class=\"data row2 col7\" >0.2705</td>\n",
       "                        <td id=\"T_2631b3d4_0251_11ec_aeba_1c1b0d69be7arow2_col8\" class=\"data row2 col8\" >0.0060</td>\n",
       "            </tr>\n",
       "            <tr>\n",
       "                        <th id=\"T_2631b3d4_0251_11ec_aeba_1c1b0d69be7alevel0_row3\" class=\"row_heading level0 row3\" >3</th>\n",
       "                        <td id=\"T_2631b3d4_0251_11ec_aeba_1c1b0d69be7arow3_col0\" class=\"data row3 col0\" >Random Forest Classifier</td>\n",
       "                        <td id=\"T_2631b3d4_0251_11ec_aeba_1c1b0d69be7arow3_col1\" class=\"data row3 col1\" >0.7898</td>\n",
       "                        <td id=\"T_2631b3d4_0251_11ec_aeba_1c1b0d69be7arow3_col2\" class=\"data row3 col2\" >0.7278</td>\n",
       "                        <td id=\"T_2631b3d4_0251_11ec_aeba_1c1b0d69be7arow3_col3\" class=\"data row3 col3\" >0.1505</td>\n",
       "                        <td id=\"T_2631b3d4_0251_11ec_aeba_1c1b0d69be7arow3_col4\" class=\"data row3 col4\" >0.5183</td>\n",
       "                        <td id=\"T_2631b3d4_0251_11ec_aeba_1c1b0d69be7arow3_col5\" class=\"data row3 col5\" >0.2295</td>\n",
       "                        <td id=\"T_2631b3d4_0251_11ec_aeba_1c1b0d69be7arow3_col6\" class=\"data row3 col6\" >0.1518</td>\n",
       "                        <td id=\"T_2631b3d4_0251_11ec_aeba_1c1b0d69be7arow3_col7\" class=\"data row3 col7\" >0.1905</td>\n",
       "                        <td id=\"T_2631b3d4_0251_11ec_aeba_1c1b0d69be7arow3_col8\" class=\"data row3 col8\" >0.0225</td>\n",
       "            </tr>\n",
       "    </tbody></table>"
      ]
     },
     "metadata": {}
    },
    {
     "output_type": "stream",
     "name": "stderr",
     "text": [
      "INFO:logs:create_model_container: 1\n",
      "INFO:logs:master_model_container: 1\n",
      "INFO:logs:display_container: 2\n",
      "INFO:logs:XGBClassifier(base_score=0.5, booster='gbtree', colsample_bylevel=1,\n",
      "              colsample_bynode=1, colsample_bytree=1, gamma=0, gpu_id=-1,\n",
      "              importance_type='gain', interaction_constraints='',\n",
      "              learning_rate=0.300000012, max_delta_step=0, max_depth=6,\n",
      "              min_child_weight=1, missing=nan, monotone_constraints='()',\n",
      "              n_estimators=100, n_jobs=-1, num_parallel_tree=1,\n",
      "              objective='binary:logistic', random_state=8286, reg_alpha=0,\n",
      "              reg_lambda=1, scale_pos_weight=1, subsample=1,\n",
      "              tree_method='exact', use_label_encoder=True,\n",
      "              validate_parameters=1, verbosity=0)\n",
      "INFO:logs:compare_models() succesfully completed......................................\n"
     ]
    }
   ],
   "metadata": {
    "collapsed": false,
    "pycharm": {
     "name": "#%%\n"
    }
   }
  },
  {
   "cell_type": "markdown",
   "source": [
    "## 单模型训练"
   ],
   "metadata": {
    "collapsed": false,
    "pycharm": {
     "name": "#%% md\n"
    }
   }
  },
  {
   "cell_type": "markdown",
   "source": [
    "#### 创建单个模型."
   ],
   "metadata": {
    "collapsed": false,
    "pycharm": {
     "name": "#%% md\n"
    }
   }
  },
  {
   "cell_type": "code",
   "execution_count": 5,
   "source": [
    "# params = {'max_depth': 4, 'min_samples_leaf': 5, 'min_samples_split': 10}\r\n",
    "params = {}\r\n",
    "clf = create_model('rf', verbose = True, **params)"
   ],
   "outputs": [
    {
     "output_type": "display_data",
     "data": {
      "text/plain": [
       "<pandas.io.formats.style.Styler at 0x2330b61dd30>"
      ],
      "text/html": [
       "<style  type=\"text/css\" >\n",
       "#T_287e3312_0251_11ec_9f6a_1c1b0d69be7arow10_col0,#T_287e3312_0251_11ec_9f6a_1c1b0d69be7arow10_col1,#T_287e3312_0251_11ec_9f6a_1c1b0d69be7arow10_col2,#T_287e3312_0251_11ec_9f6a_1c1b0d69be7arow10_col3,#T_287e3312_0251_11ec_9f6a_1c1b0d69be7arow10_col4,#T_287e3312_0251_11ec_9f6a_1c1b0d69be7arow10_col5,#T_287e3312_0251_11ec_9f6a_1c1b0d69be7arow10_col6{\n",
       "            background:  yellow;\n",
       "        }</style><table id=\"T_287e3312_0251_11ec_9f6a_1c1b0d69be7a\" ><thead>    <tr>        <th class=\"blank level0\" ></th>        <th class=\"col_heading level0 col0\" >Accuracy</th>        <th class=\"col_heading level0 col1\" >AUC</th>        <th class=\"col_heading level0 col2\" >Recall</th>        <th class=\"col_heading level0 col3\" >Prec.</th>        <th class=\"col_heading level0 col4\" >F1</th>        <th class=\"col_heading level0 col5\" >Kappa</th>        <th class=\"col_heading level0 col6\" >MCC</th>    </tr></thead><tbody>\n",
       "                <tr>\n",
       "                        <th id=\"T_287e3312_0251_11ec_9f6a_1c1b0d69be7alevel0_row0\" class=\"row_heading level0 row0\" >0</th>\n",
       "                        <td id=\"T_287e3312_0251_11ec_9f6a_1c1b0d69be7arow0_col0\" class=\"data row0 col0\" >0.8095</td>\n",
       "                        <td id=\"T_287e3312_0251_11ec_9f6a_1c1b0d69be7arow0_col1\" class=\"data row0 col1\" >0.8123</td>\n",
       "                        <td id=\"T_287e3312_0251_11ec_9f6a_1c1b0d69be7arow0_col2\" class=\"data row0 col2\" >0.1538</td>\n",
       "                        <td id=\"T_287e3312_0251_11ec_9f6a_1c1b0d69be7arow0_col3\" class=\"data row0 col3\" >0.6667</td>\n",
       "                        <td id=\"T_287e3312_0251_11ec_9f6a_1c1b0d69be7arow0_col4\" class=\"data row0 col4\" >0.2500</td>\n",
       "                        <td id=\"T_287e3312_0251_11ec_9f6a_1c1b0d69be7arow0_col5\" class=\"data row0 col5\" >0.1871</td>\n",
       "                        <td id=\"T_287e3312_0251_11ec_9f6a_1c1b0d69be7arow0_col6\" class=\"data row0 col6\" >0.2543</td>\n",
       "            </tr>\n",
       "            <tr>\n",
       "                        <th id=\"T_287e3312_0251_11ec_9f6a_1c1b0d69be7alevel0_row1\" class=\"row_heading level0 row1\" >1</th>\n",
       "                        <td id=\"T_287e3312_0251_11ec_9f6a_1c1b0d69be7arow1_col0\" class=\"data row1 col0\" >0.7937</td>\n",
       "                        <td id=\"T_287e3312_0251_11ec_9f6a_1c1b0d69be7arow1_col1\" class=\"data row1 col1\" >0.6346</td>\n",
       "                        <td id=\"T_287e3312_0251_11ec_9f6a_1c1b0d69be7arow1_col2\" class=\"data row1 col2\" >0.0769</td>\n",
       "                        <td id=\"T_287e3312_0251_11ec_9f6a_1c1b0d69be7arow1_col3\" class=\"data row1 col3\" >0.5000</td>\n",
       "                        <td id=\"T_287e3312_0251_11ec_9f6a_1c1b0d69be7arow1_col4\" class=\"data row1 col4\" >0.1333</td>\n",
       "                        <td id=\"T_287e3312_0251_11ec_9f6a_1c1b0d69be7arow1_col5\" class=\"data row1 col5\" >0.0829</td>\n",
       "                        <td id=\"T_287e3312_0251_11ec_9f6a_1c1b0d69be7arow1_col6\" class=\"data row1 col6\" >0.1314</td>\n",
       "            </tr>\n",
       "            <tr>\n",
       "                        <th id=\"T_287e3312_0251_11ec_9f6a_1c1b0d69be7alevel0_row2\" class=\"row_heading level0 row2\" >2</th>\n",
       "                        <td id=\"T_287e3312_0251_11ec_9f6a_1c1b0d69be7arow2_col0\" class=\"data row2 col0\" >0.7937</td>\n",
       "                        <td id=\"T_287e3312_0251_11ec_9f6a_1c1b0d69be7arow2_col1\" class=\"data row2 col1\" >0.7062</td>\n",
       "                        <td id=\"T_287e3312_0251_11ec_9f6a_1c1b0d69be7arow2_col2\" class=\"data row2 col2\" >0.1538</td>\n",
       "                        <td id=\"T_287e3312_0251_11ec_9f6a_1c1b0d69be7arow2_col3\" class=\"data row2 col3\" >0.5000</td>\n",
       "                        <td id=\"T_287e3312_0251_11ec_9f6a_1c1b0d69be7arow2_col4\" class=\"data row2 col4\" >0.2353</td>\n",
       "                        <td id=\"T_287e3312_0251_11ec_9f6a_1c1b0d69be7arow2_col5\" class=\"data row2 col5\" >0.1531</td>\n",
       "                        <td id=\"T_287e3312_0251_11ec_9f6a_1c1b0d69be7arow2_col6\" class=\"data row2 col6\" >0.1889</td>\n",
       "            </tr>\n",
       "            <tr>\n",
       "                        <th id=\"T_287e3312_0251_11ec_9f6a_1c1b0d69be7alevel0_row3\" class=\"row_heading level0 row3\" >3</th>\n",
       "                        <td id=\"T_287e3312_0251_11ec_9f6a_1c1b0d69be7arow3_col0\" class=\"data row3 col0\" >0.8254</td>\n",
       "                        <td id=\"T_287e3312_0251_11ec_9f6a_1c1b0d69be7arow3_col1\" class=\"data row3 col1\" >0.8400</td>\n",
       "                        <td id=\"T_287e3312_0251_11ec_9f6a_1c1b0d69be7arow3_col2\" class=\"data row3 col2\" >0.3077</td>\n",
       "                        <td id=\"T_287e3312_0251_11ec_9f6a_1c1b0d69be7arow3_col3\" class=\"data row3 col3\" >0.6667</td>\n",
       "                        <td id=\"T_287e3312_0251_11ec_9f6a_1c1b0d69be7arow3_col4\" class=\"data row3 col4\" >0.4211</td>\n",
       "                        <td id=\"T_287e3312_0251_11ec_9f6a_1c1b0d69be7arow3_col5\" class=\"data row3 col5\" >0.3343</td>\n",
       "                        <td id=\"T_287e3312_0251_11ec_9f6a_1c1b0d69be7arow3_col6\" class=\"data row3 col6\" >0.3690</td>\n",
       "            </tr>\n",
       "            <tr>\n",
       "                        <th id=\"T_287e3312_0251_11ec_9f6a_1c1b0d69be7alevel0_row4\" class=\"row_heading level0 row4\" >4</th>\n",
       "                        <td id=\"T_287e3312_0251_11ec_9f6a_1c1b0d69be7arow4_col0\" class=\"data row4 col0\" >0.7460</td>\n",
       "                        <td id=\"T_287e3312_0251_11ec_9f6a_1c1b0d69be7arow4_col1\" class=\"data row4 col1\" >0.7915</td>\n",
       "                        <td id=\"T_287e3312_0251_11ec_9f6a_1c1b0d69be7arow4_col2\" class=\"data row4 col2\" >0.0714</td>\n",
       "                        <td id=\"T_287e3312_0251_11ec_9f6a_1c1b0d69be7arow4_col3\" class=\"data row4 col3\" >0.2500</td>\n",
       "                        <td id=\"T_287e3312_0251_11ec_9f6a_1c1b0d69be7arow4_col4\" class=\"data row4 col4\" >0.1111</td>\n",
       "                        <td id=\"T_287e3312_0251_11ec_9f6a_1c1b0d69be7arow4_col5\" class=\"data row4 col5\" >0.0137</td>\n",
       "                        <td id=\"T_287e3312_0251_11ec_9f6a_1c1b0d69be7arow4_col6\" class=\"data row4 col6\" >0.0174</td>\n",
       "            </tr>\n",
       "            <tr>\n",
       "                        <th id=\"T_287e3312_0251_11ec_9f6a_1c1b0d69be7alevel0_row5\" class=\"row_heading level0 row5\" >5</th>\n",
       "                        <td id=\"T_287e3312_0251_11ec_9f6a_1c1b0d69be7arow5_col0\" class=\"data row5 col0\" >0.7937</td>\n",
       "                        <td id=\"T_287e3312_0251_11ec_9f6a_1c1b0d69be7arow5_col1\" class=\"data row5 col1\" >0.7121</td>\n",
       "                        <td id=\"T_287e3312_0251_11ec_9f6a_1c1b0d69be7arow5_col2\" class=\"data row5 col2\" >0.1429</td>\n",
       "                        <td id=\"T_287e3312_0251_11ec_9f6a_1c1b0d69be7arow5_col3\" class=\"data row5 col3\" >0.6667</td>\n",
       "                        <td id=\"T_287e3312_0251_11ec_9f6a_1c1b0d69be7arow5_col4\" class=\"data row5 col4\" >0.2353</td>\n",
       "                        <td id=\"T_287e3312_0251_11ec_9f6a_1c1b0d69be7arow5_col5\" class=\"data row5 col5\" >0.1702</td>\n",
       "                        <td id=\"T_287e3312_0251_11ec_9f6a_1c1b0d69be7arow5_col6\" class=\"data row5 col6\" >0.2390</td>\n",
       "            </tr>\n",
       "            <tr>\n",
       "                        <th id=\"T_287e3312_0251_11ec_9f6a_1c1b0d69be7alevel0_row6\" class=\"row_heading level0 row6\" >6</th>\n",
       "                        <td id=\"T_287e3312_0251_11ec_9f6a_1c1b0d69be7arow6_col0\" class=\"data row6 col0\" >0.7619</td>\n",
       "                        <td id=\"T_287e3312_0251_11ec_9f6a_1c1b0d69be7arow6_col1\" class=\"data row6 col1\" >0.5860</td>\n",
       "                        <td id=\"T_287e3312_0251_11ec_9f6a_1c1b0d69be7arow6_col2\" class=\"data row6 col2\" >0.0714</td>\n",
       "                        <td id=\"T_287e3312_0251_11ec_9f6a_1c1b0d69be7arow6_col3\" class=\"data row6 col3\" >0.3333</td>\n",
       "                        <td id=\"T_287e3312_0251_11ec_9f6a_1c1b0d69be7arow6_col4\" class=\"data row6 col4\" >0.1176</td>\n",
       "                        <td id=\"T_287e3312_0251_11ec_9f6a_1c1b0d69be7arow6_col5\" class=\"data row6 col5\" >0.0426</td>\n",
       "                        <td id=\"T_287e3312_0251_11ec_9f6a_1c1b0d69be7arow6_col6\" class=\"data row6 col6\" >0.0598</td>\n",
       "            </tr>\n",
       "            <tr>\n",
       "                        <th id=\"T_287e3312_0251_11ec_9f6a_1c1b0d69be7alevel0_row7\" class=\"row_heading level0 row7\" >7</th>\n",
       "                        <td id=\"T_287e3312_0251_11ec_9f6a_1c1b0d69be7arow7_col0\" class=\"data row7 col0\" >0.7778</td>\n",
       "                        <td id=\"T_287e3312_0251_11ec_9f6a_1c1b0d69be7arow7_col1\" class=\"data row7 col1\" >0.6866</td>\n",
       "                        <td id=\"T_287e3312_0251_11ec_9f6a_1c1b0d69be7arow7_col2\" class=\"data row7 col2\" >0.1429</td>\n",
       "                        <td id=\"T_287e3312_0251_11ec_9f6a_1c1b0d69be7arow7_col3\" class=\"data row7 col3\" >0.5000</td>\n",
       "                        <td id=\"T_287e3312_0251_11ec_9f6a_1c1b0d69be7arow7_col4\" class=\"data row7 col4\" >0.2222</td>\n",
       "                        <td id=\"T_287e3312_0251_11ec_9f6a_1c1b0d69be7arow7_col5\" class=\"data row7 col5\" >0.1370</td>\n",
       "                        <td id=\"T_287e3312_0251_11ec_9f6a_1c1b0d69be7arow7_col6\" class=\"data row7 col6\" >0.1740</td>\n",
       "            </tr>\n",
       "            <tr>\n",
       "                        <th id=\"T_287e3312_0251_11ec_9f6a_1c1b0d69be7alevel0_row8\" class=\"row_heading level0 row8\" >8</th>\n",
       "                        <td id=\"T_287e3312_0251_11ec_9f6a_1c1b0d69be7arow8_col0\" class=\"data row8 col0\" >0.7903</td>\n",
       "                        <td id=\"T_287e3312_0251_11ec_9f6a_1c1b0d69be7arow8_col1\" class=\"data row8 col1\" >0.7096</td>\n",
       "                        <td id=\"T_287e3312_0251_11ec_9f6a_1c1b0d69be7arow8_col2\" class=\"data row8 col2\" >0.1538</td>\n",
       "                        <td id=\"T_287e3312_0251_11ec_9f6a_1c1b0d69be7arow8_col3\" class=\"data row8 col3\" >0.5000</td>\n",
       "                        <td id=\"T_287e3312_0251_11ec_9f6a_1c1b0d69be7arow8_col4\" class=\"data row8 col4\" >0.2353</td>\n",
       "                        <td id=\"T_287e3312_0251_11ec_9f6a_1c1b0d69be7arow8_col5\" class=\"data row8 col5\" >0.1516</td>\n",
       "                        <td id=\"T_287e3312_0251_11ec_9f6a_1c1b0d69be7arow8_col6\" class=\"data row8 col6\" >0.1873</td>\n",
       "            </tr>\n",
       "            <tr>\n",
       "                        <th id=\"T_287e3312_0251_11ec_9f6a_1c1b0d69be7alevel0_row9\" class=\"row_heading level0 row9\" >9</th>\n",
       "                        <td id=\"T_287e3312_0251_11ec_9f6a_1c1b0d69be7arow9_col0\" class=\"data row9 col0\" >0.8065</td>\n",
       "                        <td id=\"T_287e3312_0251_11ec_9f6a_1c1b0d69be7arow9_col1\" class=\"data row9 col1\" >0.7991</td>\n",
       "                        <td id=\"T_287e3312_0251_11ec_9f6a_1c1b0d69be7arow9_col2\" class=\"data row9 col2\" >0.2308</td>\n",
       "                        <td id=\"T_287e3312_0251_11ec_9f6a_1c1b0d69be7arow9_col3\" class=\"data row9 col3\" >0.6000</td>\n",
       "                        <td id=\"T_287e3312_0251_11ec_9f6a_1c1b0d69be7arow9_col4\" class=\"data row9 col4\" >0.3333</td>\n",
       "                        <td id=\"T_287e3312_0251_11ec_9f6a_1c1b0d69be7arow9_col5\" class=\"data row9 col5\" >0.2454</td>\n",
       "                        <td id=\"T_287e3312_0251_11ec_9f6a_1c1b0d69be7arow9_col6\" class=\"data row9 col6\" >0.2840</td>\n",
       "            </tr>\n",
       "            <tr>\n",
       "                        <th id=\"T_287e3312_0251_11ec_9f6a_1c1b0d69be7alevel0_row10\" class=\"row_heading level0 row10\" >Mean</th>\n",
       "                        <td id=\"T_287e3312_0251_11ec_9f6a_1c1b0d69be7arow10_col0\" class=\"data row10 col0\" >0.7898</td>\n",
       "                        <td id=\"T_287e3312_0251_11ec_9f6a_1c1b0d69be7arow10_col1\" class=\"data row10 col1\" >0.7278</td>\n",
       "                        <td id=\"T_287e3312_0251_11ec_9f6a_1c1b0d69be7arow10_col2\" class=\"data row10 col2\" >0.1505</td>\n",
       "                        <td id=\"T_287e3312_0251_11ec_9f6a_1c1b0d69be7arow10_col3\" class=\"data row10 col3\" >0.5183</td>\n",
       "                        <td id=\"T_287e3312_0251_11ec_9f6a_1c1b0d69be7arow10_col4\" class=\"data row10 col4\" >0.2295</td>\n",
       "                        <td id=\"T_287e3312_0251_11ec_9f6a_1c1b0d69be7arow10_col5\" class=\"data row10 col5\" >0.1518</td>\n",
       "                        <td id=\"T_287e3312_0251_11ec_9f6a_1c1b0d69be7arow10_col6\" class=\"data row10 col6\" >0.1905</td>\n",
       "            </tr>\n",
       "            <tr>\n",
       "                        <th id=\"T_287e3312_0251_11ec_9f6a_1c1b0d69be7alevel0_row11\" class=\"row_heading level0 row11\" >SD</th>\n",
       "                        <td id=\"T_287e3312_0251_11ec_9f6a_1c1b0d69be7arow11_col0\" class=\"data row11 col0\" >0.0219</td>\n",
       "                        <td id=\"T_287e3312_0251_11ec_9f6a_1c1b0d69be7arow11_col1\" class=\"data row11 col1\" >0.0777</td>\n",
       "                        <td id=\"T_287e3312_0251_11ec_9f6a_1c1b0d69be7arow11_col2\" class=\"data row11 col2\" >0.0702</td>\n",
       "                        <td id=\"T_287e3312_0251_11ec_9f6a_1c1b0d69be7arow11_col3\" class=\"data row11 col3\" >0.1343</td>\n",
       "                        <td id=\"T_287e3312_0251_11ec_9f6a_1c1b0d69be7arow11_col4\" class=\"data row11 col4\" >0.0916</td>\n",
       "                        <td id=\"T_287e3312_0251_11ec_9f6a_1c1b0d69be7arow11_col5\" class=\"data row11 col5\" >0.0892</td>\n",
       "                        <td id=\"T_287e3312_0251_11ec_9f6a_1c1b0d69be7arow11_col6\" class=\"data row11 col6\" >0.0989</td>\n",
       "            </tr>\n",
       "    </tbody></table>"
      ]
     },
     "metadata": {}
    },
    {
     "output_type": "stream",
     "name": "stderr",
     "text": [
      "INFO:logs:create_model_container: 2\n",
      "INFO:logs:master_model_container: 2\n",
      "INFO:logs:display_container: 3\n",
      "INFO:logs:RandomForestClassifier(bootstrap=True, ccp_alpha=0.0, class_weight=None,\n",
      "                       criterion='gini', max_depth=None, max_features='auto',\n",
      "                       max_leaf_nodes=None, max_samples=None,\n",
      "                       min_impurity_decrease=0.0, min_impurity_split=None,\n",
      "                       min_samples_leaf=1, min_samples_split=2,\n",
      "                       min_weight_fraction_leaf=0.0, n_estimators=10, n_jobs=-1,\n",
      "                       oob_score=False, random_state=8286, verbose=0,\n",
      "                       warm_start=False)\n",
      "INFO:logs:create_model() succesfully completed......................................\n"
     ]
    }
   ],
   "metadata": {
    "collapsed": false,
    "pycharm": {
     "name": "#%%\n"
    }
   }
  },
  {
   "cell_type": "markdown",
   "source": [
    "#### 模型调参, 使用算法为Stratified Cross Validation."
   ],
   "metadata": {
    "collapsed": false,
    "pycharm": {
     "name": "#%% md\n"
    }
   }
  },
  {
   "cell_type": "code",
   "execution_count": 6,
   "source": [
    "# TODO: 这里调参时clf中用户设定的参数也发生了改变.\r\n",
    "clf_tuned = tune_model(clf, optimize = 'F1', n_iter = 20, fold = 10, round = 4)"
   ],
   "outputs": [
    {
     "output_type": "display_data",
     "data": {
      "text/plain": [
       "<pandas.io.formats.style.Styler at 0x2330b6df4c0>"
      ],
      "text/html": [
       "<style  type=\"text/css\" >\n",
       "#T_2ba23cd5_0251_11ec_9eee_1c1b0d69be7arow10_col0,#T_2ba23cd5_0251_11ec_9eee_1c1b0d69be7arow10_col1,#T_2ba23cd5_0251_11ec_9eee_1c1b0d69be7arow10_col2,#T_2ba23cd5_0251_11ec_9eee_1c1b0d69be7arow10_col3,#T_2ba23cd5_0251_11ec_9eee_1c1b0d69be7arow10_col4,#T_2ba23cd5_0251_11ec_9eee_1c1b0d69be7arow10_col5,#T_2ba23cd5_0251_11ec_9eee_1c1b0d69be7arow10_col6{\n",
       "            background:  yellow;\n",
       "        }</style><table id=\"T_2ba23cd5_0251_11ec_9eee_1c1b0d69be7a\" ><thead>    <tr>        <th class=\"blank level0\" ></th>        <th class=\"col_heading level0 col0\" >Accuracy</th>        <th class=\"col_heading level0 col1\" >AUC</th>        <th class=\"col_heading level0 col2\" >Recall</th>        <th class=\"col_heading level0 col3\" >Prec.</th>        <th class=\"col_heading level0 col4\" >F1</th>        <th class=\"col_heading level0 col5\" >Kappa</th>        <th class=\"col_heading level0 col6\" >MCC</th>    </tr></thead><tbody>\n",
       "                <tr>\n",
       "                        <th id=\"T_2ba23cd5_0251_11ec_9eee_1c1b0d69be7alevel0_row0\" class=\"row_heading level0 row0\" >0</th>\n",
       "                        <td id=\"T_2ba23cd5_0251_11ec_9eee_1c1b0d69be7arow0_col0\" class=\"data row0 col0\" >0.7937</td>\n",
       "                        <td id=\"T_2ba23cd5_0251_11ec_9eee_1c1b0d69be7arow0_col1\" class=\"data row0 col1\" >0.7408</td>\n",
       "                        <td id=\"T_2ba23cd5_0251_11ec_9eee_1c1b0d69be7arow0_col2\" class=\"data row0 col2\" >0.0769</td>\n",
       "                        <td id=\"T_2ba23cd5_0251_11ec_9eee_1c1b0d69be7arow0_col3\" class=\"data row0 col3\" >0.5000</td>\n",
       "                        <td id=\"T_2ba23cd5_0251_11ec_9eee_1c1b0d69be7arow0_col4\" class=\"data row0 col4\" >0.1333</td>\n",
       "                        <td id=\"T_2ba23cd5_0251_11ec_9eee_1c1b0d69be7arow0_col5\" class=\"data row0 col5\" >0.0829</td>\n",
       "                        <td id=\"T_2ba23cd5_0251_11ec_9eee_1c1b0d69be7arow0_col6\" class=\"data row0 col6\" >0.1314</td>\n",
       "            </tr>\n",
       "            <tr>\n",
       "                        <th id=\"T_2ba23cd5_0251_11ec_9eee_1c1b0d69be7alevel0_row1\" class=\"row_heading level0 row1\" >1</th>\n",
       "                        <td id=\"T_2ba23cd5_0251_11ec_9eee_1c1b0d69be7arow1_col0\" class=\"data row1 col0\" >0.7937</td>\n",
       "                        <td id=\"T_2ba23cd5_0251_11ec_9eee_1c1b0d69be7arow1_col1\" class=\"data row1 col1\" >0.7154</td>\n",
       "                        <td id=\"T_2ba23cd5_0251_11ec_9eee_1c1b0d69be7arow1_col2\" class=\"data row1 col2\" >0.1538</td>\n",
       "                        <td id=\"T_2ba23cd5_0251_11ec_9eee_1c1b0d69be7arow1_col3\" class=\"data row1 col3\" >0.5000</td>\n",
       "                        <td id=\"T_2ba23cd5_0251_11ec_9eee_1c1b0d69be7arow1_col4\" class=\"data row1 col4\" >0.2353</td>\n",
       "                        <td id=\"T_2ba23cd5_0251_11ec_9eee_1c1b0d69be7arow1_col5\" class=\"data row1 col5\" >0.1531</td>\n",
       "                        <td id=\"T_2ba23cd5_0251_11ec_9eee_1c1b0d69be7arow1_col6\" class=\"data row1 col6\" >0.1889</td>\n",
       "            </tr>\n",
       "            <tr>\n",
       "                        <th id=\"T_2ba23cd5_0251_11ec_9eee_1c1b0d69be7alevel0_row2\" class=\"row_heading level0 row2\" >2</th>\n",
       "                        <td id=\"T_2ba23cd5_0251_11ec_9eee_1c1b0d69be7arow2_col0\" class=\"data row2 col0\" >0.7937</td>\n",
       "                        <td id=\"T_2ba23cd5_0251_11ec_9eee_1c1b0d69be7arow2_col1\" class=\"data row2 col1\" >0.7254</td>\n",
       "                        <td id=\"T_2ba23cd5_0251_11ec_9eee_1c1b0d69be7arow2_col2\" class=\"data row2 col2\" >0.1538</td>\n",
       "                        <td id=\"T_2ba23cd5_0251_11ec_9eee_1c1b0d69be7arow2_col3\" class=\"data row2 col3\" >0.5000</td>\n",
       "                        <td id=\"T_2ba23cd5_0251_11ec_9eee_1c1b0d69be7arow2_col4\" class=\"data row2 col4\" >0.2353</td>\n",
       "                        <td id=\"T_2ba23cd5_0251_11ec_9eee_1c1b0d69be7arow2_col5\" class=\"data row2 col5\" >0.1531</td>\n",
       "                        <td id=\"T_2ba23cd5_0251_11ec_9eee_1c1b0d69be7arow2_col6\" class=\"data row2 col6\" >0.1889</td>\n",
       "            </tr>\n",
       "            <tr>\n",
       "                        <th id=\"T_2ba23cd5_0251_11ec_9eee_1c1b0d69be7alevel0_row3\" class=\"row_heading level0 row3\" >3</th>\n",
       "                        <td id=\"T_2ba23cd5_0251_11ec_9eee_1c1b0d69be7arow3_col0\" class=\"data row3 col0\" >0.7937</td>\n",
       "                        <td id=\"T_2ba23cd5_0251_11ec_9eee_1c1b0d69be7arow3_col1\" class=\"data row3 col1\" >0.8600</td>\n",
       "                        <td id=\"T_2ba23cd5_0251_11ec_9eee_1c1b0d69be7arow3_col2\" class=\"data row3 col2\" >0.1538</td>\n",
       "                        <td id=\"T_2ba23cd5_0251_11ec_9eee_1c1b0d69be7arow3_col3\" class=\"data row3 col3\" >0.5000</td>\n",
       "                        <td id=\"T_2ba23cd5_0251_11ec_9eee_1c1b0d69be7arow3_col4\" class=\"data row3 col4\" >0.2353</td>\n",
       "                        <td id=\"T_2ba23cd5_0251_11ec_9eee_1c1b0d69be7arow3_col5\" class=\"data row3 col5\" >0.1531</td>\n",
       "                        <td id=\"T_2ba23cd5_0251_11ec_9eee_1c1b0d69be7arow3_col6\" class=\"data row3 col6\" >0.1889</td>\n",
       "            </tr>\n",
       "            <tr>\n",
       "                        <th id=\"T_2ba23cd5_0251_11ec_9eee_1c1b0d69be7alevel0_row4\" class=\"row_heading level0 row4\" >4</th>\n",
       "                        <td id=\"T_2ba23cd5_0251_11ec_9eee_1c1b0d69be7arow4_col0\" class=\"data row4 col0\" >0.7460</td>\n",
       "                        <td id=\"T_2ba23cd5_0251_11ec_9eee_1c1b0d69be7arow4_col1\" class=\"data row4 col1\" >0.7930</td>\n",
       "                        <td id=\"T_2ba23cd5_0251_11ec_9eee_1c1b0d69be7arow4_col2\" class=\"data row4 col2\" >0.1429</td>\n",
       "                        <td id=\"T_2ba23cd5_0251_11ec_9eee_1c1b0d69be7arow4_col3\" class=\"data row4 col3\" >0.3333</td>\n",
       "                        <td id=\"T_2ba23cd5_0251_11ec_9eee_1c1b0d69be7arow4_col4\" class=\"data row4 col4\" >0.2000</td>\n",
       "                        <td id=\"T_2ba23cd5_0251_11ec_9eee_1c1b0d69be7arow4_col5\" class=\"data row4 col5\" >0.0769</td>\n",
       "                        <td id=\"T_2ba23cd5_0251_11ec_9eee_1c1b0d69be7arow4_col6\" class=\"data row4 col6\" >0.0867</td>\n",
       "            </tr>\n",
       "            <tr>\n",
       "                        <th id=\"T_2ba23cd5_0251_11ec_9eee_1c1b0d69be7alevel0_row5\" class=\"row_heading level0 row5\" >5</th>\n",
       "                        <td id=\"T_2ba23cd5_0251_11ec_9eee_1c1b0d69be7arow5_col0\" class=\"data row5 col0\" >0.8254</td>\n",
       "                        <td id=\"T_2ba23cd5_0251_11ec_9eee_1c1b0d69be7arow5_col1\" class=\"data row5 col1\" >0.8105</td>\n",
       "                        <td id=\"T_2ba23cd5_0251_11ec_9eee_1c1b0d69be7arow5_col2\" class=\"data row5 col2\" >0.3571</td>\n",
       "                        <td id=\"T_2ba23cd5_0251_11ec_9eee_1c1b0d69be7arow5_col3\" class=\"data row5 col3\" >0.7143</td>\n",
       "                        <td id=\"T_2ba23cd5_0251_11ec_9eee_1c1b0d69be7arow5_col4\" class=\"data row5 col4\" >0.4762</td>\n",
       "                        <td id=\"T_2ba23cd5_0251_11ec_9eee_1c1b0d69be7arow5_col5\" class=\"data row5 col5\" >0.3851</td>\n",
       "                        <td id=\"T_2ba23cd5_0251_11ec_9eee_1c1b0d69be7arow5_col6\" class=\"data row5 col6\" >0.4185</td>\n",
       "            </tr>\n",
       "            <tr>\n",
       "                        <th id=\"T_2ba23cd5_0251_11ec_9eee_1c1b0d69be7alevel0_row6\" class=\"row_heading level0 row6\" >6</th>\n",
       "                        <td id=\"T_2ba23cd5_0251_11ec_9eee_1c1b0d69be7arow6_col0\" class=\"data row6 col0\" >0.7619</td>\n",
       "                        <td id=\"T_2ba23cd5_0251_11ec_9eee_1c1b0d69be7arow6_col1\" class=\"data row6 col1\" >0.7325</td>\n",
       "                        <td id=\"T_2ba23cd5_0251_11ec_9eee_1c1b0d69be7arow6_col2\" class=\"data row6 col2\" >0.0714</td>\n",
       "                        <td id=\"T_2ba23cd5_0251_11ec_9eee_1c1b0d69be7arow6_col3\" class=\"data row6 col3\" >0.3333</td>\n",
       "                        <td id=\"T_2ba23cd5_0251_11ec_9eee_1c1b0d69be7arow6_col4\" class=\"data row6 col4\" >0.1176</td>\n",
       "                        <td id=\"T_2ba23cd5_0251_11ec_9eee_1c1b0d69be7arow6_col5\" class=\"data row6 col5\" >0.0426</td>\n",
       "                        <td id=\"T_2ba23cd5_0251_11ec_9eee_1c1b0d69be7arow6_col6\" class=\"data row6 col6\" >0.0598</td>\n",
       "            </tr>\n",
       "            <tr>\n",
       "                        <th id=\"T_2ba23cd5_0251_11ec_9eee_1c1b0d69be7alevel0_row7\" class=\"row_heading level0 row7\" >7</th>\n",
       "                        <td id=\"T_2ba23cd5_0251_11ec_9eee_1c1b0d69be7arow7_col0\" class=\"data row7 col0\" >0.7778</td>\n",
       "                        <td id=\"T_2ba23cd5_0251_11ec_9eee_1c1b0d69be7arow7_col1\" class=\"data row7 col1\" >0.7988</td>\n",
       "                        <td id=\"T_2ba23cd5_0251_11ec_9eee_1c1b0d69be7arow7_col2\" class=\"data row7 col2\" >0.1429</td>\n",
       "                        <td id=\"T_2ba23cd5_0251_11ec_9eee_1c1b0d69be7arow7_col3\" class=\"data row7 col3\" >0.5000</td>\n",
       "                        <td id=\"T_2ba23cd5_0251_11ec_9eee_1c1b0d69be7arow7_col4\" class=\"data row7 col4\" >0.2222</td>\n",
       "                        <td id=\"T_2ba23cd5_0251_11ec_9eee_1c1b0d69be7arow7_col5\" class=\"data row7 col5\" >0.1370</td>\n",
       "                        <td id=\"T_2ba23cd5_0251_11ec_9eee_1c1b0d69be7arow7_col6\" class=\"data row7 col6\" >0.1740</td>\n",
       "            </tr>\n",
       "            <tr>\n",
       "                        <th id=\"T_2ba23cd5_0251_11ec_9eee_1c1b0d69be7alevel0_row8\" class=\"row_heading level0 row8\" >8</th>\n",
       "                        <td id=\"T_2ba23cd5_0251_11ec_9eee_1c1b0d69be7arow8_col0\" class=\"data row8 col0\" >0.8065</td>\n",
       "                        <td id=\"T_2ba23cd5_0251_11ec_9eee_1c1b0d69be7arow8_col1\" class=\"data row8 col1\" >0.8250</td>\n",
       "                        <td id=\"T_2ba23cd5_0251_11ec_9eee_1c1b0d69be7arow8_col2\" class=\"data row8 col2\" >0.3846</td>\n",
       "                        <td id=\"T_2ba23cd5_0251_11ec_9eee_1c1b0d69be7arow8_col3\" class=\"data row8 col3\" >0.5556</td>\n",
       "                        <td id=\"T_2ba23cd5_0251_11ec_9eee_1c1b0d69be7arow8_col4\" class=\"data row8 col4\" >0.4545</td>\n",
       "                        <td id=\"T_2ba23cd5_0251_11ec_9eee_1c1b0d69be7arow8_col5\" class=\"data row8 col5\" >0.3416</td>\n",
       "                        <td id=\"T_2ba23cd5_0251_11ec_9eee_1c1b0d69be7arow8_col6\" class=\"data row8 col6\" >0.3501</td>\n",
       "            </tr>\n",
       "            <tr>\n",
       "                        <th id=\"T_2ba23cd5_0251_11ec_9eee_1c1b0d69be7alevel0_row9\" class=\"row_heading level0 row9\" >9</th>\n",
       "                        <td id=\"T_2ba23cd5_0251_11ec_9eee_1c1b0d69be7arow9_col0\" class=\"data row9 col0\" >0.8387</td>\n",
       "                        <td id=\"T_2ba23cd5_0251_11ec_9eee_1c1b0d69be7arow9_col1\" class=\"data row9 col1\" >0.7975</td>\n",
       "                        <td id=\"T_2ba23cd5_0251_11ec_9eee_1c1b0d69be7arow9_col2\" class=\"data row9 col2\" >0.3077</td>\n",
       "                        <td id=\"T_2ba23cd5_0251_11ec_9eee_1c1b0d69be7arow9_col3\" class=\"data row9 col3\" >0.8000</td>\n",
       "                        <td id=\"T_2ba23cd5_0251_11ec_9eee_1c1b0d69be7arow9_col4\" class=\"data row9 col4\" >0.4444</td>\n",
       "                        <td id=\"T_2ba23cd5_0251_11ec_9eee_1c1b0d69be7arow9_col5\" class=\"data row9 col5\" >0.3712</td>\n",
       "                        <td id=\"T_2ba23cd5_0251_11ec_9eee_1c1b0d69be7arow9_col6\" class=\"data row9 col6\" >0.4295</td>\n",
       "            </tr>\n",
       "            <tr>\n",
       "                        <th id=\"T_2ba23cd5_0251_11ec_9eee_1c1b0d69be7alevel0_row10\" class=\"row_heading level0 row10\" >Mean</th>\n",
       "                        <td id=\"T_2ba23cd5_0251_11ec_9eee_1c1b0d69be7arow10_col0\" class=\"data row10 col0\" >0.7931</td>\n",
       "                        <td id=\"T_2ba23cd5_0251_11ec_9eee_1c1b0d69be7arow10_col1\" class=\"data row10 col1\" >0.7799</td>\n",
       "                        <td id=\"T_2ba23cd5_0251_11ec_9eee_1c1b0d69be7arow10_col2\" class=\"data row10 col2\" >0.1945</td>\n",
       "                        <td id=\"T_2ba23cd5_0251_11ec_9eee_1c1b0d69be7arow10_col3\" class=\"data row10 col3\" >0.5237</td>\n",
       "                        <td id=\"T_2ba23cd5_0251_11ec_9eee_1c1b0d69be7arow10_col4\" class=\"data row10 col4\" >0.2754</td>\n",
       "                        <td id=\"T_2ba23cd5_0251_11ec_9eee_1c1b0d69be7arow10_col5\" class=\"data row10 col5\" >0.1896</td>\n",
       "                        <td id=\"T_2ba23cd5_0251_11ec_9eee_1c1b0d69be7arow10_col6\" class=\"data row10 col6\" >0.2217</td>\n",
       "            </tr>\n",
       "            <tr>\n",
       "                        <th id=\"T_2ba23cd5_0251_11ec_9eee_1c1b0d69be7alevel0_row11\" class=\"row_heading level0 row11\" >SD</th>\n",
       "                        <td id=\"T_2ba23cd5_0251_11ec_9eee_1c1b0d69be7arow11_col0\" class=\"data row11 col0\" >0.0259</td>\n",
       "                        <td id=\"T_2ba23cd5_0251_11ec_9eee_1c1b0d69be7arow11_col1\" class=\"data row11 col1\" >0.0460</td>\n",
       "                        <td id=\"T_2ba23cd5_0251_11ec_9eee_1c1b0d69be7arow11_col2\" class=\"data row11 col2\" >0.1071</td>\n",
       "                        <td id=\"T_2ba23cd5_0251_11ec_9eee_1c1b0d69be7arow11_col3\" class=\"data row11 col3\" >0.1375</td>\n",
       "                        <td id=\"T_2ba23cd5_0251_11ec_9eee_1c1b0d69be7arow11_col4\" class=\"data row11 col4\" >0.1263</td>\n",
       "                        <td id=\"T_2ba23cd5_0251_11ec_9eee_1c1b0d69be7arow11_col5\" class=\"data row11 col5\" >0.1212</td>\n",
       "                        <td id=\"T_2ba23cd5_0251_11ec_9eee_1c1b0d69be7arow11_col6\" class=\"data row11 col6\" >0.1251</td>\n",
       "            </tr>\n",
       "    </tbody></table>"
      ]
     },
     "metadata": {}
    },
    {
     "output_type": "stream",
     "name": "stderr",
     "text": [
      "INFO:logs:create_model_container: 3\n",
      "INFO:logs:master_model_container: 3\n",
      "INFO:logs:display_container: 4\n",
      "INFO:logs:RandomForestClassifier(bootstrap=False, ccp_alpha=0.0, class_weight=None,\n",
      "                       criterion='gini', max_depth=30, max_features='auto',\n",
      "                       max_leaf_nodes=None, max_samples=None,\n",
      "                       min_impurity_decrease=0.0, min_impurity_split=None,\n",
      "                       min_samples_leaf=1, min_samples_split=5,\n",
      "                       min_weight_fraction_leaf=0.0, n_estimators=30, n_jobs=-1,\n",
      "                       oob_score=False, random_state=8286, verbose=0,\n",
      "                       warm_start=False)\n",
      "INFO:logs:tune_model() succesfully completed......................................\n"
     ]
    }
   ],
   "metadata": {
    "collapsed": false,
    "pycharm": {
     "name": "#%%\n"
    }
   }
  },
  {
   "cell_type": "markdown",
   "source": [
    "#### 模型评估.\n",
    "\n",
    "提供了Hyperparameters, AUC, Confusion Matrix, Threshold, PR Curve, Error, Class\n",
    "Report, Feature Selection, Learning Curve, Manifold Learning, etc., 功能比较强."
   ],
   "metadata": {
    "collapsed": false,
    "pycharm": {
     "name": "#%% md\n"
    }
   }
  },
  {
   "cell_type": "code",
   "execution_count": 7,
   "source": [
    "# plot_model(clf_tuned, plot = 'auc')\r\n",
    "evaluate_model(clf_tuned)\r\n"
   ],
   "outputs": [
    {
     "output_type": "display_data",
     "data": {
      "text/plain": [
       "interactive(children=(ToggleButtons(description='Plot Type:', icons=('',), options=(('Hyperparameters', 'param…"
      ],
      "application/vnd.jupyter.widget-view+json": {
       "version_major": 2,
       "version_minor": 0,
       "model_id": "a0c1ff36034341b5995896f417d88dec"
      }
     },
     "metadata": {}
    },
    {
     "output_type": "display_data",
     "data": {
      "text/plain": [
       "IntProgress(value=0, description='Processing: ', max=5)"
      ],
      "application/vnd.jupyter.widget-view+json": {
       "version_major": 2,
       "version_minor": 0,
       "model_id": "715c3a07cf514028952a6d1e5a277343"
      }
     },
     "metadata": {}
    }
   ],
   "metadata": {
    "collapsed": false,
    "pycharm": {
     "name": "#%%\n"
    }
   }
  },
  {
   "cell_type": "markdown",
   "source": [
    "#### 模型解释"
   ],
   "metadata": {
    "collapsed": false,
    "pycharm": {
     "name": "#%% md\n"
    }
   }
  },
  {
   "cell_type": "code",
   "execution_count": 8,
   "source": [
    "# TODO: 偶尔会报错, 网上查说可能是shap的bug.\n",
    "# 该方法是基于树的解释方法, 只适用于树模型.\n",
    "# interpret_model(clf_tuned)\n",
    "interpret_model(clf_tuned, plot = 'correlation')\n",
    "# interpret_model(clf_tuned, plot = 'reason', observation = 0)"
   ],
   "outputs": [
    {
     "output_type": "stream",
     "name": "stderr",
     "text": [
      "INFO:logs:Initializing interpret_model()\n",
      "INFO:logs:interpret_model(estimator=RandomForestClassifier(bootstrap=False, ccp_alpha=0.0, class_weight=None,\n",
      "                       criterion='gini', max_depth=30, max_features='auto',\n",
      "                       max_leaf_nodes=None, max_samples=None,\n",
      "                       min_impurity_decrease=0.0, min_impurity_split=None,\n",
      "                       min_samples_leaf=1, min_samples_split=5,\n",
      "                       min_weight_fraction_leaf=0.0, n_estimators=30, n_jobs=-1,\n",
      "                       oob_score=False, random_state=8286, verbose=0,\n",
      "                       warm_start=False), plot=correlation, feature=None, observation=None)\n",
      "INFO:logs:Checking exceptions\n",
      "INFO:logs:Importing libraries\n",
      "INFO:logs:plot type: correlation\n",
      "WARNING:logs:No feature passed. Default value of feature used for correlation plot: AGE\n",
      "INFO:logs:model type detected: type 1\n",
      "INFO:logs:Creating TreeExplainer\n",
      "INFO:logs:Compiling shap values\n"
     ]
    },
    {
     "output_type": "display_data",
     "data": {
      "text/plain": [
       "<Figure size 540x360 with 2 Axes>"
      ],
      "image/png": "[encoded data removed]"
     },
     "metadata": {
      "needs_background": "light"
     }
    },
    {
     "output_type": "stream",
     "name": "stderr",
     "text": [
      "INFO:logs:Visual Rendered Successfully\n",
      "INFO:logs:interpret_model() succesfully completed......................................\n"
     ]
    }
   ],
   "metadata": {
    "collapsed": false,
    "pycharm": {
     "name": "#%%\n"
    }
   }
  },
  {
   "cell_type": "markdown",
   "source": [
    "## MLFlow UI"
   ],
   "metadata": {
    "collapsed": false,
    "pycharm": {
     "name": "#%% md\n"
    }
   }
  },
  {
   "cell_type": "code",
   "execution_count": 9,
   "source": [
    "# TODO: 功能不明.\n",
    "# !mlflow ui"
   ],
   "outputs": [],
   "metadata": {
    "collapsed": false,
    "pycharm": {
     "name": "#%%\n"
    }
   }
  }
 ],
 "metadata": {
  "kernelspec": {
   "name": "python3",
   "display_name": "Python 3.8.5 64-bit ('base': conda)"
  },
  "language_info": {
   "name": "python",
   "version": "3.8.5",
   "mimetype": "text/x-python",
   "codemirror_mode": {
    "name": "ipython",
    "version": 3
   },
   "pygments_lexer": "ipython3",
   "nbconvert_exporter": "python",
   "file_extension": ".py"
  },
  "interpreter": {
   "hash": "96eb50e1d44aed467dc8f759cb08c32fbfa9babcf79c554e2d0e5feb04653a10"
  }
 },
 "nbformat": 4,
 "nbformat_minor": 2
}