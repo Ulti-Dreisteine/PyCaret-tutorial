{
 "cells": [
  {
   "cell_type": "markdown",
   "source": [
    "## 载入配置"
   ],
   "metadata": {
    "collapsed": false,
    "pycharm": {
     "name": "#%% md\n"
    }
   }
  },
  {
   "cell_type": "code",
   "execution_count": 1,
   "metadata": {
    "collapsed": true
   },
   "outputs": [
    {
     "name": "stdout",
     "output_type": "stream",
     "text": [
      "Use environmental variables in default.yml\n"
     ]
    }
   ],
   "source": [
    "from pycaret.classification import setup, compare_models, create_model, tune_model, plot_model, evaluate_model, interpret_model\n",
    "import pandas as pd\n",
    "import sys, os\n",
    "\n",
    "sys.path.append('../')\n",
    "\n",
    "from src import proj_dir"
   ]
  },
  {
   "cell_type": "markdown",
   "source": [
    "## 载入测试数据"
   ],
   "metadata": {
    "collapsed": false,
    "pycharm": {
     "name": "#%% md\n"
    }
   }
  },
  {
   "cell_type": "code",
   "execution_count": 2,
   "outputs": [],
   "source": [
    "data = pd.read_csv(os.path.join(proj_dir, 'data/local_test/patient_data.csv'))\n",
    "data.drop('INPATIENT_ID', axis = 1, inplace = True)\n",
    "\n",
    "numeric_cols = [\n",
    "    'AGE', 'ISS', 'CAPRINI_SCORE', 'T', 'P', 'R', 'MBP', 'SHOCK_INDEX', 'HEIGHT', 'WEIGHT',\n",
    "    'BMI', 'RBC', 'HGB', 'PLT', 'WBC', 'ALB', 'CRE', 'UA', 'AST', 'ALT', 'GLU', 'TG', 'CHO',\n",
    "    'CA', 'MG', 'LDL', 'NA', 'K', 'CL', 'GFR', 'PT', 'FIB', 'DD', 'CK', 'INR'\n",
    "]\n",
    "\n",
    "categoric_cols = [p for p in list(data.columns) if p not in ['VTE'] + numeric_cols]\n",
    "\n",
    "for col in data.columns:\n",
    "    if col == 'VTE':\n",
    "        data[col] = data[col].apply(lambda x: 'pos' if x == 1 else 'neg')\n",
    "    elif col in categoric_cols:\n",
    "        data[col] = data[col].astype(int)\n",
    "    elif col in numeric_cols:\n",
    "        data[col] = data[col].astype(float)\n",
    "    else:\n",
    "        pass"
   ],
   "metadata": {
    "collapsed": false,
    "pycharm": {
     "name": "#%%\n"
    }
   }
  },
  {
   "cell_type": "markdown",
   "source": [
    "## 创建分类模型\n",
    "\n",
    "* numeric_features和categorical_features里不包括target.\n",
    "* 可以在这里进行数据和特征处理."
   ],
   "metadata": {
    "collapsed": false,
    "pycharm": {
     "name": "#%% md\n"
    }
   }
  },
  {
   "cell_type": "code",
   "execution_count": 3,
   "outputs": [
    {
     "name": "stderr",
     "output_type": "stream",
     "text": [
      "INFO:logs:create_model_container 0\n",
      "INFO:logs:master_model_container 0\n",
      "INFO:logs:display_container 0\n",
      "INFO:logs:Pipeline(memory=None,\n",
      "         steps=[('dtypes',\n",
      "                 DataTypes_Auto_infer(categorical_features=['CHEMOPROPHYLAXIS',\n",
      "                                                            'SEX', 'SURGERY',\n",
      "                                                            'CVC', 'ICU_STAY',\n",
      "                                                            'OPEN_INJURY',\n",
      "                                                            'INJURY_TYPE',\n",
      "                                                            'INJURY_CAUSE_fall',\n",
      "                                                            'INJURY_CAUSE_traffic '\n",
      "                                                            'accident',\n",
      "                                                            'INJURY_CAUSE_high '\n",
      "                                                            'fall',\n",
      "                                                            'INJURY_CAUSE_other',\n",
      "                                                            'INJURY_CAUSE_crush',\n",
      "                                                            'INJURY_CAUSE_machine',\n",
      "                                                            'INJURY_CAUSE_firearm',\n",
      "                                                            'INJURY_CAUSE_sharp '\n",
      "                                                            'i...\n",
      "                ('binn', Empty()), ('rem_outliers', Empty()),\n",
      "                ('cluster_all', Empty()), ('dummy', Dummify(target='VTE')),\n",
      "                ('fix_perfect', Empty()), ('clean_names', Clean_Colum_Names()),\n",
      "                ('feature_select', Empty()),\n",
      "                ('fix_multi',\n",
      "                 Fix_multicollinearity(correlation_with_target_preference=None,\n",
      "                                       correlation_with_target_threshold=0.0,\n",
      "                                       target_variable='VTE', threshold=0.6)),\n",
      "                ('dfs', Empty()), ('pca', Empty())],\n",
      "         verbose=False)\n",
      "INFO:logs:setup() succesfully completed......................................\n"
     ]
    }
   ],
   "source": [
    "task = setup(\n",
    "    data,\n",
    "    target = 'VTE',\n",
    "    numeric_features = numeric_cols,\n",
    "    categorical_features = categoric_cols,\n",
    "    verbose = False,\n",
    "    remove_multicollinearity = True,\n",
    "    multicollinearity_threshold = 0.6,\n",
    "    ignore_low_variance = True,\n",
    ")"
   ],
   "metadata": {
    "collapsed": false,
    "pycharm": {
     "name": "#%%\n"
    }
   }
  },
  {
   "cell_type": "markdown",
   "source": [
    "## 模型比较\n",
    "\n",
    "自动打印各模型各指标对比表.\n",
    "创建模型和训练调参.\n",
    "\n",
    "|ID|Name|\n",
    "|:--:|:--:|\n",
    "|lr       |Logistic Regression            |\n",
    "|knn      |K Nearest Neighbour            |\n",
    "|nb       |Naive Bayes                    |\n",
    "|dt       |Decision Tree Classifier       |\n",
    "|svm      |SVM - Linear Kernel            |\n",
    "|rbfsvm   |SVM - Radial Kernel            |\n",
    "|gpc      |Gaussian Process Classifier    |\n",
    "|mlp      |Multi Level Perceptron         |\n",
    "|ridge    |Ridge Classifier               |\n",
    "|rf       |Random Forest Classifier       |\n",
    "|qda      |Quadratic Discriminant Analysis|\n",
    "|ada      |Ada Boost Classifier           |\n",
    "|gbc      |Gradient Boosting Classifier   |\n",
    "|lda      |Linear Discriminant Analysis   |\n",
    "|et       |Extra Trees Classifier         |\n",
    "|xgboost  |Extreme Gradient Boosting      |\n",
    "|lightgbm |Light Gradient Boosting        |\n",
    "|catboost |CatBoost Classifier            |"
   ],
   "metadata": {
    "collapsed": false,
    "pycharm": {
     "name": "#%% md\n"
    }
   }
  },
  {
   "cell_type": "code",
   "execution_count": 4,
   "outputs": [
    {
     "data": {
      "text/plain": "<pandas.io.formats.style.Styler at 0x7faa7bc1ca60>",
      "text/html": "<style  type=\"text/css\" >\n    #T_926572da_d87d_11ea_8657_f018981e4f8b th {\n          text-align: left;\n    }    #T_926572da_d87d_11ea_8657_f018981e4f8brow0_col0 {\n            text-align:  left;\n        }    #T_926572da_d87d_11ea_8657_f018981e4f8brow0_col1 {\n            : ;\n            text-align:  left;\n        }    #T_926572da_d87d_11ea_8657_f018981e4f8brow0_col2 {\n            : ;\n            text-align:  left;\n        }    #T_926572da_d87d_11ea_8657_f018981e4f8brow0_col3 {\n            background-color:  yellow;\n            text-align:  left;\n        }    #T_926572da_d87d_11ea_8657_f018981e4f8brow0_col4 {\n            : ;\n            text-align:  left;\n        }    #T_926572da_d87d_11ea_8657_f018981e4f8brow0_col5 {\n            background-color:  yellow;\n            text-align:  left;\n        }    #T_926572da_d87d_11ea_8657_f018981e4f8brow0_col6 {\n            background-color:  yellow;\n            text-align:  left;\n        }    #T_926572da_d87d_11ea_8657_f018981e4f8brow0_col7 {\n            : ;\n            text-align:  left;\n        }    #T_926572da_d87d_11ea_8657_f018981e4f8brow0_col8 {\n            background-color:  lightgrey;\n            text-align:  left;\n        }    #T_926572da_d87d_11ea_8657_f018981e4f8brow1_col0 {\n            text-align:  left;\n        }    #T_926572da_d87d_11ea_8657_f018981e4f8brow1_col1 {\n            background-color:  yellow;\n            text-align:  left;\n        }    #T_926572da_d87d_11ea_8657_f018981e4f8brow1_col2 {\n            : ;\n            text-align:  left;\n        }    #T_926572da_d87d_11ea_8657_f018981e4f8brow1_col3 {\n            : ;\n            text-align:  left;\n        }    #T_926572da_d87d_11ea_8657_f018981e4f8brow1_col4 {\n            background-color:  yellow;\n            text-align:  left;\n        }    #T_926572da_d87d_11ea_8657_f018981e4f8brow1_col5 {\n            : ;\n            text-align:  left;\n        }    #T_926572da_d87d_11ea_8657_f018981e4f8brow1_col6 {\n            : ;\n            text-align:  left;\n        }    #T_926572da_d87d_11ea_8657_f018981e4f8brow1_col7 {\n            background-color:  yellow;\n            text-align:  left;\n        }    #T_926572da_d87d_11ea_8657_f018981e4f8brow1_col8 {\n            background-color:  lightgrey;\n            text-align:  left;\n        }    #T_926572da_d87d_11ea_8657_f018981e4f8brow2_col0 {\n            text-align:  left;\n        }    #T_926572da_d87d_11ea_8657_f018981e4f8brow2_col1 {\n            : ;\n            text-align:  left;\n        }    #T_926572da_d87d_11ea_8657_f018981e4f8brow2_col2 {\n            background-color:  yellow;\n            text-align:  left;\n        }    #T_926572da_d87d_11ea_8657_f018981e4f8brow2_col3 {\n            : ;\n            text-align:  left;\n        }    #T_926572da_d87d_11ea_8657_f018981e4f8brow2_col4 {\n            : ;\n            text-align:  left;\n        }    #T_926572da_d87d_11ea_8657_f018981e4f8brow2_col5 {\n            : ;\n            text-align:  left;\n        }    #T_926572da_d87d_11ea_8657_f018981e4f8brow2_col6 {\n            : ;\n            text-align:  left;\n        }    #T_926572da_d87d_11ea_8657_f018981e4f8brow2_col7 {\n            : ;\n            text-align:  left;\n        }    #T_926572da_d87d_11ea_8657_f018981e4f8brow2_col8 {\n            background-color:  lightgrey;\n            text-align:  left;\n        }    #T_926572da_d87d_11ea_8657_f018981e4f8brow3_col0 {\n            text-align:  left;\n        }    #T_926572da_d87d_11ea_8657_f018981e4f8brow3_col1 {\n            : ;\n            text-align:  left;\n        }    #T_926572da_d87d_11ea_8657_f018981e4f8brow3_col2 {\n            : ;\n            text-align:  left;\n        }    #T_926572da_d87d_11ea_8657_f018981e4f8brow3_col3 {\n            : ;\n            text-align:  left;\n        }    #T_926572da_d87d_11ea_8657_f018981e4f8brow3_col4 {\n            : ;\n            text-align:  left;\n        }    #T_926572da_d87d_11ea_8657_f018981e4f8brow3_col5 {\n            : ;\n            text-align:  left;\n        }    #T_926572da_d87d_11ea_8657_f018981e4f8brow3_col6 {\n            : ;\n            text-align:  left;\n        }    #T_926572da_d87d_11ea_8657_f018981e4f8brow3_col7 {\n            : ;\n            text-align:  left;\n        }    #T_926572da_d87d_11ea_8657_f018981e4f8brow3_col8 {\n            background-color:  lightgrey;\n            text-align:  left;\n        }</style><table id=\"T_926572da_d87d_11ea_8657_f018981e4f8b\" ><thead>    <tr>        <th class=\"blank level0\" ></th>        <th class=\"col_heading level0 col0\" >Model</th>        <th class=\"col_heading level0 col1\" >Accuracy</th>        <th class=\"col_heading level0 col2\" >AUC</th>        <th class=\"col_heading level0 col3\" >Recall</th>        <th class=\"col_heading level0 col4\" >Prec.</th>        <th class=\"col_heading level0 col5\" >F1</th>        <th class=\"col_heading level0 col6\" >Kappa</th>        <th class=\"col_heading level0 col7\" >MCC</th>        <th class=\"col_heading level0 col8\" >TT (Sec)</th>    </tr></thead><tbody>\n                <tr>\n                        <th id=\"T_926572da_d87d_11ea_8657_f018981e4f8blevel0_row0\" class=\"row_heading level0 row0\" >0</th>\n                        <td id=\"T_926572da_d87d_11ea_8657_f018981e4f8brow0_col0\" class=\"data row0 col0\" >Extreme Gradient Boosting</td>\n                        <td id=\"T_926572da_d87d_11ea_8657_f018981e4f8brow0_col1\" class=\"data row0 col1\" >0.7754</td>\n                        <td id=\"T_926572da_d87d_11ea_8657_f018981e4f8brow0_col2\" class=\"data row0 col2\" >0.7253</td>\n                        <td id=\"T_926572da_d87d_11ea_8657_f018981e4f8brow0_col3\" class=\"data row0 col3\" >0.2319</td>\n                        <td id=\"T_926572da_d87d_11ea_8657_f018981e4f8brow0_col4\" class=\"data row0 col4\" >0.4844</td>\n                        <td id=\"T_926572da_d87d_11ea_8657_f018981e4f8brow0_col5\" class=\"data row0 col5\" >0.3071</td>\n                        <td id=\"T_926572da_d87d_11ea_8657_f018981e4f8brow0_col6\" class=\"data row0 col6\" >0.1909</td>\n                        <td id=\"T_926572da_d87d_11ea_8657_f018981e4f8brow0_col7\" class=\"data row0 col7\" >0.2137</td>\n                        <td id=\"T_926572da_d87d_11ea_8657_f018981e4f8brow0_col8\" class=\"data row0 col8\" >0.1909</td>\n            </tr>\n            <tr>\n                        <th id=\"T_926572da_d87d_11ea_8657_f018981e4f8blevel0_row1\" class=\"row_heading level0 row1\" >1</th>\n                        <td id=\"T_926572da_d87d_11ea_8657_f018981e4f8brow1_col0\" class=\"data row1 col0\" >Ridge Classifier</td>\n                        <td id=\"T_926572da_d87d_11ea_8657_f018981e4f8brow1_col1\" class=\"data row1 col1\" >0.7898</td>\n                        <td id=\"T_926572da_d87d_11ea_8657_f018981e4f8brow1_col2\" class=\"data row1 col2\" >0.0000</td>\n                        <td id=\"T_926572da_d87d_11ea_8657_f018981e4f8brow1_col3\" class=\"data row1 col3\" >0.1802</td>\n                        <td id=\"T_926572da_d87d_11ea_8657_f018981e4f8brow1_col4\" class=\"data row1 col4\" >0.5438</td>\n                        <td id=\"T_926572da_d87d_11ea_8657_f018981e4f8brow1_col5\" class=\"data row1 col5\" >0.2620</td>\n                        <td id=\"T_926572da_d87d_11ea_8657_f018981e4f8brow1_col6\" class=\"data row1 col6\" >0.1755</td>\n                        <td id=\"T_926572da_d87d_11ea_8657_f018981e4f8brow1_col7\" class=\"data row1 col7\" >0.2144</td>\n                        <td id=\"T_926572da_d87d_11ea_8657_f018981e4f8brow1_col8\" class=\"data row1 col8\" >0.0099</td>\n            </tr>\n            <tr>\n                        <th id=\"T_926572da_d87d_11ea_8657_f018981e4f8blevel0_row2\" class=\"row_heading level0 row2\" >2</th>\n                        <td id=\"T_926572da_d87d_11ea_8657_f018981e4f8brow2_col0\" class=\"data row2 col0\" >Logistic Regression</td>\n                        <td id=\"T_926572da_d87d_11ea_8657_f018981e4f8brow2_col1\" class=\"data row2 col1\" >0.7802</td>\n                        <td id=\"T_926572da_d87d_11ea_8657_f018981e4f8brow2_col2\" class=\"data row2 col2\" >0.7477</td>\n                        <td id=\"T_926572da_d87d_11ea_8657_f018981e4f8brow2_col3\" class=\"data row2 col3\" >0.1780</td>\n                        <td id=\"T_926572da_d87d_11ea_8657_f018981e4f8brow2_col4\" class=\"data row2 col4\" >0.5021</td>\n                        <td id=\"T_926572da_d87d_11ea_8657_f018981e4f8brow2_col5\" class=\"data row2 col5\" >0.2559</td>\n                        <td id=\"T_926572da_d87d_11ea_8657_f018981e4f8brow2_col6\" class=\"data row2 col6\" >0.1575</td>\n                        <td id=\"T_926572da_d87d_11ea_8657_f018981e4f8brow2_col7\" class=\"data row2 col7\" >0.1914</td>\n                        <td id=\"T_926572da_d87d_11ea_8657_f018981e4f8brow2_col8\" class=\"data row2 col8\" >0.0422</td>\n            </tr>\n            <tr>\n                        <th id=\"T_926572da_d87d_11ea_8657_f018981e4f8blevel0_row3\" class=\"row_heading level0 row3\" >3</th>\n                        <td id=\"T_926572da_d87d_11ea_8657_f018981e4f8brow3_col0\" class=\"data row3 col0\" >Random Forest Classifier</td>\n                        <td id=\"T_926572da_d87d_11ea_8657_f018981e4f8brow3_col1\" class=\"data row3 col1\" >0.7834</td>\n                        <td id=\"T_926572da_d87d_11ea_8657_f018981e4f8brow3_col2\" class=\"data row3 col2\" >0.7108</td>\n                        <td id=\"T_926572da_d87d_11ea_8657_f018981e4f8brow3_col3\" class=\"data row3 col3\" >0.1198</td>\n                        <td id=\"T_926572da_d87d_11ea_8657_f018981e4f8brow3_col4\" class=\"data row3 col4\" >0.4425</td>\n                        <td id=\"T_926572da_d87d_11ea_8657_f018981e4f8brow3_col5\" class=\"data row3 col5\" >0.1803</td>\n                        <td id=\"T_926572da_d87d_11ea_8657_f018981e4f8brow3_col6\" class=\"data row3 col6\" >0.1101</td>\n                        <td id=\"T_926572da_d87d_11ea_8657_f018981e4f8brow3_col7\" class=\"data row3 col7\" >0.1389</td>\n                        <td id=\"T_926572da_d87d_11ea_8657_f018981e4f8brow3_col8\" class=\"data row3 col8\" >0.0301</td>\n            </tr>\n    </tbody></table>"
     },
     "metadata": {},
     "output_type": "display_data"
    },
    {
     "name": "stderr",
     "output_type": "stream",
     "text": [
      "INFO:logs:create_model_container: 1\n",
      "INFO:logs:master_model_container: 1\n",
      "INFO:logs:display_container: 2\n",
      "INFO:logs:XGBClassifier(base_score=0.5, booster='gbtree', colsample_bylevel=1,\n",
      "              colsample_bynode=1, colsample_bytree=1, gamma=0, gpu_id=-1,\n",
      "              importance_type='gain', interaction_constraints='',\n",
      "              learning_rate=0.300000012, max_delta_step=0, max_depth=6,\n",
      "              min_child_weight=1, missing=nan, monotone_constraints='()',\n",
      "              n_estimators=100, n_jobs=-1, num_parallel_tree=1,\n",
      "              objective='binary:logistic', random_state=8764, reg_alpha=0,\n",
      "              reg_lambda=1, scale_pos_weight=1, subsample=1,\n",
      "              tree_method='exact', validate_parameters=1, verbosity=0)\n",
      "INFO:logs:compare_models() succesfully completed......................................\n"
     ]
    }
   ],
   "source": [
    "model_store_final = compare_models(\n",
    "    whitelist = ['lr', 'rf', 'ridge', 'xgboost'],\n",
    "    sort = 'F1',\n",
    "    verbose = True\n",
    ")"
   ],
   "metadata": {
    "collapsed": false,
    "pycharm": {
     "name": "#%%\n"
    }
   }
  },
  {
   "cell_type": "markdown",
   "source": [
    "## 单模型训练"
   ],
   "metadata": {
    "collapsed": false,
    "pycharm": {
     "name": "#%% md\n"
    }
   }
  },
  {
   "cell_type": "markdown",
   "source": [
    "#### 创建单个模型."
   ],
   "metadata": {
    "collapsed": false,
    "pycharm": {
     "name": "#%% md\n"
    }
   }
  },
  {
   "cell_type": "code",
   "execution_count": 5,
   "outputs": [
    {
     "data": {
      "text/plain": "<pandas.io.formats.style.Styler at 0x7faa7e241dc0>",
      "text/html": "<style  type=\"text/css\" >\n    #T_931bdee4_d87d_11ea_8657_f018981e4f8brow10_col0 {\n            background:  yellow;\n        }    #T_931bdee4_d87d_11ea_8657_f018981e4f8brow10_col1 {\n            background:  yellow;\n        }    #T_931bdee4_d87d_11ea_8657_f018981e4f8brow10_col2 {\n            background:  yellow;\n        }    #T_931bdee4_d87d_11ea_8657_f018981e4f8brow10_col3 {\n            background:  yellow;\n        }    #T_931bdee4_d87d_11ea_8657_f018981e4f8brow10_col4 {\n            background:  yellow;\n        }    #T_931bdee4_d87d_11ea_8657_f018981e4f8brow10_col5 {\n            background:  yellow;\n        }    #T_931bdee4_d87d_11ea_8657_f018981e4f8brow10_col6 {\n            background:  yellow;\n        }</style><table id=\"T_931bdee4_d87d_11ea_8657_f018981e4f8b\" ><thead>    <tr>        <th class=\"blank level0\" ></th>        <th class=\"col_heading level0 col0\" >Accuracy</th>        <th class=\"col_heading level0 col1\" >AUC</th>        <th class=\"col_heading level0 col2\" >Recall</th>        <th class=\"col_heading level0 col3\" >Prec.</th>        <th class=\"col_heading level0 col4\" >F1</th>        <th class=\"col_heading level0 col5\" >Kappa</th>        <th class=\"col_heading level0 col6\" >MCC</th>    </tr></thead><tbody>\n                <tr>\n                        <th id=\"T_931bdee4_d87d_11ea_8657_f018981e4f8blevel0_row0\" class=\"row_heading level0 row0\" >0</th>\n                        <td id=\"T_931bdee4_d87d_11ea_8657_f018981e4f8brow0_col0\" class=\"data row0 col0\" >0.7937</td>\n                        <td id=\"T_931bdee4_d87d_11ea_8657_f018981e4f8brow0_col1\" class=\"data row0 col1\" >0.6754</td>\n                        <td id=\"T_931bdee4_d87d_11ea_8657_f018981e4f8brow0_col2\" class=\"data row0 col2\" >0.1538</td>\n                        <td id=\"T_931bdee4_d87d_11ea_8657_f018981e4f8brow0_col3\" class=\"data row0 col3\" >0.5000</td>\n                        <td id=\"T_931bdee4_d87d_11ea_8657_f018981e4f8brow0_col4\" class=\"data row0 col4\" >0.2353</td>\n                        <td id=\"T_931bdee4_d87d_11ea_8657_f018981e4f8brow0_col5\" class=\"data row0 col5\" >0.1531</td>\n                        <td id=\"T_931bdee4_d87d_11ea_8657_f018981e4f8brow0_col6\" class=\"data row0 col6\" >0.1889</td>\n            </tr>\n            <tr>\n                        <th id=\"T_931bdee4_d87d_11ea_8657_f018981e4f8blevel0_row1\" class=\"row_heading level0 row1\" >1</th>\n                        <td id=\"T_931bdee4_d87d_11ea_8657_f018981e4f8brow1_col0\" class=\"data row1 col0\" >0.7778</td>\n                        <td id=\"T_931bdee4_d87d_11ea_8657_f018981e4f8brow1_col1\" class=\"data row1 col1\" >0.7115</td>\n                        <td id=\"T_931bdee4_d87d_11ea_8657_f018981e4f8brow1_col2\" class=\"data row1 col2\" >0.0000</td>\n                        <td id=\"T_931bdee4_d87d_11ea_8657_f018981e4f8brow1_col3\" class=\"data row1 col3\" >0.0000</td>\n                        <td id=\"T_931bdee4_d87d_11ea_8657_f018981e4f8brow1_col4\" class=\"data row1 col4\" >0.0000</td>\n                        <td id=\"T_931bdee4_d87d_11ea_8657_f018981e4f8brow1_col5\" class=\"data row1 col5\" >-0.0304</td>\n                        <td id=\"T_931bdee4_d87d_11ea_8657_f018981e4f8brow1_col6\" class=\"data row1 col6\" >-0.0648</td>\n            </tr>\n            <tr>\n                        <th id=\"T_931bdee4_d87d_11ea_8657_f018981e4f8blevel0_row2\" class=\"row_heading level0 row2\" >2</th>\n                        <td id=\"T_931bdee4_d87d_11ea_8657_f018981e4f8brow2_col0\" class=\"data row2 col0\" >0.8413</td>\n                        <td id=\"T_931bdee4_d87d_11ea_8657_f018981e4f8brow2_col1\" class=\"data row2 col1\" >0.7538</td>\n                        <td id=\"T_931bdee4_d87d_11ea_8657_f018981e4f8brow2_col2\" class=\"data row2 col2\" >0.3077</td>\n                        <td id=\"T_931bdee4_d87d_11ea_8657_f018981e4f8brow2_col3\" class=\"data row2 col3\" >0.8000</td>\n                        <td id=\"T_931bdee4_d87d_11ea_8657_f018981e4f8brow2_col4\" class=\"data row2 col4\" >0.4444</td>\n                        <td id=\"T_931bdee4_d87d_11ea_8657_f018981e4f8brow2_col5\" class=\"data row2 col5\" >0.3725</td>\n                        <td id=\"T_931bdee4_d87d_11ea_8657_f018981e4f8brow2_col6\" class=\"data row2 col6\" >0.4307</td>\n            </tr>\n            <tr>\n                        <th id=\"T_931bdee4_d87d_11ea_8657_f018981e4f8blevel0_row3\" class=\"row_heading level0 row3\" >3</th>\n                        <td id=\"T_931bdee4_d87d_11ea_8657_f018981e4f8brow3_col0\" class=\"data row3 col0\" >0.8095</td>\n                        <td id=\"T_931bdee4_d87d_11ea_8657_f018981e4f8brow3_col1\" class=\"data row3 col1\" >0.8469</td>\n                        <td id=\"T_931bdee4_d87d_11ea_8657_f018981e4f8brow3_col2\" class=\"data row3 col2\" >0.0769</td>\n                        <td id=\"T_931bdee4_d87d_11ea_8657_f018981e4f8brow3_col3\" class=\"data row3 col3\" >1.0000</td>\n                        <td id=\"T_931bdee4_d87d_11ea_8657_f018981e4f8brow3_col4\" class=\"data row3 col4\" >0.1429</td>\n                        <td id=\"T_931bdee4_d87d_11ea_8657_f018981e4f8brow3_col5\" class=\"data row3 col5\" >0.1168</td>\n                        <td id=\"T_931bdee4_d87d_11ea_8657_f018981e4f8brow3_col6\" class=\"data row3 col6\" >0.2491</td>\n            </tr>\n            <tr>\n                        <th id=\"T_931bdee4_d87d_11ea_8657_f018981e4f8blevel0_row4\" class=\"row_heading level0 row4\" >4</th>\n                        <td id=\"T_931bdee4_d87d_11ea_8657_f018981e4f8brow4_col0\" class=\"data row4 col0\" >0.7778</td>\n                        <td id=\"T_931bdee4_d87d_11ea_8657_f018981e4f8brow4_col1\" class=\"data row4 col1\" >0.6356</td>\n                        <td id=\"T_931bdee4_d87d_11ea_8657_f018981e4f8brow4_col2\" class=\"data row4 col2\" >0.1429</td>\n                        <td id=\"T_931bdee4_d87d_11ea_8657_f018981e4f8brow4_col3\" class=\"data row4 col3\" >0.5000</td>\n                        <td id=\"T_931bdee4_d87d_11ea_8657_f018981e4f8brow4_col4\" class=\"data row4 col4\" >0.2222</td>\n                        <td id=\"T_931bdee4_d87d_11ea_8657_f018981e4f8brow4_col5\" class=\"data row4 col5\" >0.1370</td>\n                        <td id=\"T_931bdee4_d87d_11ea_8657_f018981e4f8brow4_col6\" class=\"data row4 col6\" >0.1740</td>\n            </tr>\n            <tr>\n                        <th id=\"T_931bdee4_d87d_11ea_8657_f018981e4f8blevel0_row5\" class=\"row_heading level0 row5\" >5</th>\n                        <td id=\"T_931bdee4_d87d_11ea_8657_f018981e4f8brow5_col0\" class=\"data row5 col0\" >0.7619</td>\n                        <td id=\"T_931bdee4_d87d_11ea_8657_f018981e4f8brow5_col1\" class=\"data row5 col1\" >0.7376</td>\n                        <td id=\"T_931bdee4_d87d_11ea_8657_f018981e4f8brow5_col2\" class=\"data row5 col2\" >0.0714</td>\n                        <td id=\"T_931bdee4_d87d_11ea_8657_f018981e4f8brow5_col3\" class=\"data row5 col3\" >0.3333</td>\n                        <td id=\"T_931bdee4_d87d_11ea_8657_f018981e4f8brow5_col4\" class=\"data row5 col4\" >0.1176</td>\n                        <td id=\"T_931bdee4_d87d_11ea_8657_f018981e4f8brow5_col5\" class=\"data row5 col5\" >0.0426</td>\n                        <td id=\"T_931bdee4_d87d_11ea_8657_f018981e4f8brow5_col6\" class=\"data row5 col6\" >0.0598</td>\n            </tr>\n            <tr>\n                        <th id=\"T_931bdee4_d87d_11ea_8657_f018981e4f8blevel0_row6\" class=\"row_heading level0 row6\" >6</th>\n                        <td id=\"T_931bdee4_d87d_11ea_8657_f018981e4f8brow6_col0\" class=\"data row6 col0\" >0.7619</td>\n                        <td id=\"T_931bdee4_d87d_11ea_8657_f018981e4f8brow6_col1\" class=\"data row6 col1\" >0.6633</td>\n                        <td id=\"T_931bdee4_d87d_11ea_8657_f018981e4f8brow6_col2\" class=\"data row6 col2\" >0.0000</td>\n                        <td id=\"T_931bdee4_d87d_11ea_8657_f018981e4f8brow6_col3\" class=\"data row6 col3\" >0.0000</td>\n                        <td id=\"T_931bdee4_d87d_11ea_8657_f018981e4f8brow6_col4\" class=\"data row6 col4\" >0.0000</td>\n                        <td id=\"T_931bdee4_d87d_11ea_8657_f018981e4f8brow6_col5\" class=\"data row6 col5\" >-0.0305</td>\n                        <td id=\"T_931bdee4_d87d_11ea_8657_f018981e4f8brow6_col6\" class=\"data row6 col6\" >-0.0679</td>\n            </tr>\n            <tr>\n                        <th id=\"T_931bdee4_d87d_11ea_8657_f018981e4f8blevel0_row7\" class=\"row_heading level0 row7\" >7</th>\n                        <td id=\"T_931bdee4_d87d_11ea_8657_f018981e4f8brow7_col0\" class=\"data row7 col0\" >0.7460</td>\n                        <td id=\"T_931bdee4_d87d_11ea_8657_f018981e4f8brow7_col1\" class=\"data row7 col1\" >0.6093</td>\n                        <td id=\"T_931bdee4_d87d_11ea_8657_f018981e4f8brow7_col2\" class=\"data row7 col2\" >0.2143</td>\n                        <td id=\"T_931bdee4_d87d_11ea_8657_f018981e4f8brow7_col3\" class=\"data row7 col3\" >0.3750</td>\n                        <td id=\"T_931bdee4_d87d_11ea_8657_f018981e4f8brow7_col4\" class=\"data row7 col4\" >0.2727</td>\n                        <td id=\"T_931bdee4_d87d_11ea_8657_f018981e4f8brow7_col5\" class=\"data row7 col5\" >0.1325</td>\n                        <td id=\"T_931bdee4_d87d_11ea_8657_f018981e4f8brow7_col6\" class=\"data row7 col6\" >0.1402</td>\n            </tr>\n            <tr>\n                        <th id=\"T_931bdee4_d87d_11ea_8657_f018981e4f8blevel0_row8\" class=\"row_heading level0 row8\" >8</th>\n                        <td id=\"T_931bdee4_d87d_11ea_8657_f018981e4f8brow8_col0\" class=\"data row8 col0\" >0.7581</td>\n                        <td id=\"T_931bdee4_d87d_11ea_8657_f018981e4f8brow8_col1\" class=\"data row8 col1\" >0.6931</td>\n                        <td id=\"T_931bdee4_d87d_11ea_8657_f018981e4f8brow8_col2\" class=\"data row8 col2\" >0.0769</td>\n                        <td id=\"T_931bdee4_d87d_11ea_8657_f018981e4f8brow8_col3\" class=\"data row8 col3\" >0.2500</td>\n                        <td id=\"T_931bdee4_d87d_11ea_8657_f018981e4f8brow8_col4\" class=\"data row8 col4\" >0.1176</td>\n                        <td id=\"T_931bdee4_d87d_11ea_8657_f018981e4f8brow8_col5\" class=\"data row8 col5\" >0.0211</td>\n                        <td id=\"T_931bdee4_d87d_11ea_8657_f018981e4f8brow8_col6\" class=\"data row8 col6\" >0.0260</td>\n            </tr>\n            <tr>\n                        <th id=\"T_931bdee4_d87d_11ea_8657_f018981e4f8blevel0_row9\" class=\"row_heading level0 row9\" >9</th>\n                        <td id=\"T_931bdee4_d87d_11ea_8657_f018981e4f8brow9_col0\" class=\"data row9 col0\" >0.8065</td>\n                        <td id=\"T_931bdee4_d87d_11ea_8657_f018981e4f8brow9_col1\" class=\"data row9 col1\" >0.7818</td>\n                        <td id=\"T_931bdee4_d87d_11ea_8657_f018981e4f8brow9_col2\" class=\"data row9 col2\" >0.1538</td>\n                        <td id=\"T_931bdee4_d87d_11ea_8657_f018981e4f8brow9_col3\" class=\"data row9 col3\" >0.6667</td>\n                        <td id=\"T_931bdee4_d87d_11ea_8657_f018981e4f8brow9_col4\" class=\"data row9 col4\" >0.2500</td>\n                        <td id=\"T_931bdee4_d87d_11ea_8657_f018981e4f8brow9_col5\" class=\"data row9 col5\" >0.1860</td>\n                        <td id=\"T_931bdee4_d87d_11ea_8657_f018981e4f8brow9_col6\" class=\"data row9 col6\" >0.2531</td>\n            </tr>\n            <tr>\n                        <th id=\"T_931bdee4_d87d_11ea_8657_f018981e4f8blevel0_row10\" class=\"row_heading level0 row10\" >Mean</th>\n                        <td id=\"T_931bdee4_d87d_11ea_8657_f018981e4f8brow10_col0\" class=\"data row10 col0\" >0.7834</td>\n                        <td id=\"T_931bdee4_d87d_11ea_8657_f018981e4f8brow10_col1\" class=\"data row10 col1\" >0.7108</td>\n                        <td id=\"T_931bdee4_d87d_11ea_8657_f018981e4f8brow10_col2\" class=\"data row10 col2\" >0.1198</td>\n                        <td id=\"T_931bdee4_d87d_11ea_8657_f018981e4f8brow10_col3\" class=\"data row10 col3\" >0.4425</td>\n                        <td id=\"T_931bdee4_d87d_11ea_8657_f018981e4f8brow10_col4\" class=\"data row10 col4\" >0.1803</td>\n                        <td id=\"T_931bdee4_d87d_11ea_8657_f018981e4f8brow10_col5\" class=\"data row10 col5\" >0.1101</td>\n                        <td id=\"T_931bdee4_d87d_11ea_8657_f018981e4f8brow10_col6\" class=\"data row10 col6\" >0.1389</td>\n            </tr>\n            <tr>\n                        <th id=\"T_931bdee4_d87d_11ea_8657_f018981e4f8blevel0_row11\" class=\"row_heading level0 row11\" >SD</th>\n                        <td id=\"T_931bdee4_d87d_11ea_8657_f018981e4f8brow11_col0\" class=\"data row11 col0\" >0.0277</td>\n                        <td id=\"T_931bdee4_d87d_11ea_8657_f018981e4f8brow11_col1\" class=\"data row11 col1\" >0.0678</td>\n                        <td id=\"T_931bdee4_d87d_11ea_8657_f018981e4f8brow11_col2\" class=\"data row11 col2\" >0.0904</td>\n                        <td id=\"T_931bdee4_d87d_11ea_8657_f018981e4f8brow11_col3\" class=\"data row11 col3\" >0.3067</td>\n                        <td id=\"T_931bdee4_d87d_11ea_8657_f018981e4f8brow11_col4\" class=\"data row11 col4\" >0.1274</td>\n                        <td id=\"T_931bdee4_d87d_11ea_8657_f018981e4f8brow11_col5\" class=\"data row11 col5\" >0.1139</td>\n                        <td id=\"T_931bdee4_d87d_11ea_8657_f018981e4f8brow11_col6\" class=\"data row11 col6\" >0.1474</td>\n            </tr>\n    </tbody></table>"
     },
     "metadata": {},
     "output_type": "display_data"
    },
    {
     "name": "stderr",
     "output_type": "stream",
     "text": [
      "INFO:logs:create_model_container: 2\n",
      "INFO:logs:master_model_container: 2\n",
      "INFO:logs:display_container: 3\n",
      "INFO:logs:RandomForestClassifier(bootstrap=True, ccp_alpha=0.0, class_weight=None,\n",
      "                       criterion='gini', max_depth=None, max_features='auto',\n",
      "                       max_leaf_nodes=None, max_samples=None,\n",
      "                       min_impurity_decrease=0.0, min_impurity_split=None,\n",
      "                       min_samples_leaf=1, min_samples_split=2,\n",
      "                       min_weight_fraction_leaf=0.0, n_estimators=10, n_jobs=-1,\n",
      "                       oob_score=False, random_state=8764, verbose=0,\n",
      "                       warm_start=False)\n",
      "INFO:logs:create_model() succesfully completed......................................\n"
     ]
    }
   ],
   "source": [
    "# params = {'max_depth': 4, 'min_samples_leaf': 5, 'min_samples_split': 10}\n",
    "params = {}\n",
    "clf = create_model('rf', verbose = True, **params)"
   ],
   "metadata": {
    "collapsed": false,
    "pycharm": {
     "name": "#%%\n"
    }
   }
  },
  {
   "cell_type": "markdown",
   "source": [
    "#### 模型调参, 使用算法为Stratified Cross Validation."
   ],
   "metadata": {
    "collapsed": false,
    "pycharm": {
     "name": "#%% md\n"
    }
   }
  },
  {
   "cell_type": "code",
   "execution_count": 6,
   "outputs": [
    {
     "data": {
      "text/plain": "<pandas.io.formats.style.Styler at 0x7faa7e5c2be0>",
      "text/html": "<style  type=\"text/css\" >\n    #T_9664ef64_d87d_11ea_8657_f018981e4f8brow10_col0 {\n            background:  yellow;\n        }    #T_9664ef64_d87d_11ea_8657_f018981e4f8brow10_col1 {\n            background:  yellow;\n        }    #T_9664ef64_d87d_11ea_8657_f018981e4f8brow10_col2 {\n            background:  yellow;\n        }    #T_9664ef64_d87d_11ea_8657_f018981e4f8brow10_col3 {\n            background:  yellow;\n        }    #T_9664ef64_d87d_11ea_8657_f018981e4f8brow10_col4 {\n            background:  yellow;\n        }    #T_9664ef64_d87d_11ea_8657_f018981e4f8brow10_col5 {\n            background:  yellow;\n        }    #T_9664ef64_d87d_11ea_8657_f018981e4f8brow10_col6 {\n            background:  yellow;\n        }</style><table id=\"T_9664ef64_d87d_11ea_8657_f018981e4f8b\" ><thead>    <tr>        <th class=\"blank level0\" ></th>        <th class=\"col_heading level0 col0\" >Accuracy</th>        <th class=\"col_heading level0 col1\" >AUC</th>        <th class=\"col_heading level0 col2\" >Recall</th>        <th class=\"col_heading level0 col3\" >Prec.</th>        <th class=\"col_heading level0 col4\" >F1</th>        <th class=\"col_heading level0 col5\" >Kappa</th>        <th class=\"col_heading level0 col6\" >MCC</th>    </tr></thead><tbody>\n                <tr>\n                        <th id=\"T_9664ef64_d87d_11ea_8657_f018981e4f8blevel0_row0\" class=\"row_heading level0 row0\" >0</th>\n                        <td id=\"T_9664ef64_d87d_11ea_8657_f018981e4f8brow0_col0\" class=\"data row0 col0\" >0.7460</td>\n                        <td id=\"T_9664ef64_d87d_11ea_8657_f018981e4f8brow0_col1\" class=\"data row0 col1\" >0.6577</td>\n                        <td id=\"T_9664ef64_d87d_11ea_8657_f018981e4f8brow0_col2\" class=\"data row0 col2\" >0.1538</td>\n                        <td id=\"T_9664ef64_d87d_11ea_8657_f018981e4f8brow0_col3\" class=\"data row0 col3\" >0.2857</td>\n                        <td id=\"T_9664ef64_d87d_11ea_8657_f018981e4f8brow0_col4\" class=\"data row0 col4\" >0.2000</td>\n                        <td id=\"T_9664ef64_d87d_11ea_8657_f018981e4f8brow0_col5\" class=\"data row0 col5\" >0.0649</td>\n                        <td id=\"T_9664ef64_d87d_11ea_8657_f018981e4f8brow0_col6\" class=\"data row0 col6\" >0.0693</td>\n            </tr>\n            <tr>\n                        <th id=\"T_9664ef64_d87d_11ea_8657_f018981e4f8blevel0_row1\" class=\"row_heading level0 row1\" >1</th>\n                        <td id=\"T_9664ef64_d87d_11ea_8657_f018981e4f8brow1_col0\" class=\"data row1 col0\" >0.8413</td>\n                        <td id=\"T_9664ef64_d87d_11ea_8657_f018981e4f8brow1_col1\" class=\"data row1 col1\" >0.8038</td>\n                        <td id=\"T_9664ef64_d87d_11ea_8657_f018981e4f8brow1_col2\" class=\"data row1 col2\" >0.3077</td>\n                        <td id=\"T_9664ef64_d87d_11ea_8657_f018981e4f8brow1_col3\" class=\"data row1 col3\" >0.8000</td>\n                        <td id=\"T_9664ef64_d87d_11ea_8657_f018981e4f8brow1_col4\" class=\"data row1 col4\" >0.4444</td>\n                        <td id=\"T_9664ef64_d87d_11ea_8657_f018981e4f8brow1_col5\" class=\"data row1 col5\" >0.3725</td>\n                        <td id=\"T_9664ef64_d87d_11ea_8657_f018981e4f8brow1_col6\" class=\"data row1 col6\" >0.4307</td>\n            </tr>\n            <tr>\n                        <th id=\"T_9664ef64_d87d_11ea_8657_f018981e4f8blevel0_row2\" class=\"row_heading level0 row2\" >2</th>\n                        <td id=\"T_9664ef64_d87d_11ea_8657_f018981e4f8brow2_col0\" class=\"data row2 col0\" >0.8095</td>\n                        <td id=\"T_9664ef64_d87d_11ea_8657_f018981e4f8brow2_col1\" class=\"data row2 col1\" >0.8085</td>\n                        <td id=\"T_9664ef64_d87d_11ea_8657_f018981e4f8brow2_col2\" class=\"data row2 col2\" >0.1538</td>\n                        <td id=\"T_9664ef64_d87d_11ea_8657_f018981e4f8brow2_col3\" class=\"data row2 col3\" >0.6667</td>\n                        <td id=\"T_9664ef64_d87d_11ea_8657_f018981e4f8brow2_col4\" class=\"data row2 col4\" >0.2500</td>\n                        <td id=\"T_9664ef64_d87d_11ea_8657_f018981e4f8brow2_col5\" class=\"data row2 col5\" >0.1871</td>\n                        <td id=\"T_9664ef64_d87d_11ea_8657_f018981e4f8brow2_col6\" class=\"data row2 col6\" >0.2543</td>\n            </tr>\n            <tr>\n                        <th id=\"T_9664ef64_d87d_11ea_8657_f018981e4f8blevel0_row3\" class=\"row_heading level0 row3\" >3</th>\n                        <td id=\"T_9664ef64_d87d_11ea_8657_f018981e4f8brow3_col0\" class=\"data row3 col0\" >0.7778</td>\n                        <td id=\"T_9664ef64_d87d_11ea_8657_f018981e4f8brow3_col1\" class=\"data row3 col1\" >0.7177</td>\n                        <td id=\"T_9664ef64_d87d_11ea_8657_f018981e4f8brow3_col2\" class=\"data row3 col2\" >0.1538</td>\n                        <td id=\"T_9664ef64_d87d_11ea_8657_f018981e4f8brow3_col3\" class=\"data row3 col3\" >0.4000</td>\n                        <td id=\"T_9664ef64_d87d_11ea_8657_f018981e4f8brow3_col4\" class=\"data row3 col4\" >0.2222</td>\n                        <td id=\"T_9664ef64_d87d_11ea_8657_f018981e4f8brow3_col5\" class=\"data row3 col5\" >0.1215</td>\n                        <td id=\"T_9664ef64_d87d_11ea_8657_f018981e4f8brow3_col6\" class=\"data row3 col6\" >0.1405</td>\n            </tr>\n            <tr>\n                        <th id=\"T_9664ef64_d87d_11ea_8657_f018981e4f8blevel0_row4\" class=\"row_heading level0 row4\" >4</th>\n                        <td id=\"T_9664ef64_d87d_11ea_8657_f018981e4f8brow4_col0\" class=\"data row4 col0\" >0.8254</td>\n                        <td id=\"T_9664ef64_d87d_11ea_8657_f018981e4f8brow4_col1\" class=\"data row4 col1\" >0.7529</td>\n                        <td id=\"T_9664ef64_d87d_11ea_8657_f018981e4f8brow4_col2\" class=\"data row4 col2\" >0.4286</td>\n                        <td id=\"T_9664ef64_d87d_11ea_8657_f018981e4f8brow4_col3\" class=\"data row4 col3\" >0.6667</td>\n                        <td id=\"T_9664ef64_d87d_11ea_8657_f018981e4f8brow4_col4\" class=\"data row4 col4\" >0.5217</td>\n                        <td id=\"T_9664ef64_d87d_11ea_8657_f018981e4f8brow4_col5\" class=\"data row4 col5\" >0.4211</td>\n                        <td id=\"T_9664ef64_d87d_11ea_8657_f018981e4f8brow4_col6\" class=\"data row4 col6\" >0.4364</td>\n            </tr>\n            <tr>\n                        <th id=\"T_9664ef64_d87d_11ea_8657_f018981e4f8blevel0_row5\" class=\"row_heading level0 row5\" >5</th>\n                        <td id=\"T_9664ef64_d87d_11ea_8657_f018981e4f8brow5_col0\" class=\"data row5 col0\" >0.7778</td>\n                        <td id=\"T_9664ef64_d87d_11ea_8657_f018981e4f8brow5_col1\" class=\"data row5 col1\" >0.7762</td>\n                        <td id=\"T_9664ef64_d87d_11ea_8657_f018981e4f8brow5_col2\" class=\"data row5 col2\" >0.1429</td>\n                        <td id=\"T_9664ef64_d87d_11ea_8657_f018981e4f8brow5_col3\" class=\"data row5 col3\" >0.5000</td>\n                        <td id=\"T_9664ef64_d87d_11ea_8657_f018981e4f8brow5_col4\" class=\"data row5 col4\" >0.2222</td>\n                        <td id=\"T_9664ef64_d87d_11ea_8657_f018981e4f8brow5_col5\" class=\"data row5 col5\" >0.1370</td>\n                        <td id=\"T_9664ef64_d87d_11ea_8657_f018981e4f8brow5_col6\" class=\"data row5 col6\" >0.1740</td>\n            </tr>\n            <tr>\n                        <th id=\"T_9664ef64_d87d_11ea_8657_f018981e4f8blevel0_row6\" class=\"row_heading level0 row6\" >6</th>\n                        <td id=\"T_9664ef64_d87d_11ea_8657_f018981e4f8brow6_col0\" class=\"data row6 col0\" >0.8413</td>\n                        <td id=\"T_9664ef64_d87d_11ea_8657_f018981e4f8brow6_col1\" class=\"data row6 col1\" >0.8061</td>\n                        <td id=\"T_9664ef64_d87d_11ea_8657_f018981e4f8brow6_col2\" class=\"data row6 col2\" >0.4286</td>\n                        <td id=\"T_9664ef64_d87d_11ea_8657_f018981e4f8brow6_col3\" class=\"data row6 col3\" >0.7500</td>\n                        <td id=\"T_9664ef64_d87d_11ea_8657_f018981e4f8brow6_col4\" class=\"data row6 col4\" >0.5455</td>\n                        <td id=\"T_9664ef64_d87d_11ea_8657_f018981e4f8brow6_col5\" class=\"data row6 col5\" >0.4578</td>\n                        <td id=\"T_9664ef64_d87d_11ea_8657_f018981e4f8brow6_col6\" class=\"data row6 col6\" >0.4842</td>\n            </tr>\n            <tr>\n                        <th id=\"T_9664ef64_d87d_11ea_8657_f018981e4f8blevel0_row7\" class=\"row_heading level0 row7\" >7</th>\n                        <td id=\"T_9664ef64_d87d_11ea_8657_f018981e4f8brow7_col0\" class=\"data row7 col0\" >0.7778</td>\n                        <td id=\"T_9664ef64_d87d_11ea_8657_f018981e4f8brow7_col1\" class=\"data row7 col1\" >0.6370</td>\n                        <td id=\"T_9664ef64_d87d_11ea_8657_f018981e4f8brow7_col2\" class=\"data row7 col2\" >0.2143</td>\n                        <td id=\"T_9664ef64_d87d_11ea_8657_f018981e4f8brow7_col3\" class=\"data row7 col3\" >0.5000</td>\n                        <td id=\"T_9664ef64_d87d_11ea_8657_f018981e4f8brow7_col4\" class=\"data row7 col4\" >0.3000</td>\n                        <td id=\"T_9664ef64_d87d_11ea_8657_f018981e4f8brow7_col5\" class=\"data row7 col5\" >0.1923</td>\n                        <td id=\"T_9664ef64_d87d_11ea_8657_f018981e4f8brow7_col6\" class=\"data row7 col6\" >0.2168</td>\n            </tr>\n            <tr>\n                        <th id=\"T_9664ef64_d87d_11ea_8657_f018981e4f8blevel0_row8\" class=\"row_heading level0 row8\" >8</th>\n                        <td id=\"T_9664ef64_d87d_11ea_8657_f018981e4f8brow8_col0\" class=\"data row8 col0\" >0.7419</td>\n                        <td id=\"T_9664ef64_d87d_11ea_8657_f018981e4f8brow8_col1\" class=\"data row8 col1\" >0.6319</td>\n                        <td id=\"T_9664ef64_d87d_11ea_8657_f018981e4f8brow8_col2\" class=\"data row8 col2\" >0.1538</td>\n                        <td id=\"T_9664ef64_d87d_11ea_8657_f018981e4f8brow8_col3\" class=\"data row8 col3\" >0.2857</td>\n                        <td id=\"T_9664ef64_d87d_11ea_8657_f018981e4f8brow8_col4\" class=\"data row8 col4\" >0.2000</td>\n                        <td id=\"T_9664ef64_d87d_11ea_8657_f018981e4f8brow8_col5\" class=\"data row8 col5\" >0.0624</td>\n                        <td id=\"T_9664ef64_d87d_11ea_8657_f018981e4f8brow8_col6\" class=\"data row8 col6\" >0.0666</td>\n            </tr>\n            <tr>\n                        <th id=\"T_9664ef64_d87d_11ea_8657_f018981e4f8blevel0_row9\" class=\"row_heading level0 row9\" >9</th>\n                        <td id=\"T_9664ef64_d87d_11ea_8657_f018981e4f8brow9_col0\" class=\"data row9 col0\" >0.8065</td>\n                        <td id=\"T_9664ef64_d87d_11ea_8657_f018981e4f8brow9_col1\" class=\"data row9 col1\" >0.8116</td>\n                        <td id=\"T_9664ef64_d87d_11ea_8657_f018981e4f8brow9_col2\" class=\"data row9 col2\" >0.1538</td>\n                        <td id=\"T_9664ef64_d87d_11ea_8657_f018981e4f8brow9_col3\" class=\"data row9 col3\" >0.6667</td>\n                        <td id=\"T_9664ef64_d87d_11ea_8657_f018981e4f8brow9_col4\" class=\"data row9 col4\" >0.2500</td>\n                        <td id=\"T_9664ef64_d87d_11ea_8657_f018981e4f8brow9_col5\" class=\"data row9 col5\" >0.1860</td>\n                        <td id=\"T_9664ef64_d87d_11ea_8657_f018981e4f8brow9_col6\" class=\"data row9 col6\" >0.2531</td>\n            </tr>\n            <tr>\n                        <th id=\"T_9664ef64_d87d_11ea_8657_f018981e4f8blevel0_row10\" class=\"row_heading level0 row10\" >Mean</th>\n                        <td id=\"T_9664ef64_d87d_11ea_8657_f018981e4f8brow10_col0\" class=\"data row10 col0\" >0.7945</td>\n                        <td id=\"T_9664ef64_d87d_11ea_8657_f018981e4f8brow10_col1\" class=\"data row10 col1\" >0.7403</td>\n                        <td id=\"T_9664ef64_d87d_11ea_8657_f018981e4f8brow10_col2\" class=\"data row10 col2\" >0.2291</td>\n                        <td id=\"T_9664ef64_d87d_11ea_8657_f018981e4f8brow10_col3\" class=\"data row10 col3\" >0.5521</td>\n                        <td id=\"T_9664ef64_d87d_11ea_8657_f018981e4f8brow10_col4\" class=\"data row10 col4\" >0.3156</td>\n                        <td id=\"T_9664ef64_d87d_11ea_8657_f018981e4f8brow10_col5\" class=\"data row10 col5\" >0.2203</td>\n                        <td id=\"T_9664ef64_d87d_11ea_8657_f018981e4f8brow10_col6\" class=\"data row10 col6\" >0.2526</td>\n            </tr>\n            <tr>\n                        <th id=\"T_9664ef64_d87d_11ea_8657_f018981e4f8blevel0_row11\" class=\"row_heading level0 row11\" >SD</th>\n                        <td id=\"T_9664ef64_d87d_11ea_8657_f018981e4f8brow11_col0\" class=\"data row11 col0\" >0.0341</td>\n                        <td id=\"T_9664ef64_d87d_11ea_8657_f018981e4f8brow11_col1\" class=\"data row11 col1\" >0.0702</td>\n                        <td id=\"T_9664ef64_d87d_11ea_8657_f018981e4f8brow11_col2\" class=\"data row11 col2\" >0.1103</td>\n                        <td id=\"T_9664ef64_d87d_11ea_8657_f018981e4f8brow11_col3\" class=\"data row11 col3\" >0.1762</td>\n                        <td id=\"T_9664ef64_d87d_11ea_8657_f018981e4f8brow11_col4\" class=\"data row11 col4\" >0.1284</td>\n                        <td id=\"T_9664ef64_d87d_11ea_8657_f018981e4f8brow11_col5\" class=\"data row11 col5\" >0.1374</td>\n                        <td id=\"T_9664ef64_d87d_11ea_8657_f018981e4f8brow11_col6\" class=\"data row11 col6\" >0.1440</td>\n            </tr>\n    </tbody></table>"
     },
     "metadata": {},
     "output_type": "display_data"
    },
    {
     "name": "stderr",
     "output_type": "stream",
     "text": [
      "INFO:logs:create_model_container: 3\n",
      "INFO:logs:master_model_container: 3\n",
      "INFO:logs:display_container: 4\n",
      "INFO:logs:RandomForestClassifier(bootstrap=False, ccp_alpha=0.0, class_weight=None,\n",
      "                       criterion='gini', max_depth=70, max_features='auto',\n",
      "                       max_leaf_nodes=None, max_samples=None,\n",
      "                       min_impurity_decrease=0.0, min_impurity_split=None,\n",
      "                       min_samples_leaf=2, min_samples_split=5,\n",
      "                       min_weight_fraction_leaf=0.0, n_estimators=10, n_jobs=-1,\n",
      "                       oob_score=False, random_state=8764, verbose=0,\n",
      "                       warm_start=False)\n",
      "INFO:logs:tune_model() succesfully completed......................................\n"
     ]
    }
   ],
   "source": [
    "# TODO: 这里调参时clf中用户设定的参数也发生了改变.\n",
    "clf_tuned = tune_model(clf, optimize = 'F1', n_iter = 20, fold = 10, round = 4)"
   ],
   "metadata": {
    "collapsed": false,
    "pycharm": {
     "name": "#%%\n"
    }
   }
  },
  {
   "cell_type": "markdown",
   "source": [
    "#### 模型评估.\n",
    "\n",
    "提供了Hyperparameters, AUC, Confusion Matrix, Threshold, PR Curve, Error, Class\n",
    "Report, Feature Selection, Learning Curve, Manifold Learning, etc., 功能比较强."
   ],
   "metadata": {
    "collapsed": false,
    "pycharm": {
     "name": "#%% md\n"
    }
   }
  },
  {
   "cell_type": "code",
   "execution_count": 7,
   "outputs": [
    {
     "data": {
      "text/plain": "interactive(children=(ToggleButtons(description='Plot Type:', icons=('',), options=(('Hyperparameters', 'param…",
      "application/vnd.jupyter.widget-view+json": {
       "version_major": 2,
       "version_minor": 0,
       "model_id": "667a41a6e25840908c8d56a01fca01db"
      }
     },
     "metadata": {},
     "output_type": "display_data"
    }
   ],
   "source": [
    "# plot_model(clf_tuned, plot = 'auc')\n",
    "evaluate_model(clf_tuned)\n"
   ],
   "metadata": {
    "collapsed": false,
    "pycharm": {
     "name": "#%%\n"
    }
   }
  },
  {
   "cell_type": "markdown",
   "source": [
    "#### 模型解释"
   ],
   "metadata": {
    "collapsed": false,
    "pycharm": {
     "name": "#%% md\n"
    }
   }
  },
  {
   "cell_type": "code",
   "execution_count": 8,
   "outputs": [
    {
     "name": "stderr",
     "output_type": "stream",
     "text": [
      "INFO:logs:Initializing interpret_model()\n",
      "INFO:logs:interpret_model(estimator=RandomForestClassifier(bootstrap=False, ccp_alpha=0.0, class_weight=None,\n",
      "                       criterion='gini', max_depth=70, max_features='auto',\n",
      "                       max_leaf_nodes=None, max_samples=None,\n",
      "                       min_impurity_decrease=0.0, min_impurity_split=None,\n",
      "                       min_samples_leaf=2, min_samples_split=5,\n",
      "                       min_weight_fraction_leaf=0.0, n_estimators=10, n_jobs=-1,\n",
      "                       oob_score=False, random_state=8764, verbose=0,\n",
      "                       warm_start=False), plot=correlation, feature=None, observation=None)\n",
      "INFO:logs:Checking exceptions\n",
      "INFO:logs:Importing libraries\n",
      "INFO:logs:plot type: correlation\n",
      "WARNING:logs:No feature passed. Default value of feature used for correlation plot: AGE\n",
      "INFO:logs:model type detected: type 1\n",
      "INFO:logs:Creating TreeExplainer\n",
      "INFO:logs:Compiling shap values\n",
      "INFO:logs:Visual Rendered Successfully\n",
      "INFO:logs:interpret_model() succesfully completed......................................\n"
     ]
    },
    {
     "data": {
      "text/plain": "<Figure size 540x360 with 2 Axes>",
      "image/png": "[encoded data removed]"
     },
     "metadata": {
      "needs_background": "light"
     },
     "output_type": "display_data"
    }
   ],
   "source": [
    "# TODO: 偶尔会报错, 网上查说可能是shap的bug.\n",
    "# 该方法是基于树的解释方法, 只适用于树模型.\n",
    "# interpret_model(clf_tuned)\n",
    "interpret_model(clf_tuned, plot = 'correlation')\n",
    "# interpret_model(clf_tuned, plot = 'reason', observation = 0)"
   ],
   "metadata": {
    "collapsed": false,
    "pycharm": {
     "name": "#%%\n"
    }
   }
  },
  {
   "cell_type": "markdown",
   "source": [
    "## MLFlow UI"
   ],
   "metadata": {
    "collapsed": false,
    "pycharm": {
     "name": "#%% md\n"
    }
   }
  },
  {
   "cell_type": "code",
   "execution_count": 9,
   "outputs": [],
   "source": [
    "# TODO: 功能不明.\n",
    "# !mlflow ui"
   ],
   "metadata": {
    "collapsed": false,
    "pycharm": {
     "name": "#%%\n"
    }
   }
  }
 ],
 "metadata": {
  "kernelspec": {
   "name": "python3",
   "language": "python",
   "display_name": "Python 3"
  },
  "language_info": {
   "codemirror_mode": {
    "name": "ipython",
    "version": 2
   },
   "file_extension": ".py",
   "mimetype": "text/x-python",
   "name": "python",
   "nbconvert_exporter": "python",
   "pygments_lexer": "ipython2",
   "version": "2.7.6"
  }
 },
 "nbformat": 4,
 "nbformat_minor": 0
}