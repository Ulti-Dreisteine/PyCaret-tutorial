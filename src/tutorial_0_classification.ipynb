{
 "cells": [
  {
   "cell_type": "markdown",
   "source": [
    "载入配置"
   ],
   "metadata": {
    "collapsed": false,
    "pycharm": {
     "name": "#%% md\n"
    }
   }
  },
  {
   "cell_type": "code",
   "execution_count": 1,
   "metadata": {
    "collapsed": true
   },
   "outputs": [
    {
     "name": "stdout",
     "output_type": "stream",
     "text": [
      "Use environmental variables in default.yml\n"
     ]
    }
   ],
   "source": [
    "from pycaret.classification import setup, compare_models, create_model, tune_model, plot_model, evaluate_model, interpret_model\n",
    "import pandas as pd\n",
    "import sys, os\n",
    "\n",
    "sys.path.append('../')\n",
    "\n",
    "from src import proj_dir"
   ]
  },
  {
   "cell_type": "markdown",
   "source": [
    "载入测试数据"
   ],
   "metadata": {
    "collapsed": false,
    "pycharm": {
     "name": "#%% md\n"
    }
   }
  },
  {
   "cell_type": "code",
   "execution_count": 2,
   "outputs": [],
   "source": [
    "numeric_cols = [\n",
    "    'AGE', 'ISS', 'CAPRINI_SCORE', 'T', 'P', 'R', 'MBP', 'SHOCK_INDEX', 'HEIGHT', 'WEIGHT',\n",
    "    'BMI', 'RBC', 'HGB', 'PLT', 'WBC', 'ALB', 'CRE', 'UA', 'AST', 'ALT', 'GLU', 'TG', 'CHO',\n",
    "    'CA', 'MG', 'LDL', 'NA', 'K', 'CL', 'GFR', 'PT', 'FIB', 'DD', 'CK', 'INR'\n",
    "]\n",
    "\n",
    "data = pd.read_csv(os.path.join(proj_dir, 'data/local_test/patient_data.csv'))\n",
    "data.drop('INPATIENT_ID', axis = 1, inplace = True)\n",
    "\n",
    "for col in data.columns:\n",
    "    if col not in numeric_cols:\n",
    "        data[col] = data[col].astype(int)"
   ],
   "metadata": {
    "collapsed": false,
    "pycharm": {
     "name": "#%%\n"
    }
   }
  },
  {
   "cell_type": "markdown",
   "source": [
    "创建分类模型"
   ],
   "metadata": {
    "collapsed": false,
    "pycharm": {
     "name": "#%% md\n"
    }
   }
  },
  {
   "cell_type": "code",
   "execution_count": 3,
   "outputs": [
    {
     "name": "stderr",
     "output_type": "stream",
     "text": [
      "INFO:logs:create_model_container 0\n",
      "INFO:logs:master_model_container 0\n",
      "INFO:logs:display_container 0\n",
      "INFO:logs:Pipeline(memory=None,\n",
      "         steps=[('dtypes',\n",
      "                 DataTypes_Auto_infer(categorical_features=[],\n",
      "                                      display_types=True, features_todrop=[],\n",
      "                                      ml_usecase='classification',\n",
      "                                      numerical_features=['AGE', 'ISS',\n",
      "                                                          'CAPRINI_SCORE', 'T',\n",
      "                                                          'P', 'R', 'MBP',\n",
      "                                                          'SHOCK_INDEX',\n",
      "                                                          'HEIGHT', 'WEIGHT',\n",
      "                                                          'BMI', 'RBC', 'HGB',\n",
      "                                                          'PLT', 'WBC', 'ALB',\n",
      "                                                          'CRE', 'UA', 'AST',\n",
      "                                                          'ALT', 'GLU', 'TG',\n",
      "                                                          'CHO', 'CA', 'MG',\n",
      "                                                          'LDL', 'NA', 'K',\n",
      "                                                          'C...\n",
      "                ('group', Empty()), ('nonliner', Empty()), ('scaling', Empty()),\n",
      "                ('P_transform', Empty()), ('pt_target', Empty()),\n",
      "                ('binn', Empty()), ('rem_outliers', Empty()),\n",
      "                ('cluster_all', Empty()), ('dummy', Dummify(target='VTE')),\n",
      "                ('fix_perfect', Empty()), ('clean_names', Clean_Colum_Names()),\n",
      "                ('feature_select', Empty()), ('fix_multi', Empty()),\n",
      "                ('dfs', Empty()), ('pca', Empty())],\n",
      "         verbose=False)\n",
      "INFO:logs:setup() succesfully completed......................................\n"
     ]
    },
    {
     "data": {
      "text/plain": "(      AGE   ISS  CAPRINI_SCORE     T      P     R         MBP  SHOCK_INDEX  \\\n 0    33.0  17.0            4.0  36.5   78.0  20.0   76.666667     0.780000   \n 1    19.0  29.0           10.0  36.5   67.0  20.0   79.666667     0.592920   \n 2    46.0  34.0            8.0  36.6   98.0  20.0   82.666667     0.844828   \n 3    51.0  29.0           11.0  36.5  110.0  17.0   79.000000     1.182796   \n 4    56.0  32.0           11.0  36.6   52.0  18.0  106.333333     0.379562   \n ..    ...   ...            ...   ...    ...   ...         ...          ...   \n 893  46.0   4.0            3.0  36.5   96.0  20.0  109.333333     0.695652   \n 894  71.0   4.0            5.0  36.3   75.0  20.0   98.333333     0.572519   \n 895  54.0   4.0            4.0  36.5   83.0  20.0   84.333333     0.747748   \n 896  27.0   5.0            3.0  36.6   88.0  20.0   84.666667     0.800000   \n 897  38.0   4.0            2.0  36.3   96.0  20.0  104.666667     0.738462   \n \n      HEIGHT  WEIGHT  ...  PD_0  PD_1  STROKE_0  STROKE_1  LIVER_CIRRHOSIS_0  \\\n 0     175.0    70.0  ...   1.0   0.0       1.0       0.0                1.0   \n 1     175.0    67.5  ...   1.0   0.0       1.0       0.0                1.0   \n 2     175.0    84.0  ...   1.0   0.0       1.0       0.0                1.0   \n 3     170.0    80.0  ...   1.0   0.0       1.0       0.0                1.0   \n 4     171.0    74.0  ...   1.0   0.0       1.0       0.0                1.0   \n ..      ...     ...  ...   ...   ...       ...       ...                ...   \n 893   150.0    50.0  ...   1.0   0.0       1.0       0.0                1.0   \n 894   170.0    78.0  ...   1.0   0.0       1.0       0.0                1.0   \n 895   154.0    52.0  ...   1.0   0.0       1.0       0.0                1.0   \n 896   170.0    90.0  ...   1.0   0.0       1.0       0.0                1.0   \n 897   168.0    74.0  ...   1.0   0.0       1.0       0.0                1.0   \n \n      LIVER_CIRRHOSIS_1  CKD_0  CKD_1  PARALYSIS_0  PARALYSIS_1  \n 0                  0.0    1.0    0.0          1.0          0.0  \n 1                  0.0    1.0    0.0          0.0          1.0  \n 2                  0.0    1.0    0.0          1.0          0.0  \n 3                  0.0    1.0    0.0          1.0          0.0  \n 4                  0.0    0.0    1.0          0.0          1.0  \n ..                 ...    ...    ...          ...          ...  \n 893                0.0    1.0    0.0          1.0          0.0  \n 894                0.0    1.0    0.0          1.0          0.0  \n 895                0.0    1.0    0.0          1.0          0.0  \n 896                0.0    1.0    0.0          1.0          0.0  \n 897                0.0    1.0    0.0          1.0          0.0  \n \n [898 rows x 117 columns],\n 0      0\n 1      0\n 2      1\n 3      1\n 4      1\n       ..\n 893    0\n 894    0\n 895    0\n 896    0\n 897    0\n Name: VTE, Length: 898, dtype: int64,\n       AGE   ISS  CAPRINI_SCORE     T     P     R         MBP  SHOCK_INDEX  \\\n 375  87.0   9.0           13.0  36.6  92.0  20.0  130.000000     0.541176   \n 40   87.0   5.0            3.0  36.5  83.0  20.0   94.000000     0.658730   \n 692  21.0   4.0            2.0  36.6  58.0  19.0  101.000000     0.429630   \n 881  48.0  13.0            9.0  36.6  60.0  18.0   99.333333     0.491803   \n 488  37.0   9.0            8.0  36.6  76.0  18.0   89.000000     0.617886   \n ..    ...   ...            ...   ...   ...   ...         ...          ...   \n 741  60.0   8.0            3.0  36.3  96.0  19.0   88.666667     0.774194   \n 868  75.0   9.0           12.0  36.8  89.0  20.0   89.333333     0.767241   \n 689  30.0   1.0            3.0  36.1  80.0  20.0  100.666667     0.634921   \n 727  50.0   5.0            2.0  36.5  83.0  20.0  134.666667     0.466292   \n 414  52.0   4.0            8.0  36.5  88.0  20.0  109.333333     0.594595   \n \n      HEIGHT  WEIGHT  ...  PD_0  PD_1  STROKE_0  STROKE_1  LIVER_CIRRHOSIS_0  \\\n 375   160.0    50.0  ...   1.0   0.0       0.0       1.0                1.0   \n 40    164.0    50.0  ...   1.0   0.0       1.0       0.0                1.0   \n 692   168.0    54.0  ...   1.0   0.0       1.0       0.0                1.0   \n 881   157.0    62.5  ...   1.0   0.0       1.0       0.0                1.0   \n 488   165.0    56.0  ...   1.0   0.0       1.0       0.0                1.0   \n ..      ...     ...  ...   ...   ...       ...       ...                ...   \n 741   140.0    35.0  ...   1.0   0.0       1.0       0.0                1.0   \n 868   160.0    50.0  ...   1.0   0.0       1.0       0.0                1.0   \n 689   169.0    84.0  ...   1.0   0.0       1.0       0.0                1.0   \n 727   160.0    81.0  ...   1.0   0.0       1.0       0.0                1.0   \n 414   175.0    70.0  ...   1.0   0.0       1.0       0.0                1.0   \n \n      LIVER_CIRRHOSIS_1  CKD_0  CKD_1  PARALYSIS_0  PARALYSIS_1  \n 375                0.0    1.0    0.0          1.0          0.0  \n 40                 0.0    1.0    0.0          1.0          0.0  \n 692                0.0    1.0    0.0          1.0          0.0  \n 881                0.0    1.0    0.0          1.0          0.0  \n 488                0.0    1.0    0.0          1.0          0.0  \n ..                 ...    ...    ...          ...          ...  \n 741                0.0    1.0    0.0          1.0          0.0  \n 868                0.0    1.0    0.0          1.0          0.0  \n 689                0.0    1.0    0.0          1.0          0.0  \n 727                0.0    1.0    0.0          1.0          0.0  \n 414                0.0    1.0    0.0          1.0          0.0  \n \n [628 rows x 117 columns],\n       AGE   ISS  CAPRINI_SCORE     T      P     R         MBP  SHOCK_INDEX  \\\n 462  84.0   9.0           12.0  36.3   81.0  20.0  112.333333     0.437838   \n 639  38.0   9.0            8.0  36.6   96.0  20.0  106.000000     0.657534   \n 435  45.0  36.0            9.0  36.8   63.0  20.0   84.666667     0.500000   \n 609  56.0   4.0           11.0  36.4   78.0  18.0   77.333333     0.764706   \n 339  63.0   8.0            6.0  36.5   98.0  20.0  108.666667     0.690141   \n ..    ...   ...            ...   ...    ...   ...         ...          ...   \n 391  57.0  21.0            6.0  36.5  108.0  24.0   67.000000     1.090909   \n 585  42.0  30.0           11.0  36.5  108.0  20.0   73.666667     1.069307   \n 835  32.0   4.0            3.0  36.5  123.0  20.0  111.000000     0.860140   \n 157  32.0  16.0           10.0  36.8   69.0  19.0  113.333333     0.522727   \n 248  37.0   4.0            9.0  36.8  105.0  22.0  120.333333     0.652174   \n \n      HEIGHT     WEIGHT  ...  PD_0  PD_1  STROKE_0  STROKE_1  \\\n 462   158.0  50.000000  ...   1.0   0.0       1.0       0.0   \n 639   170.0  80.000000  ...   1.0   0.0       1.0       0.0   \n 435   165.0  80.000000  ...   1.0   0.0       1.0       0.0   \n 609   163.0  80.000000  ...   1.0   0.0       1.0       0.0   \n 339   161.0  70.000000  ...   1.0   0.0       1.0       0.0   \n ..      ...        ...  ...   ...   ...       ...       ...   \n 391   150.0  75.000000  ...   1.0   0.0       1.0       0.0   \n 585   163.0  48.000000  ...   1.0   0.0       1.0       0.0   \n 835   170.0  73.000000  ...   1.0   0.0       1.0       0.0   \n 157   185.0  62.620979  ...   1.0   0.0       1.0       0.0   \n 248   170.0  80.000000  ...   1.0   0.0       1.0       0.0   \n \n      LIVER_CIRRHOSIS_0  LIVER_CIRRHOSIS_1  CKD_0  CKD_1  PARALYSIS_0  \\\n 462                1.0                0.0    1.0    0.0          1.0   \n 639                1.0                0.0    1.0    0.0          1.0   \n 435                1.0                0.0    1.0    0.0          1.0   \n 609                1.0                0.0    1.0    0.0          1.0   \n 339                1.0                0.0    1.0    0.0          1.0   \n ..                 ...                ...    ...    ...          ...   \n 391                1.0                0.0    1.0    0.0          1.0   \n 585                1.0                0.0    1.0    0.0          0.0   \n 835                1.0                0.0    1.0    0.0          1.0   \n 157                1.0                0.0    1.0    0.0          0.0   \n 248                1.0                0.0    1.0    0.0          1.0   \n \n      PARALYSIS_1  \n 462          0.0  \n 639          0.0  \n 435          0.0  \n 609          0.0  \n 339          0.0  \n ..           ...  \n 391          0.0  \n 585          1.0  \n 835          0.0  \n 157          1.0  \n 248          0.0  \n \n [270 rows x 117 columns],\n 375    0\n 40     0\n 692    0\n 881    0\n 488    0\n       ..\n 741    0\n 868    0\n 689    0\n 727    0\n 414    0\n Name: VTE, Length: 628, dtype: int64,\n 462    0\n 639    0\n 435    0\n 609    0\n 339    1\n       ..\n 391    0\n 585    0\n 835    0\n 157    0\n 248    0\n Name: VTE, Length: 270, dtype: int64,\n 447,\n Pipeline(memory=None,\n          steps=[('dtypes',\n                  DataTypes_Auto_infer(categorical_features=[],\n                                       display_types=True, features_todrop=[],\n                                       ml_usecase='classification',\n                                       numerical_features=['AGE', 'ISS',\n                                                           'CAPRINI_SCORE', 'T',\n                                                           'P', 'R', 'MBP',\n                                                           'SHOCK_INDEX',\n                                                           'HEIGHT', 'WEIGHT',\n                                                           'BMI', 'RBC', 'HGB',\n                                                           'PLT', 'WBC', 'ALB',\n                                                           'CRE', 'UA', 'AST',\n                                                           'ALT', 'GLU', 'TG',\n                                                           'CHO', 'CA', 'MG',\n                                                           'LDL', 'NA', 'K',\n                                                           'C...\n                 ('group', Empty()), ('nonliner', Empty()), ('scaling', Empty()),\n                 ('P_transform', Empty()), ('pt_target', Empty()),\n                 ('binn', Empty()), ('rem_outliers', Empty()),\n                 ('cluster_all', Empty()), ('dummy', Dummify(target='VTE')),\n                 ('fix_perfect', Empty()), ('clean_names', Clean_Colum_Names()),\n                 ('feature_select', Empty()), ('fix_multi', Empty()),\n                 ('dfs', Empty()), ('pca', Empty())],\n          verbose=False),\n [('Classification Setup Config',\n                         Description       Value\n   0                      session_id         447\n   1                     Target Type      Binary\n   2                   Label Encoded        None\n   3                   Original Data   (898, 77)\n   4                 Missing Values        False\n   5               Numeric Features           35\n   6           Categorical Features           41\n   7               Ordinal Features        False\n   8      High Cardinality Features        False\n   9        High Cardinality Method         None\n   10                   Sampled Data   (898, 77)\n   11          Transformed Train Set  (628, 117)\n   12           Transformed Test Set  (270, 117)\n   13               Numeric Imputer         mean\n   14           Categorical Imputer     constant\n   15                     Normalize        False\n   16              Normalize Method         None\n   17                Transformation        False\n   18         Transformation Method         None\n   19                           PCA        False\n   20                    PCA Method         None\n   21                PCA Components         None\n   22           Ignore Low Variance        False\n   23           Combine Rare Levels        False\n   24          Rare Level Threshold         None\n   25               Numeric Binning        False\n   26               Remove Outliers        False\n   27            Outliers Threshold         None\n   28      Remove Multicollinearity        False\n   29   Multicollinearity Threshold         None\n   30                    Clustering        False\n   31          Clustering Iteration         None\n   32           Polynomial Features        False\n   33             Polynomial Degree         None\n   34          Trignometry Features        False\n   35          Polynomial Threshold         None\n   36                Group Features        False\n   37             Feature Selection        False\n   38  Features Selection Threshold         None\n   39           Feature Interaction        False\n   40                 Feature Ratio        False\n   41         Interaction Threshold         None\n   42                  Fix Imbalance       False\n   43           Fix Imbalance Method       SMOTE),\n  ('X_training Set',\n         AGE   ISS  CAPRINI_SCORE     T     P     R         MBP  SHOCK_INDEX  \\\n   375  87.0   9.0           13.0  36.6  92.0  20.0  130.000000     0.541176   \n   40   87.0   5.0            3.0  36.5  83.0  20.0   94.000000     0.658730   \n   692  21.0   4.0            2.0  36.6  58.0  19.0  101.000000     0.429630   \n   881  48.0  13.0            9.0  36.6  60.0  18.0   99.333333     0.491803   \n   488  37.0   9.0            8.0  36.6  76.0  18.0   89.000000     0.617886   \n   ..    ...   ...            ...   ...   ...   ...         ...          ...   \n   741  60.0   8.0            3.0  36.3  96.0  19.0   88.666667     0.774194   \n   868  75.0   9.0           12.0  36.8  89.0  20.0   89.333333     0.767241   \n   689  30.0   1.0            3.0  36.1  80.0  20.0  100.666667     0.634921   \n   727  50.0   5.0            2.0  36.5  83.0  20.0  134.666667     0.466292   \n   414  52.0   4.0            8.0  36.5  88.0  20.0  109.333333     0.594595   \n   \n        HEIGHT  WEIGHT  ...  PD_0  PD_1  STROKE_0  STROKE_1  LIVER_CIRRHOSIS_0  \\\n   375   160.0    50.0  ...   1.0   0.0       0.0       1.0                1.0   \n   40    164.0    50.0  ...   1.0   0.0       1.0       0.0                1.0   \n   692   168.0    54.0  ...   1.0   0.0       1.0       0.0                1.0   \n   881   157.0    62.5  ...   1.0   0.0       1.0       0.0                1.0   \n   488   165.0    56.0  ...   1.0   0.0       1.0       0.0                1.0   \n   ..      ...     ...  ...   ...   ...       ...       ...                ...   \n   741   140.0    35.0  ...   1.0   0.0       1.0       0.0                1.0   \n   868   160.0    50.0  ...   1.0   0.0       1.0       0.0                1.0   \n   689   169.0    84.0  ...   1.0   0.0       1.0       0.0                1.0   \n   727   160.0    81.0  ...   1.0   0.0       1.0       0.0                1.0   \n   414   175.0    70.0  ...   1.0   0.0       1.0       0.0                1.0   \n   \n        LIVER_CIRRHOSIS_1  CKD_0  CKD_1  PARALYSIS_0  PARALYSIS_1  \n   375                0.0    1.0    0.0          1.0          0.0  \n   40                 0.0    1.0    0.0          1.0          0.0  \n   692                0.0    1.0    0.0          1.0          0.0  \n   881                0.0    1.0    0.0          1.0          0.0  \n   488                0.0    1.0    0.0          1.0          0.0  \n   ..                 ...    ...    ...          ...          ...  \n   741                0.0    1.0    0.0          1.0          0.0  \n   868                0.0    1.0    0.0          1.0          0.0  \n   689                0.0    1.0    0.0          1.0          0.0  \n   727                0.0    1.0    0.0          1.0          0.0  \n   414                0.0    1.0    0.0          1.0          0.0  \n   \n   [628 rows x 117 columns]),\n  ('y_training Set',\n   375    0\n   40     0\n   692    0\n   881    0\n   488    0\n         ..\n   741    0\n   868    0\n   689    0\n   727    0\n   414    0\n   Name: VTE, Length: 628, dtype: int64),\n  ('X_test Set',\n         AGE   ISS  CAPRINI_SCORE     T      P     R         MBP  SHOCK_INDEX  \\\n   462  84.0   9.0           12.0  36.3   81.0  20.0  112.333333     0.437838   \n   639  38.0   9.0            8.0  36.6   96.0  20.0  106.000000     0.657534   \n   435  45.0  36.0            9.0  36.8   63.0  20.0   84.666667     0.500000   \n   609  56.0   4.0           11.0  36.4   78.0  18.0   77.333333     0.764706   \n   339  63.0   8.0            6.0  36.5   98.0  20.0  108.666667     0.690141   \n   ..    ...   ...            ...   ...    ...   ...         ...          ...   \n   391  57.0  21.0            6.0  36.5  108.0  24.0   67.000000     1.090909   \n   585  42.0  30.0           11.0  36.5  108.0  20.0   73.666667     1.069307   \n   835  32.0   4.0            3.0  36.5  123.0  20.0  111.000000     0.860140   \n   157  32.0  16.0           10.0  36.8   69.0  19.0  113.333333     0.522727   \n   248  37.0   4.0            9.0  36.8  105.0  22.0  120.333333     0.652174   \n   \n        HEIGHT     WEIGHT  ...  PD_0  PD_1  STROKE_0  STROKE_1  \\\n   462   158.0  50.000000  ...   1.0   0.0       1.0       0.0   \n   639   170.0  80.000000  ...   1.0   0.0       1.0       0.0   \n   435   165.0  80.000000  ...   1.0   0.0       1.0       0.0   \n   609   163.0  80.000000  ...   1.0   0.0       1.0       0.0   \n   339   161.0  70.000000  ...   1.0   0.0       1.0       0.0   \n   ..      ...        ...  ...   ...   ...       ...       ...   \n   391   150.0  75.000000  ...   1.0   0.0       1.0       0.0   \n   585   163.0  48.000000  ...   1.0   0.0       1.0       0.0   \n   835   170.0  73.000000  ...   1.0   0.0       1.0       0.0   \n   157   185.0  62.620979  ...   1.0   0.0       1.0       0.0   \n   248   170.0  80.000000  ...   1.0   0.0       1.0       0.0   \n   \n        LIVER_CIRRHOSIS_0  LIVER_CIRRHOSIS_1  CKD_0  CKD_1  PARALYSIS_0  \\\n   462                1.0                0.0    1.0    0.0          1.0   \n   639                1.0                0.0    1.0    0.0          1.0   \n   435                1.0                0.0    1.0    0.0          1.0   \n   609                1.0                0.0    1.0    0.0          1.0   \n   339                1.0                0.0    1.0    0.0          1.0   \n   ..                 ...                ...    ...    ...          ...   \n   391                1.0                0.0    1.0    0.0          1.0   \n   585                1.0                0.0    1.0    0.0          0.0   \n   835                1.0                0.0    1.0    0.0          1.0   \n   157                1.0                0.0    1.0    0.0          0.0   \n   248                1.0                0.0    1.0    0.0          1.0   \n   \n        PARALYSIS_1  \n   462          0.0  \n   639          0.0  \n   435          0.0  \n   609          0.0  \n   339          0.0  \n   ..           ...  \n   391          0.0  \n   585          1.0  \n   835          0.0  \n   157          1.0  \n   248          0.0  \n   \n   [270 rows x 117 columns]),\n  ('y_test Set',\n   462    0\n   639    0\n   435    0\n   609    0\n   339    1\n         ..\n   391    0\n   585    0\n   835    0\n   157    0\n   248    0\n   Name: VTE, Length: 270, dtype: int64),\n  ('Transformation Pipeline',\n   Pipeline(memory=None,\n            steps=[('dtypes',\n                    DataTypes_Auto_infer(categorical_features=[],\n                                         display_types=True, features_todrop=[],\n                                         ml_usecase='classification',\n                                         numerical_features=['AGE', 'ISS',\n                                                             'CAPRINI_SCORE', 'T',\n                                                             'P', 'R', 'MBP',\n                                                             'SHOCK_INDEX',\n                                                             'HEIGHT', 'WEIGHT',\n                                                             'BMI', 'RBC', 'HGB',\n                                                             'PLT', 'WBC', 'ALB',\n                                                             'CRE', 'UA', 'AST',\n                                                             'ALT', 'GLU', 'TG',\n                                                             'CHO', 'CA', 'MG',\n                                                             'LDL', 'NA', 'K',\n                                                             'C...\n                   ('group', Empty()), ('nonliner', Empty()), ('scaling', Empty()),\n                   ('P_transform', Empty()), ('pt_target', Empty()),\n                   ('binn', Empty()), ('rem_outliers', Empty()),\n                   ('cluster_all', Empty()), ('dummy', Dummify(target='VTE')),\n                   ('fix_perfect', Empty()), ('clean_names', Clean_Colum_Names()),\n                   ('feature_select', Empty()), ('fix_multi', Empty()),\n                   ('dfs', Empty()), ('pca', Empty())],\n            verbose=False))],\n False,\n -1,\n True,\n [],\n [],\n [],\n 'no_logging',\n False,\n False,\n 'd4b1',\n False,\n None,\n <Logger logs (DEBUG)>)"
     },
     "execution_count": 3,
     "metadata": {},
     "output_type": "execute_result"
    }
   ],
   "source": [
    "setup(data, target = 'VTE', numeric_features = numeric_cols, verbose = False)"
   ],
   "metadata": {
    "collapsed": false,
    "pycharm": {
     "name": "#%%\n"
    }
   }
  },
  {
   "cell_type": "markdown",
   "source": [
    "模型比较"
   ],
   "metadata": {
    "collapsed": false,
    "pycharm": {
     "name": "#%% md\n"
    }
   }
  },
  {
   "cell_type": "code",
   "execution_count": 4,
   "outputs": [
    {
     "data": {
      "text/plain": "<pandas.io.formats.style.Styler at 0x7ff0c3afb250>",
      "text/html": "<style  type=\"text/css\" >\n    #T_8b1e5016_d867_11ea_a62b_f018981e4f8b th {\n          text-align: left;\n    }    #T_8b1e5016_d867_11ea_a62b_f018981e4f8brow0_col0 {\n            text-align:  left;\n        }    #T_8b1e5016_d867_11ea_a62b_f018981e4f8brow0_col1 {\n            background-color:  yellow;\n            text-align:  left;\n        }    #T_8b1e5016_d867_11ea_a62b_f018981e4f8brow0_col2 {\n            : ;\n            text-align:  left;\n        }    #T_8b1e5016_d867_11ea_a62b_f018981e4f8brow0_col3 {\n            background-color:  yellow;\n            text-align:  left;\n        }    #T_8b1e5016_d867_11ea_a62b_f018981e4f8brow0_col4 {\n            : ;\n            text-align:  left;\n        }    #T_8b1e5016_d867_11ea_a62b_f018981e4f8brow0_col5 {\n            background-color:  yellow;\n            text-align:  left;\n        }    #T_8b1e5016_d867_11ea_a62b_f018981e4f8brow0_col6 {\n            background-color:  yellow;\n            text-align:  left;\n        }    #T_8b1e5016_d867_11ea_a62b_f018981e4f8brow0_col7 {\n            background-color:  yellow;\n            text-align:  left;\n        }    #T_8b1e5016_d867_11ea_a62b_f018981e4f8brow0_col8 {\n            background-color:  lightgrey;\n            text-align:  left;\n        }    #T_8b1e5016_d867_11ea_a62b_f018981e4f8brow1_col0 {\n            text-align:  left;\n        }    #T_8b1e5016_d867_11ea_a62b_f018981e4f8brow1_col1 {\n            : ;\n            text-align:  left;\n        }    #T_8b1e5016_d867_11ea_a62b_f018981e4f8brow1_col2 {\n            : ;\n            text-align:  left;\n        }    #T_8b1e5016_d867_11ea_a62b_f018981e4f8brow1_col3 {\n            : ;\n            text-align:  left;\n        }    #T_8b1e5016_d867_11ea_a62b_f018981e4f8brow1_col4 {\n            : ;\n            text-align:  left;\n        }    #T_8b1e5016_d867_11ea_a62b_f018981e4f8brow1_col5 {\n            : ;\n            text-align:  left;\n        }    #T_8b1e5016_d867_11ea_a62b_f018981e4f8brow1_col6 {\n            : ;\n            text-align:  left;\n        }    #T_8b1e5016_d867_11ea_a62b_f018981e4f8brow1_col7 {\n            : ;\n            text-align:  left;\n        }    #T_8b1e5016_d867_11ea_a62b_f018981e4f8brow1_col8 {\n            background-color:  lightgrey;\n            text-align:  left;\n        }    #T_8b1e5016_d867_11ea_a62b_f018981e4f8brow2_col0 {\n            text-align:  left;\n        }    #T_8b1e5016_d867_11ea_a62b_f018981e4f8brow2_col1 {\n            : ;\n            text-align:  left;\n        }    #T_8b1e5016_d867_11ea_a62b_f018981e4f8brow2_col2 {\n            background-color:  yellow;\n            text-align:  left;\n        }    #T_8b1e5016_d867_11ea_a62b_f018981e4f8brow2_col3 {\n            : ;\n            text-align:  left;\n        }    #T_8b1e5016_d867_11ea_a62b_f018981e4f8brow2_col4 {\n            : ;\n            text-align:  left;\n        }    #T_8b1e5016_d867_11ea_a62b_f018981e4f8brow2_col5 {\n            : ;\n            text-align:  left;\n        }    #T_8b1e5016_d867_11ea_a62b_f018981e4f8brow2_col6 {\n            : ;\n            text-align:  left;\n        }    #T_8b1e5016_d867_11ea_a62b_f018981e4f8brow2_col7 {\n            : ;\n            text-align:  left;\n        }    #T_8b1e5016_d867_11ea_a62b_f018981e4f8brow2_col8 {\n            background-color:  lightgrey;\n            text-align:  left;\n        }    #T_8b1e5016_d867_11ea_a62b_f018981e4f8brow3_col0 {\n            text-align:  left;\n        }    #T_8b1e5016_d867_11ea_a62b_f018981e4f8brow3_col1 {\n            : ;\n            text-align:  left;\n        }    #T_8b1e5016_d867_11ea_a62b_f018981e4f8brow3_col2 {\n            : ;\n            text-align:  left;\n        }    #T_8b1e5016_d867_11ea_a62b_f018981e4f8brow3_col3 {\n            : ;\n            text-align:  left;\n        }    #T_8b1e5016_d867_11ea_a62b_f018981e4f8brow3_col4 {\n            background-color:  yellow;\n            text-align:  left;\n        }    #T_8b1e5016_d867_11ea_a62b_f018981e4f8brow3_col5 {\n            : ;\n            text-align:  left;\n        }    #T_8b1e5016_d867_11ea_a62b_f018981e4f8brow3_col6 {\n            : ;\n            text-align:  left;\n        }    #T_8b1e5016_d867_11ea_a62b_f018981e4f8brow3_col7 {\n            : ;\n            text-align:  left;\n        }    #T_8b1e5016_d867_11ea_a62b_f018981e4f8brow3_col8 {\n            background-color:  lightgrey;\n            text-align:  left;\n        }</style><table id=\"T_8b1e5016_d867_11ea_a62b_f018981e4f8b\" ><thead>    <tr>        <th class=\"blank level0\" ></th>        <th class=\"col_heading level0 col0\" >Model</th>        <th class=\"col_heading level0 col1\" >Accuracy</th>        <th class=\"col_heading level0 col2\" >AUC</th>        <th class=\"col_heading level0 col3\" >Recall</th>        <th class=\"col_heading level0 col4\" >Prec.</th>        <th class=\"col_heading level0 col5\" >F1</th>        <th class=\"col_heading level0 col6\" >Kappa</th>        <th class=\"col_heading level0 col7\" >MCC</th>        <th class=\"col_heading level0 col8\" >TT (Sec)</th>    </tr></thead><tbody>\n                <tr>\n                        <th id=\"T_8b1e5016_d867_11ea_a62b_f018981e4f8blevel0_row0\" class=\"row_heading level0 row0\" >0</th>\n                        <td id=\"T_8b1e5016_d867_11ea_a62b_f018981e4f8brow0_col0\" class=\"data row0 col0\" >Extreme Gradient Boosting</td>\n                        <td id=\"T_8b1e5016_d867_11ea_a62b_f018981e4f8brow0_col1\" class=\"data row0 col1\" >0.8106</td>\n                        <td id=\"T_8b1e5016_d867_11ea_a62b_f018981e4f8brow0_col2\" class=\"data row0 col2\" >0.7465</td>\n                        <td id=\"T_8b1e5016_d867_11ea_a62b_f018981e4f8brow0_col3\" class=\"data row0 col3\" >0.3242</td>\n                        <td id=\"T_8b1e5016_d867_11ea_a62b_f018981e4f8brow0_col4\" class=\"data row0 col4\" >0.6056</td>\n                        <td id=\"T_8b1e5016_d867_11ea_a62b_f018981e4f8brow0_col5\" class=\"data row0 col5\" >0.4119</td>\n                        <td id=\"T_8b1e5016_d867_11ea_a62b_f018981e4f8brow0_col6\" class=\"data row0 col6\" >0.3152</td>\n                        <td id=\"T_8b1e5016_d867_11ea_a62b_f018981e4f8brow0_col7\" class=\"data row0 col7\" >0.3410</td>\n                        <td id=\"T_8b1e5016_d867_11ea_a62b_f018981e4f8brow0_col8\" class=\"data row0 col8\" >0.5174</td>\n            </tr>\n            <tr>\n                        <th id=\"T_8b1e5016_d867_11ea_a62b_f018981e4f8blevel0_row1\" class=\"row_heading level0 row1\" >1</th>\n                        <td id=\"T_8b1e5016_d867_11ea_a62b_f018981e4f8brow1_col0\" class=\"data row1 col0\" >Ridge Classifier</td>\n                        <td id=\"T_8b1e5016_d867_11ea_a62b_f018981e4f8brow1_col1\" class=\"data row1 col1\" >0.7962</td>\n                        <td id=\"T_8b1e5016_d867_11ea_a62b_f018981e4f8brow1_col2\" class=\"data row1 col2\" >0.0000</td>\n                        <td id=\"T_8b1e5016_d867_11ea_a62b_f018981e4f8brow1_col3\" class=\"data row1 col3\" >0.2681</td>\n                        <td id=\"T_8b1e5016_d867_11ea_a62b_f018981e4f8brow1_col4\" class=\"data row1 col4\" >0.5300</td>\n                        <td id=\"T_8b1e5016_d867_11ea_a62b_f018981e4f8brow1_col5\" class=\"data row1 col5\" >0.3496</td>\n                        <td id=\"T_8b1e5016_d867_11ea_a62b_f018981e4f8brow1_col6\" class=\"data row1 col6\" >0.2483</td>\n                        <td id=\"T_8b1e5016_d867_11ea_a62b_f018981e4f8brow1_col7\" class=\"data row1 col7\" >0.2693</td>\n                        <td id=\"T_8b1e5016_d867_11ea_a62b_f018981e4f8brow1_col8\" class=\"data row1 col8\" >0.0339</td>\n            </tr>\n            <tr>\n                        <th id=\"T_8b1e5016_d867_11ea_a62b_f018981e4f8blevel0_row2\" class=\"row_heading level0 row2\" >2</th>\n                        <td id=\"T_8b1e5016_d867_11ea_a62b_f018981e4f8brow2_col0\" class=\"data row2 col0\" >Logistic Regression</td>\n                        <td id=\"T_8b1e5016_d867_11ea_a62b_f018981e4f8brow2_col1\" class=\"data row2 col1\" >0.7899</td>\n                        <td id=\"T_8b1e5016_d867_11ea_a62b_f018981e4f8brow2_col2\" class=\"data row2 col2\" >0.7485</td>\n                        <td id=\"T_8b1e5016_d867_11ea_a62b_f018981e4f8brow2_col3\" class=\"data row2 col3\" >0.2022</td>\n                        <td id=\"T_8b1e5016_d867_11ea_a62b_f018981e4f8brow2_col4\" class=\"data row2 col4\" >0.5686</td>\n                        <td id=\"T_8b1e5016_d867_11ea_a62b_f018981e4f8brow2_col5\" class=\"data row2 col5\" >0.2834</td>\n                        <td id=\"T_8b1e5016_d867_11ea_a62b_f018981e4f8brow2_col6\" class=\"data row2 col6\" >0.1920</td>\n                        <td id=\"T_8b1e5016_d867_11ea_a62b_f018981e4f8brow2_col7\" class=\"data row2 col7\" >0.2311</td>\n                        <td id=\"T_8b1e5016_d867_11ea_a62b_f018981e4f8brow2_col8\" class=\"data row2 col8\" >0.0498</td>\n            </tr>\n            <tr>\n                        <th id=\"T_8b1e5016_d867_11ea_a62b_f018981e4f8blevel0_row3\" class=\"row_heading level0 row3\" >3</th>\n                        <td id=\"T_8b1e5016_d867_11ea_a62b_f018981e4f8brow3_col0\" class=\"data row3 col0\" >Random Forest Classifier</td>\n                        <td id=\"T_8b1e5016_d867_11ea_a62b_f018981e4f8brow3_col1\" class=\"data row3 col1\" >0.7930</td>\n                        <td id=\"T_8b1e5016_d867_11ea_a62b_f018981e4f8brow3_col2\" class=\"data row3 col2\" >0.6781</td>\n                        <td id=\"T_8b1e5016_d867_11ea_a62b_f018981e4f8brow3_col3\" class=\"data row3 col3\" >0.1632</td>\n                        <td id=\"T_8b1e5016_d867_11ea_a62b_f018981e4f8brow3_col4\" class=\"data row3 col4\" >0.6200</td>\n                        <td id=\"T_8b1e5016_d867_11ea_a62b_f018981e4f8brow3_col5\" class=\"data row3 col5\" >0.2488</td>\n                        <td id=\"T_8b1e5016_d867_11ea_a62b_f018981e4f8brow3_col6\" class=\"data row3 col6\" >0.1698</td>\n                        <td id=\"T_8b1e5016_d867_11ea_a62b_f018981e4f8brow3_col7\" class=\"data row3 col7\" >0.2253</td>\n                        <td id=\"T_8b1e5016_d867_11ea_a62b_f018981e4f8brow3_col8\" class=\"data row3 col8\" >0.0568</td>\n            </tr>\n    </tbody></table>"
     },
     "metadata": {},
     "output_type": "display_data"
    },
    {
     "name": "stderr",
     "output_type": "stream",
     "text": [
      "INFO:logs:create_model_container: 1\n",
      "INFO:logs:master_model_container: 1\n",
      "INFO:logs:display_container: 2\n",
      "INFO:logs:XGBClassifier(base_score=0.5, booster='gbtree', colsample_bylevel=1,\n",
      "              colsample_bynode=1, colsample_bytree=1, gamma=0, gpu_id=-1,\n",
      "              importance_type='gain', interaction_constraints='',\n",
      "              learning_rate=0.300000012, max_delta_step=0, max_depth=6,\n",
      "              min_child_weight=1, missing=nan, monotone_constraints='()',\n",
      "              n_estimators=100, n_jobs=-1, num_parallel_tree=1,\n",
      "              objective='binary:logistic', random_state=447, reg_alpha=0,\n",
      "              reg_lambda=1, scale_pos_weight=1, subsample=1,\n",
      "              tree_method='exact', validate_parameters=1, verbosity=0)\n",
      "INFO:logs:compare_models() succesfully completed......................................\n"
     ]
    }
   ],
   "source": [
    "# 自动打印各模型各指标对比表.\n",
    "# 创建模型和训练调参.\n",
    "# ID          Name\n",
    "# --------    ----------\n",
    "# 'lr'        Logistic Regression\n",
    "# 'knn'       K Nearest Neighbour\n",
    "# 'nb'        Naive Bayes\n",
    "# 'dt'        Decision Tree Classifier\n",
    "# 'svm'       SVM - Linear Kernel\n",
    "# 'rbfsvm'    SVM - Radial Kernel\n",
    "# 'gpc'       Gaussian Process Classifier\n",
    "# 'mlp'       Multi Level Perceptron\n",
    "# 'ridge'     Ridge Classifier\n",
    "# 'rf'        Random Forest Classifier\n",
    "# 'qda'       Quadratic Discriminant Analysis\n",
    "# 'ada'       Ada Boost Classifier\n",
    "# 'gbc'       Gradient Boosting Classifier\n",
    "# 'lda'       Linear Discriminant Analysis\n",
    "# 'et'        Extra Trees Classifier\n",
    "# 'xgboost'   Extreme Gradient Boosting\n",
    "# 'lightgbm'  Light Gradient Boosting\n",
    "# 'catboost'  CatBoost Classifier\n",
    "model_store_final = compare_models(\n",
    "    whitelist = ['lr', 'rf', 'ridge', 'xgboost'],\n",
    "    sort = 'F1',\n",
    "    verbose = True\n",
    ")"
   ],
   "metadata": {
    "collapsed": false,
    "pycharm": {
     "name": "#%%\n"
    }
   }
  },
  {
   "cell_type": "markdown",
   "source": [
    "单模型训练"
   ],
   "metadata": {
    "collapsed": false,
    "pycharm": {
     "name": "#%% md\n"
    }
   }
  },
  {
   "cell_type": "code",
   "execution_count": 5,
   "outputs": [
    {
     "data": {
      "text/plain": "<pandas.io.formats.style.Styler at 0x7ff0ccb57520>",
      "text/html": "<style  type=\"text/css\" >\n    #T_8bd24eae_d867_11ea_a62b_f018981e4f8brow10_col0 {\n            background:  yellow;\n        }    #T_8bd24eae_d867_11ea_a62b_f018981e4f8brow10_col1 {\n            background:  yellow;\n        }    #T_8bd24eae_d867_11ea_a62b_f018981e4f8brow10_col2 {\n            background:  yellow;\n        }    #T_8bd24eae_d867_11ea_a62b_f018981e4f8brow10_col3 {\n            background:  yellow;\n        }    #T_8bd24eae_d867_11ea_a62b_f018981e4f8brow10_col4 {\n            background:  yellow;\n        }    #T_8bd24eae_d867_11ea_a62b_f018981e4f8brow10_col5 {\n            background:  yellow;\n        }    #T_8bd24eae_d867_11ea_a62b_f018981e4f8brow10_col6 {\n            background:  yellow;\n        }</style><table id=\"T_8bd24eae_d867_11ea_a62b_f018981e4f8b\" ><thead>    <tr>        <th class=\"blank level0\" ></th>        <th class=\"col_heading level0 col0\" >Accuracy</th>        <th class=\"col_heading level0 col1\" >AUC</th>        <th class=\"col_heading level0 col2\" >Recall</th>        <th class=\"col_heading level0 col3\" >Prec.</th>        <th class=\"col_heading level0 col4\" >F1</th>        <th class=\"col_heading level0 col5\" >Kappa</th>        <th class=\"col_heading level0 col6\" >MCC</th>    </tr></thead><tbody>\n                <tr>\n                        <th id=\"T_8bd24eae_d867_11ea_a62b_f018981e4f8blevel0_row0\" class=\"row_heading level0 row0\" >0</th>\n                        <td id=\"T_8bd24eae_d867_11ea_a62b_f018981e4f8brow0_col0\" class=\"data row0 col0\" >0.8254</td>\n                        <td id=\"T_8bd24eae_d867_11ea_a62b_f018981e4f8brow0_col1\" class=\"data row0 col1\" >0.6585</td>\n                        <td id=\"T_8bd24eae_d867_11ea_a62b_f018981e4f8brow0_col2\" class=\"data row0 col2\" >0.1538</td>\n                        <td id=\"T_8bd24eae_d867_11ea_a62b_f018981e4f8brow0_col3\" class=\"data row0 col3\" >1.0000</td>\n                        <td id=\"T_8bd24eae_d867_11ea_a62b_f018981e4f8brow0_col4\" class=\"data row0 col4\" >0.2667</td>\n                        <td id=\"T_8bd24eae_d867_11ea_a62b_f018981e4f8brow0_col5\" class=\"data row0 col5\" >0.2240</td>\n                        <td id=\"T_8bd24eae_d867_11ea_a62b_f018981e4f8brow0_col6\" class=\"data row0 col6\" >0.3551</td>\n            </tr>\n            <tr>\n                        <th id=\"T_8bd24eae_d867_11ea_a62b_f018981e4f8blevel0_row1\" class=\"row_heading level0 row1\" >1</th>\n                        <td id=\"T_8bd24eae_d867_11ea_a62b_f018981e4f8brow1_col0\" class=\"data row1 col0\" >0.7937</td>\n                        <td id=\"T_8bd24eae_d867_11ea_a62b_f018981e4f8brow1_col1\" class=\"data row1 col1\" >0.8215</td>\n                        <td id=\"T_8bd24eae_d867_11ea_a62b_f018981e4f8brow1_col2\" class=\"data row1 col2\" >0.0769</td>\n                        <td id=\"T_8bd24eae_d867_11ea_a62b_f018981e4f8brow1_col3\" class=\"data row1 col3\" >0.5000</td>\n                        <td id=\"T_8bd24eae_d867_11ea_a62b_f018981e4f8brow1_col4\" class=\"data row1 col4\" >0.1333</td>\n                        <td id=\"T_8bd24eae_d867_11ea_a62b_f018981e4f8brow1_col5\" class=\"data row1 col5\" >0.0829</td>\n                        <td id=\"T_8bd24eae_d867_11ea_a62b_f018981e4f8brow1_col6\" class=\"data row1 col6\" >0.1314</td>\n            </tr>\n            <tr>\n                        <th id=\"T_8bd24eae_d867_11ea_a62b_f018981e4f8blevel0_row2\" class=\"row_heading level0 row2\" >2</th>\n                        <td id=\"T_8bd24eae_d867_11ea_a62b_f018981e4f8brow2_col0\" class=\"data row2 col0\" >0.7937</td>\n                        <td id=\"T_8bd24eae_d867_11ea_a62b_f018981e4f8brow2_col1\" class=\"data row2 col1\" >0.8185</td>\n                        <td id=\"T_8bd24eae_d867_11ea_a62b_f018981e4f8brow2_col2\" class=\"data row2 col2\" >0.1538</td>\n                        <td id=\"T_8bd24eae_d867_11ea_a62b_f018981e4f8brow2_col3\" class=\"data row2 col3\" >0.5000</td>\n                        <td id=\"T_8bd24eae_d867_11ea_a62b_f018981e4f8brow2_col4\" class=\"data row2 col4\" >0.2353</td>\n                        <td id=\"T_8bd24eae_d867_11ea_a62b_f018981e4f8brow2_col5\" class=\"data row2 col5\" >0.1531</td>\n                        <td id=\"T_8bd24eae_d867_11ea_a62b_f018981e4f8brow2_col6\" class=\"data row2 col6\" >0.1889</td>\n            </tr>\n            <tr>\n                        <th id=\"T_8bd24eae_d867_11ea_a62b_f018981e4f8blevel0_row3\" class=\"row_heading level0 row3\" >3</th>\n                        <td id=\"T_8bd24eae_d867_11ea_a62b_f018981e4f8brow3_col0\" class=\"data row3 col0\" >0.7937</td>\n                        <td id=\"T_8bd24eae_d867_11ea_a62b_f018981e4f8brow3_col1\" class=\"data row3 col1\" >0.7323</td>\n                        <td id=\"T_8bd24eae_d867_11ea_a62b_f018981e4f8brow3_col2\" class=\"data row3 col2\" >0.0000</td>\n                        <td id=\"T_8bd24eae_d867_11ea_a62b_f018981e4f8brow3_col3\" class=\"data row3 col3\" >0.0000</td>\n                        <td id=\"T_8bd24eae_d867_11ea_a62b_f018981e4f8brow3_col4\" class=\"data row3 col4\" >0.0000</td>\n                        <td id=\"T_8bd24eae_d867_11ea_a62b_f018981e4f8brow3_col5\" class=\"data row3 col5\" >0.0000</td>\n                        <td id=\"T_8bd24eae_d867_11ea_a62b_f018981e4f8brow3_col6\" class=\"data row3 col6\" >0.0000</td>\n            </tr>\n            <tr>\n                        <th id=\"T_8bd24eae_d867_11ea_a62b_f018981e4f8blevel0_row4\" class=\"row_heading level0 row4\" >4</th>\n                        <td id=\"T_8bd24eae_d867_11ea_a62b_f018981e4f8brow4_col0\" class=\"data row4 col0\" >0.7778</td>\n                        <td id=\"T_8bd24eae_d867_11ea_a62b_f018981e4f8brow4_col1\" class=\"data row4 col1\" >0.7085</td>\n                        <td id=\"T_8bd24eae_d867_11ea_a62b_f018981e4f8brow4_col2\" class=\"data row4 col2\" >0.0000</td>\n                        <td id=\"T_8bd24eae_d867_11ea_a62b_f018981e4f8brow4_col3\" class=\"data row4 col3\" >0.0000</td>\n                        <td id=\"T_8bd24eae_d867_11ea_a62b_f018981e4f8brow4_col4\" class=\"data row4 col4\" >0.0000</td>\n                        <td id=\"T_8bd24eae_d867_11ea_a62b_f018981e4f8brow4_col5\" class=\"data row4 col5\" >0.0000</td>\n                        <td id=\"T_8bd24eae_d867_11ea_a62b_f018981e4f8brow4_col6\" class=\"data row4 col6\" >0.0000</td>\n            </tr>\n            <tr>\n                        <th id=\"T_8bd24eae_d867_11ea_a62b_f018981e4f8blevel0_row5\" class=\"row_heading level0 row5\" >5</th>\n                        <td id=\"T_8bd24eae_d867_11ea_a62b_f018981e4f8brow5_col0\" class=\"data row5 col0\" >0.7619</td>\n                        <td id=\"T_8bd24eae_d867_11ea_a62b_f018981e4f8brow5_col1\" class=\"data row5 col1\" >0.7828</td>\n                        <td id=\"T_8bd24eae_d867_11ea_a62b_f018981e4f8brow5_col2\" class=\"data row5 col2\" >0.0000</td>\n                        <td id=\"T_8bd24eae_d867_11ea_a62b_f018981e4f8brow5_col3\" class=\"data row5 col3\" >0.0000</td>\n                        <td id=\"T_8bd24eae_d867_11ea_a62b_f018981e4f8brow5_col4\" class=\"data row5 col4\" >0.0000</td>\n                        <td id=\"T_8bd24eae_d867_11ea_a62b_f018981e4f8brow5_col5\" class=\"data row5 col5\" >-0.0305</td>\n                        <td id=\"T_8bd24eae_d867_11ea_a62b_f018981e4f8brow5_col6\" class=\"data row5 col6\" >-0.0679</td>\n            </tr>\n            <tr>\n                        <th id=\"T_8bd24eae_d867_11ea_a62b_f018981e4f8blevel0_row6\" class=\"row_heading level0 row6\" >6</th>\n                        <td id=\"T_8bd24eae_d867_11ea_a62b_f018981e4f8brow6_col0\" class=\"data row6 col0\" >0.7937</td>\n                        <td id=\"T_8bd24eae_d867_11ea_a62b_f018981e4f8brow6_col1\" class=\"data row6 col1\" >0.6487</td>\n                        <td id=\"T_8bd24eae_d867_11ea_a62b_f018981e4f8brow6_col2\" class=\"data row6 col2\" >0.0714</td>\n                        <td id=\"T_8bd24eae_d867_11ea_a62b_f018981e4f8brow6_col3\" class=\"data row6 col3\" >1.0000</td>\n                        <td id=\"T_8bd24eae_d867_11ea_a62b_f018981e4f8brow6_col4\" class=\"data row6 col4\" >0.1333</td>\n                        <td id=\"T_8bd24eae_d867_11ea_a62b_f018981e4f8brow6_col5\" class=\"data row6 col5\" >0.1069</td>\n                        <td id=\"T_8bd24eae_d867_11ea_a62b_f018981e4f8brow6_col6\" class=\"data row6 col6\" >0.2376</td>\n            </tr>\n            <tr>\n                        <th id=\"T_8bd24eae_d867_11ea_a62b_f018981e4f8blevel0_row7\" class=\"row_heading level0 row7\" >7</th>\n                        <td id=\"T_8bd24eae_d867_11ea_a62b_f018981e4f8brow7_col0\" class=\"data row7 col0\" >0.7778</td>\n                        <td id=\"T_8bd24eae_d867_11ea_a62b_f018981e4f8brow7_col1\" class=\"data row7 col1\" >0.7143</td>\n                        <td id=\"T_8bd24eae_d867_11ea_a62b_f018981e4f8brow7_col2\" class=\"data row7 col2\" >0.0714</td>\n                        <td id=\"T_8bd24eae_d867_11ea_a62b_f018981e4f8brow7_col3\" class=\"data row7 col3\" >0.5000</td>\n                        <td id=\"T_8bd24eae_d867_11ea_a62b_f018981e4f8brow7_col4\" class=\"data row7 col4\" >0.1250</td>\n                        <td id=\"T_8bd24eae_d867_11ea_a62b_f018981e4f8brow7_col5\" class=\"data row7 col5\" >0.0735</td>\n                        <td id=\"T_8bd24eae_d867_11ea_a62b_f018981e4f8brow7_col6\" class=\"data row7 col6\" >0.1210</td>\n            </tr>\n            <tr>\n                        <th id=\"T_8bd24eae_d867_11ea_a62b_f018981e4f8blevel0_row8\" class=\"row_heading level0 row8\" >8</th>\n                        <td id=\"T_8bd24eae_d867_11ea_a62b_f018981e4f8brow8_col0\" class=\"data row8 col0\" >0.7903</td>\n                        <td id=\"T_8bd24eae_d867_11ea_a62b_f018981e4f8brow8_col1\" class=\"data row8 col1\" >0.8006</td>\n                        <td id=\"T_8bd24eae_d867_11ea_a62b_f018981e4f8brow8_col2\" class=\"data row8 col2\" >0.0000</td>\n                        <td id=\"T_8bd24eae_d867_11ea_a62b_f018981e4f8brow8_col3\" class=\"data row8 col3\" >0.0000</td>\n                        <td id=\"T_8bd24eae_d867_11ea_a62b_f018981e4f8brow8_col4\" class=\"data row8 col4\" >0.0000</td>\n                        <td id=\"T_8bd24eae_d867_11ea_a62b_f018981e4f8brow8_col5\" class=\"data row8 col5\" >0.0000</td>\n                        <td id=\"T_8bd24eae_d867_11ea_a62b_f018981e4f8brow8_col6\" class=\"data row8 col6\" >0.0000</td>\n            </tr>\n            <tr>\n                        <th id=\"T_8bd24eae_d867_11ea_a62b_f018981e4f8blevel0_row9\" class=\"row_heading level0 row9\" >9</th>\n                        <td id=\"T_8bd24eae_d867_11ea_a62b_f018981e4f8brow9_col0\" class=\"data row9 col0\" >0.8226</td>\n                        <td id=\"T_8bd24eae_d867_11ea_a62b_f018981e4f8brow9_col1\" class=\"data row9 col1\" >0.6860</td>\n                        <td id=\"T_8bd24eae_d867_11ea_a62b_f018981e4f8brow9_col2\" class=\"data row9 col2\" >0.1538</td>\n                        <td id=\"T_8bd24eae_d867_11ea_a62b_f018981e4f8brow9_col3\" class=\"data row9 col3\" >1.0000</td>\n                        <td id=\"T_8bd24eae_d867_11ea_a62b_f018981e4f8brow9_col4\" class=\"data row9 col4\" >0.2667</td>\n                        <td id=\"T_8bd24eae_d867_11ea_a62b_f018981e4f8brow9_col5\" class=\"data row9 col5\" >0.2232</td>\n                        <td id=\"T_8bd24eae_d867_11ea_a62b_f018981e4f8brow9_col6\" class=\"data row9 col6\" >0.3545</td>\n            </tr>\n            <tr>\n                        <th id=\"T_8bd24eae_d867_11ea_a62b_f018981e4f8blevel0_row10\" class=\"row_heading level0 row10\" >Mean</th>\n                        <td id=\"T_8bd24eae_d867_11ea_a62b_f018981e4f8brow10_col0\" class=\"data row10 col0\" >0.7930</td>\n                        <td id=\"T_8bd24eae_d867_11ea_a62b_f018981e4f8brow10_col1\" class=\"data row10 col1\" >0.7372</td>\n                        <td id=\"T_8bd24eae_d867_11ea_a62b_f018981e4f8brow10_col2\" class=\"data row10 col2\" >0.0681</td>\n                        <td id=\"T_8bd24eae_d867_11ea_a62b_f018981e4f8brow10_col3\" class=\"data row10 col3\" >0.4500</td>\n                        <td id=\"T_8bd24eae_d867_11ea_a62b_f018981e4f8brow10_col4\" class=\"data row10 col4\" >0.1160</td>\n                        <td id=\"T_8bd24eae_d867_11ea_a62b_f018981e4f8brow10_col5\" class=\"data row10 col5\" >0.0833</td>\n                        <td id=\"T_8bd24eae_d867_11ea_a62b_f018981e4f8brow10_col6\" class=\"data row10 col6\" >0.1321</td>\n            </tr>\n            <tr>\n                        <th id=\"T_8bd24eae_d867_11ea_a62b_f018981e4f8blevel0_row11\" class=\"row_heading level0 row11\" >SD</th>\n                        <td id=\"T_8bd24eae_d867_11ea_a62b_f018981e4f8brow11_col0\" class=\"data row11 col0\" >0.0183</td>\n                        <td id=\"T_8bd24eae_d867_11ea_a62b_f018981e4f8brow11_col1\" class=\"data row11 col1\" >0.0615</td>\n                        <td id=\"T_8bd24eae_d867_11ea_a62b_f018981e4f8brow11_col2\" class=\"data row11 col2\" >0.0638</td>\n                        <td id=\"T_8bd24eae_d867_11ea_a62b_f018981e4f8brow11_col3\" class=\"data row11 col3\" >0.4153</td>\n                        <td id=\"T_8bd24eae_d867_11ea_a62b_f018981e4f8brow11_col4\" class=\"data row11 col4\" >0.1068</td>\n                        <td id=\"T_8bd24eae_d867_11ea_a62b_f018981e4f8brow11_col5\" class=\"data row11 col5\" >0.0887</td>\n                        <td id=\"T_8bd24eae_d867_11ea_a62b_f018981e4f8brow11_col6\" class=\"data row11 col6\" >0.1435</td>\n            </tr>\n    </tbody></table>"
     },
     "metadata": {},
     "output_type": "display_data"
    },
    {
     "name": "stderr",
     "output_type": "stream",
     "text": [
      "INFO:logs:create_model_container: 2\n",
      "INFO:logs:master_model_container: 2\n",
      "INFO:logs:display_container: 3\n",
      "INFO:logs:RandomForestClassifier(bootstrap=True, ccp_alpha=0.0, class_weight=None,\n",
      "                       criterion='gini', max_depth=4, max_features='auto',\n",
      "                       max_leaf_nodes=None, max_samples=None,\n",
      "                       min_impurity_decrease=0.0, min_impurity_split=None,\n",
      "                       min_samples_leaf=5, min_samples_split=10,\n",
      "                       min_weight_fraction_leaf=0.0, n_estimators=10, n_jobs=-1,\n",
      "                       oob_score=False, random_state=447, verbose=0,\n",
      "                       warm_start=False)\n",
      "INFO:logs:create_model() succesfully completed......................................\n"
     ]
    }
   ],
   "source": [
    "# 创建单个模型.\n",
    "params = {'max_depth': 4, 'min_samples_leaf': 5, 'min_samples_split': 10}\n",
    "clf = create_model('rf', verbose = True, **params)"
   ],
   "metadata": {
    "collapsed": false,
    "pycharm": {
     "name": "#%%\n"
    }
   }
  },
  {
   "cell_type": "code",
   "execution_count": 6,
   "outputs": [
    {
     "data": {
      "text/plain": "<pandas.io.formats.style.Styler at 0x7ff0ccdaa0d0>",
      "text/html": "<style  type=\"text/css\" >\n    #T_90c40164_d867_11ea_a62b_f018981e4f8brow10_col0 {\n            background:  yellow;\n        }    #T_90c40164_d867_11ea_a62b_f018981e4f8brow10_col1 {\n            background:  yellow;\n        }    #T_90c40164_d867_11ea_a62b_f018981e4f8brow10_col2 {\n            background:  yellow;\n        }    #T_90c40164_d867_11ea_a62b_f018981e4f8brow10_col3 {\n            background:  yellow;\n        }    #T_90c40164_d867_11ea_a62b_f018981e4f8brow10_col4 {\n            background:  yellow;\n        }    #T_90c40164_d867_11ea_a62b_f018981e4f8brow10_col5 {\n            background:  yellow;\n        }    #T_90c40164_d867_11ea_a62b_f018981e4f8brow10_col6 {\n            background:  yellow;\n        }</style><table id=\"T_90c40164_d867_11ea_a62b_f018981e4f8b\" ><thead>    <tr>        <th class=\"blank level0\" ></th>        <th class=\"col_heading level0 col0\" >Accuracy</th>        <th class=\"col_heading level0 col1\" >AUC</th>        <th class=\"col_heading level0 col2\" >Recall</th>        <th class=\"col_heading level0 col3\" >Prec.</th>        <th class=\"col_heading level0 col4\" >F1</th>        <th class=\"col_heading level0 col5\" >Kappa</th>        <th class=\"col_heading level0 col6\" >MCC</th>    </tr></thead><tbody>\n                <tr>\n                        <th id=\"T_90c40164_d867_11ea_a62b_f018981e4f8blevel0_row0\" class=\"row_heading level0 row0\" >0</th>\n                        <td id=\"T_90c40164_d867_11ea_a62b_f018981e4f8brow0_col0\" class=\"data row0 col0\" >0.8254</td>\n                        <td id=\"T_90c40164_d867_11ea_a62b_f018981e4f8brow0_col1\" class=\"data row0 col1\" >0.6346</td>\n                        <td id=\"T_90c40164_d867_11ea_a62b_f018981e4f8brow0_col2\" class=\"data row0 col2\" >0.1538</td>\n                        <td id=\"T_90c40164_d867_11ea_a62b_f018981e4f8brow0_col3\" class=\"data row0 col3\" >1.0000</td>\n                        <td id=\"T_90c40164_d867_11ea_a62b_f018981e4f8brow0_col4\" class=\"data row0 col4\" >0.2667</td>\n                        <td id=\"T_90c40164_d867_11ea_a62b_f018981e4f8brow0_col5\" class=\"data row0 col5\" >0.2240</td>\n                        <td id=\"T_90c40164_d867_11ea_a62b_f018981e4f8brow0_col6\" class=\"data row0 col6\" >0.3551</td>\n            </tr>\n            <tr>\n                        <th id=\"T_90c40164_d867_11ea_a62b_f018981e4f8blevel0_row1\" class=\"row_heading level0 row1\" >1</th>\n                        <td id=\"T_90c40164_d867_11ea_a62b_f018981e4f8brow1_col0\" class=\"data row1 col0\" >0.8730</td>\n                        <td id=\"T_90c40164_d867_11ea_a62b_f018981e4f8brow1_col1\" class=\"data row1 col1\" >0.8831</td>\n                        <td id=\"T_90c40164_d867_11ea_a62b_f018981e4f8brow1_col2\" class=\"data row1 col2\" >0.3846</td>\n                        <td id=\"T_90c40164_d867_11ea_a62b_f018981e4f8brow1_col3\" class=\"data row1 col3\" >1.0000</td>\n                        <td id=\"T_90c40164_d867_11ea_a62b_f018981e4f8brow1_col4\" class=\"data row1 col4\" >0.5556</td>\n                        <td id=\"T_90c40164_d867_11ea_a62b_f018981e4f8brow1_col5\" class=\"data row1 col5\" >0.4980</td>\n                        <td id=\"T_90c40164_d867_11ea_a62b_f018981e4f8brow1_col6\" class=\"data row1 col6\" >0.5758</td>\n            </tr>\n            <tr>\n                        <th id=\"T_90c40164_d867_11ea_a62b_f018981e4f8blevel0_row2\" class=\"row_heading level0 row2\" >2</th>\n                        <td id=\"T_90c40164_d867_11ea_a62b_f018981e4f8brow2_col0\" class=\"data row2 col0\" >0.7937</td>\n                        <td id=\"T_90c40164_d867_11ea_a62b_f018981e4f8brow2_col1\" class=\"data row2 col1\" >0.8185</td>\n                        <td id=\"T_90c40164_d867_11ea_a62b_f018981e4f8brow2_col2\" class=\"data row2 col2\" >0.3077</td>\n                        <td id=\"T_90c40164_d867_11ea_a62b_f018981e4f8brow2_col3\" class=\"data row2 col3\" >0.5000</td>\n                        <td id=\"T_90c40164_d867_11ea_a62b_f018981e4f8brow2_col4\" class=\"data row2 col4\" >0.3810</td>\n                        <td id=\"T_90c40164_d867_11ea_a62b_f018981e4f8brow2_col5\" class=\"data row2 col5\" >0.2655</td>\n                        <td id=\"T_90c40164_d867_11ea_a62b_f018981e4f8brow2_col6\" class=\"data row2 col6\" >0.2767</td>\n            </tr>\n            <tr>\n                        <th id=\"T_90c40164_d867_11ea_a62b_f018981e4f8blevel0_row3\" class=\"row_heading level0 row3\" >3</th>\n                        <td id=\"T_90c40164_d867_11ea_a62b_f018981e4f8brow3_col0\" class=\"data row3 col0\" >0.7937</td>\n                        <td id=\"T_90c40164_d867_11ea_a62b_f018981e4f8brow3_col1\" class=\"data row3 col1\" >0.7954</td>\n                        <td id=\"T_90c40164_d867_11ea_a62b_f018981e4f8brow3_col2\" class=\"data row3 col2\" >0.1538</td>\n                        <td id=\"T_90c40164_d867_11ea_a62b_f018981e4f8brow3_col3\" class=\"data row3 col3\" >0.5000</td>\n                        <td id=\"T_90c40164_d867_11ea_a62b_f018981e4f8brow3_col4\" class=\"data row3 col4\" >0.2353</td>\n                        <td id=\"T_90c40164_d867_11ea_a62b_f018981e4f8brow3_col5\" class=\"data row3 col5\" >0.1531</td>\n                        <td id=\"T_90c40164_d867_11ea_a62b_f018981e4f8brow3_col6\" class=\"data row3 col6\" >0.1889</td>\n            </tr>\n            <tr>\n                        <th id=\"T_90c40164_d867_11ea_a62b_f018981e4f8blevel0_row4\" class=\"row_heading level0 row4\" >4</th>\n                        <td id=\"T_90c40164_d867_11ea_a62b_f018981e4f8brow4_col0\" class=\"data row4 col0\" >0.7619</td>\n                        <td id=\"T_90c40164_d867_11ea_a62b_f018981e4f8brow4_col1\" class=\"data row4 col1\" >0.6990</td>\n                        <td id=\"T_90c40164_d867_11ea_a62b_f018981e4f8brow4_col2\" class=\"data row4 col2\" >0.0714</td>\n                        <td id=\"T_90c40164_d867_11ea_a62b_f018981e4f8brow4_col3\" class=\"data row4 col3\" >0.3333</td>\n                        <td id=\"T_90c40164_d867_11ea_a62b_f018981e4f8brow4_col4\" class=\"data row4 col4\" >0.1176</td>\n                        <td id=\"T_90c40164_d867_11ea_a62b_f018981e4f8brow4_col5\" class=\"data row4 col5\" >0.0426</td>\n                        <td id=\"T_90c40164_d867_11ea_a62b_f018981e4f8brow4_col6\" class=\"data row4 col6\" >0.0598</td>\n            </tr>\n            <tr>\n                        <th id=\"T_90c40164_d867_11ea_a62b_f018981e4f8blevel0_row5\" class=\"row_heading level0 row5\" >5</th>\n                        <td id=\"T_90c40164_d867_11ea_a62b_f018981e4f8brow5_col0\" class=\"data row5 col0\" >0.8254</td>\n                        <td id=\"T_90c40164_d867_11ea_a62b_f018981e4f8brow5_col1\" class=\"data row5 col1\" >0.8294</td>\n                        <td id=\"T_90c40164_d867_11ea_a62b_f018981e4f8brow5_col2\" class=\"data row5 col2\" >0.3571</td>\n                        <td id=\"T_90c40164_d867_11ea_a62b_f018981e4f8brow5_col3\" class=\"data row5 col3\" >0.7143</td>\n                        <td id=\"T_90c40164_d867_11ea_a62b_f018981e4f8brow5_col4\" class=\"data row5 col4\" >0.4762</td>\n                        <td id=\"T_90c40164_d867_11ea_a62b_f018981e4f8brow5_col5\" class=\"data row5 col5\" >0.3851</td>\n                        <td id=\"T_90c40164_d867_11ea_a62b_f018981e4f8brow5_col6\" class=\"data row5 col6\" >0.4185</td>\n            </tr>\n            <tr>\n                        <th id=\"T_90c40164_d867_11ea_a62b_f018981e4f8blevel0_row6\" class=\"row_heading level0 row6\" >6</th>\n                        <td id=\"T_90c40164_d867_11ea_a62b_f018981e4f8brow6_col0\" class=\"data row6 col0\" >0.7460</td>\n                        <td id=\"T_90c40164_d867_11ea_a62b_f018981e4f8brow6_col1\" class=\"data row6 col1\" >0.5802</td>\n                        <td id=\"T_90c40164_d867_11ea_a62b_f018981e4f8brow6_col2\" class=\"data row6 col2\" >0.1429</td>\n                        <td id=\"T_90c40164_d867_11ea_a62b_f018981e4f8brow6_col3\" class=\"data row6 col3\" >0.3333</td>\n                        <td id=\"T_90c40164_d867_11ea_a62b_f018981e4f8brow6_col4\" class=\"data row6 col4\" >0.2000</td>\n                        <td id=\"T_90c40164_d867_11ea_a62b_f018981e4f8brow6_col5\" class=\"data row6 col5\" >0.0769</td>\n                        <td id=\"T_90c40164_d867_11ea_a62b_f018981e4f8brow6_col6\" class=\"data row6 col6\" >0.0867</td>\n            </tr>\n            <tr>\n                        <th id=\"T_90c40164_d867_11ea_a62b_f018981e4f8blevel0_row7\" class=\"row_heading level0 row7\" >7</th>\n                        <td id=\"T_90c40164_d867_11ea_a62b_f018981e4f8brow7_col0\" class=\"data row7 col0\" >0.7778</td>\n                        <td id=\"T_90c40164_d867_11ea_a62b_f018981e4f8brow7_col1\" class=\"data row7 col1\" >0.6749</td>\n                        <td id=\"T_90c40164_d867_11ea_a62b_f018981e4f8brow7_col2\" class=\"data row7 col2\" >0.2143</td>\n                        <td id=\"T_90c40164_d867_11ea_a62b_f018981e4f8brow7_col3\" class=\"data row7 col3\" >0.5000</td>\n                        <td id=\"T_90c40164_d867_11ea_a62b_f018981e4f8brow7_col4\" class=\"data row7 col4\" >0.3000</td>\n                        <td id=\"T_90c40164_d867_11ea_a62b_f018981e4f8brow7_col5\" class=\"data row7 col5\" >0.1923</td>\n                        <td id=\"T_90c40164_d867_11ea_a62b_f018981e4f8brow7_col6\" class=\"data row7 col6\" >0.2168</td>\n            </tr>\n            <tr>\n                        <th id=\"T_90c40164_d867_11ea_a62b_f018981e4f8blevel0_row8\" class=\"row_heading level0 row8\" >8</th>\n                        <td id=\"T_90c40164_d867_11ea_a62b_f018981e4f8brow8_col0\" class=\"data row8 col0\" >0.8065</td>\n                        <td id=\"T_90c40164_d867_11ea_a62b_f018981e4f8brow8_col1\" class=\"data row8 col1\" >0.8289</td>\n                        <td id=\"T_90c40164_d867_11ea_a62b_f018981e4f8brow8_col2\" class=\"data row8 col2\" >0.2308</td>\n                        <td id=\"T_90c40164_d867_11ea_a62b_f018981e4f8brow8_col3\" class=\"data row8 col3\" >0.6000</td>\n                        <td id=\"T_90c40164_d867_11ea_a62b_f018981e4f8brow8_col4\" class=\"data row8 col4\" >0.3333</td>\n                        <td id=\"T_90c40164_d867_11ea_a62b_f018981e4f8brow8_col5\" class=\"data row8 col5\" >0.2454</td>\n                        <td id=\"T_90c40164_d867_11ea_a62b_f018981e4f8brow8_col6\" class=\"data row8 col6\" >0.2840</td>\n            </tr>\n            <tr>\n                        <th id=\"T_90c40164_d867_11ea_a62b_f018981e4f8blevel0_row9\" class=\"row_heading level0 row9\" >9</th>\n                        <td id=\"T_90c40164_d867_11ea_a62b_f018981e4f8brow9_col0\" class=\"data row9 col0\" >0.7742</td>\n                        <td id=\"T_90c40164_d867_11ea_a62b_f018981e4f8brow9_col1\" class=\"data row9 col1\" >0.6931</td>\n                        <td id=\"T_90c40164_d867_11ea_a62b_f018981e4f8brow9_col2\" class=\"data row9 col2\" >0.1538</td>\n                        <td id=\"T_90c40164_d867_11ea_a62b_f018981e4f8brow9_col3\" class=\"data row9 col3\" >0.4000</td>\n                        <td id=\"T_90c40164_d867_11ea_a62b_f018981e4f8brow9_col4\" class=\"data row9 col4\" >0.2222</td>\n                        <td id=\"T_90c40164_d867_11ea_a62b_f018981e4f8brow9_col5\" class=\"data row9 col5\" >0.1197</td>\n                        <td id=\"T_90c40164_d867_11ea_a62b_f018981e4f8brow9_col6\" class=\"data row9 col6\" >0.1385</td>\n            </tr>\n            <tr>\n                        <th id=\"T_90c40164_d867_11ea_a62b_f018981e4f8blevel0_row10\" class=\"row_heading level0 row10\" >Mean</th>\n                        <td id=\"T_90c40164_d867_11ea_a62b_f018981e4f8brow10_col0\" class=\"data row10 col0\" >0.7977</td>\n                        <td id=\"T_90c40164_d867_11ea_a62b_f018981e4f8brow10_col1\" class=\"data row10 col1\" >0.7437</td>\n                        <td id=\"T_90c40164_d867_11ea_a62b_f018981e4f8brow10_col2\" class=\"data row10 col2\" >0.2170</td>\n                        <td id=\"T_90c40164_d867_11ea_a62b_f018981e4f8brow10_col3\" class=\"data row10 col3\" >0.5881</td>\n                        <td id=\"T_90c40164_d867_11ea_a62b_f018981e4f8brow10_col4\" class=\"data row10 col4\" >0.3088</td>\n                        <td id=\"T_90c40164_d867_11ea_a62b_f018981e4f8brow10_col5\" class=\"data row10 col5\" >0.2202</td>\n                        <td id=\"T_90c40164_d867_11ea_a62b_f018981e4f8brow10_col6\" class=\"data row10 col6\" >0.2601</td>\n            </tr>\n            <tr>\n                        <th id=\"T_90c40164_d867_11ea_a62b_f018981e4f8blevel0_row11\" class=\"row_heading level0 row11\" >SD</th>\n                        <td id=\"T_90c40164_d867_11ea_a62b_f018981e4f8brow11_col0\" class=\"data row11 col0\" >0.0350</td>\n                        <td id=\"T_90c40164_d867_11ea_a62b_f018981e4f8brow11_col1\" class=\"data row11 col1\" >0.0950</td>\n                        <td id=\"T_90c40164_d867_11ea_a62b_f018981e4f8brow11_col2\" class=\"data row11 col2\" >0.0974</td>\n                        <td id=\"T_90c40164_d867_11ea_a62b_f018981e4f8brow11_col3\" class=\"data row11 col3\" >0.2332</td>\n                        <td id=\"T_90c40164_d867_11ea_a62b_f018981e4f8brow11_col4\" class=\"data row11 col4\" >0.1256</td>\n                        <td id=\"T_90c40164_d867_11ea_a62b_f018981e4f8brow11_col5\" class=\"data row11 col5\" >0.1321</td>\n                        <td id=\"T_90c40164_d867_11ea_a62b_f018981e4f8brow11_col6\" class=\"data row11 col6\" >0.1505</td>\n            </tr>\n    </tbody></table>"
     },
     "metadata": {},
     "output_type": "display_data"
    },
    {
     "name": "stderr",
     "output_type": "stream",
     "text": [
      "INFO:logs:create_model_container: 3\n",
      "INFO:logs:master_model_container: 3\n",
      "INFO:logs:display_container: 4\n",
      "INFO:logs:RandomForestClassifier(bootstrap=False, ccp_alpha=0.0, class_weight=None,\n",
      "                       criterion='entropy', max_depth=80, max_features='sqrt',\n",
      "                       max_leaf_nodes=None, max_samples=None,\n",
      "                       min_impurity_decrease=0.0, min_impurity_split=None,\n",
      "                       min_samples_leaf=4, min_samples_split=7,\n",
      "                       min_weight_fraction_leaf=0.0, n_estimators=10, n_jobs=-1,\n",
      "                       oob_score=False, random_state=447, verbose=0,\n",
      "                       warm_start=False)\n",
      "INFO:logs:tune_model() succesfully completed......................................\n"
     ]
    }
   ],
   "source": [
    "# 模型调参, 使用算法为Stratified Cross Validation.\n",
    "# TODO: 这里调参时clf中用户设定的参数也发生了改变.\n",
    "clf_tuned = tune_model(clf, optimize = 'F1', n_iter = 10, fold = 10, round = 4)"
   ],
   "metadata": {
    "collapsed": false,
    "pycharm": {
     "name": "#%%\n"
    }
   }
  },
  {
   "cell_type": "code",
   "execution_count": 10,
   "outputs": [
    {
     "data": {
      "text/plain": "interactive(children=(ToggleButtons(description='Plot Type:', icons=('',), options=(('Hyperparameters', 'param…",
      "application/vnd.jupyter.widget-view+json": {
       "version_major": 2,
       "version_minor": 0,
       "model_id": "758c645a38b0488791ba378a41d830e6"
      }
     },
     "metadata": {},
     "output_type": "display_data"
    }
   ],
   "source": [
    "# 模型评估.\n",
    "# 提供了Hyperparameters, AUC, Confusion Matrix, Threshold, PR Curve, Error, Class Report\n",
    "# Feature Selection, Learning Curve, Manifold Learning, etc., 功能比较强.\n",
    "\n",
    "# plot_model(clf_tuned, plot = 'auc')\n",
    "evaluate_model(clf_tuned)\n"
   ],
   "metadata": {
    "collapsed": false,
    "pycharm": {
     "name": "#%%\n"
    }
   }
  },
  {
   "cell_type": "code",
   "execution_count": null,
   "outputs": [],
   "source": [
    "# 模型解释.\n",
    "# TODO: 偶尔会报错.\n",
    "interpret_model(clf_tuned)"
   ],
   "metadata": {
    "collapsed": false,
    "pycharm": {
     "name": "#%%\n"
    }
   }
  },
  {
   "cell_type": "markdown",
   "source": [
    "MLFlow UI"
   ],
   "metadata": {
    "collapsed": false,
    "pycharm": {
     "name": "#%% md\n"
    }
   }
  },
  {
   "cell_type": "code",
   "execution_count": null,
   "outputs": [],
   "source": [
    "# TODO: 功能不明.\n",
    "# !mlflow ui"
   ],
   "metadata": {
    "collapsed": false,
    "pycharm": {
     "name": "#%%\n"
    }
   }
  }
 ],
 "metadata": {
  "kernelspec": {
   "display_name": "Python 3",
   "language": "python",
   "name": "python3"
  },
  "language_info": {
   "codemirror_mode": {
    "name": "ipython",
    "version": 2
   },
   "file_extension": ".py",
   "mimetype": "text/x-python",
   "name": "python",
   "nbconvert_exporter": "python",
   "pygments_lexer": "ipython2",
   "version": "2.7.6"
  }
 },
 "nbformat": 4,
 "nbformat_minor": 0
}