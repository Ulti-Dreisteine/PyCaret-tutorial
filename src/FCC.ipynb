{
    "cells": [
        {
            "cell_type": "markdown",
            "source": [
                "## 载入配置"
            ],
            "metadata": {}
        },
        {
            "cell_type": "code",
            "execution_count": null,
            "source": [
                "import pandas as pd\r\n",
                "import numpy as np\r\n",
                "import sys\r\n",
                "import os \r\n",
                "\r\n",
                "sys.path.append('../')\r\n",
                "\r\n",
                "from src.settings import proj_dir\r\n",
                "X_df = pd.read_csv(os.path.join(proj_dir, 'data/FCC/X.csv'))\r\n",
                "Y_df = pd.read_csv(os.path.join(proj_dir, 'data/FCC/Y.csv'))\r\n",
                "print(Y_df.columns)"
            ],
            "outputs": [
                {
                    "output_type": "error",
                    "ename": "Error",
                    "evalue": "Session cannot generate requests",
                    "traceback": [
                        "Error: Session cannot generate requests",
                        "at w.executeCodeCell (c:\\Users\\Administrator\\.vscode\\extensions\\ms-toolsai.jupyter-2021.8.1054968649\\out\\client\\extension.js:90:320068)",
                        "at w.execute (c:\\Users\\Administrator\\.vscode\\extensions\\ms-toolsai.jupyter-2021.8.1054968649\\out\\client\\extension.js:90:319389)",
                        "at w.start (c:\\Users\\Administrator\\.vscode\\extensions\\ms-toolsai.jupyter-2021.8.1054968649\\out\\client\\extension.js:90:315205)",
                        "at processTicksAndRejections (internal/process/task_queues.js:93:5)",
                        "at async t.CellExecutionQueue.executeQueuedCells (c:\\Users\\Administrator\\.vscode\\extensions\\ms-toolsai.jupyter-2021.8.1054968649\\out\\client\\extension.js:90:329732)",
                        "at async t.CellExecutionQueue.start (c:\\Users\\Administrator\\.vscode\\extensions\\ms-toolsai.jupyter-2021.8.1054968649\\out\\client\\extension.js:90:329272)"
                    ]
                }
            ],
            "metadata": {}
        },
        {
            "cell_type": "markdown",
            "source": [
                "## 模型构建"
            ],
            "metadata": {}
        },
        {
            "cell_type": "code",
            "execution_count": null,
            "source": [
                "from pycaret.regression import setup, compare_models, create_model, tune_model, plot_model, evaluate_model, interpret_model\r\n",
                "\r\n",
                "y_col = 'light_diesel'\r\n",
                "data = pd.concat([X_df, Y_df[y_col]], axis = 1)"
            ],
            "outputs": [],
            "metadata": {}
        },
        {
            "cell_type": "code",
            "execution_count": null,
            "source": [],
            "outputs": [],
            "metadata": {}
        },
        {
            "cell_type": "code",
            "execution_count": null,
            "source": [
                "task = setup(\r\n",
                "    data,\r\n",
                "    target = y_col,\r\n",
                "    numeric_features = X_df.columns,\r\n",
                "    verbose = False,\r\n",
                "    remove_multicollinearity = False,\r\n",
                "    # multicollinearity_threshold = 0.6,\r\n",
                "    ignore_low_variance = False,\r\n",
                "    silent = True,\r\n",
                ")\r\n",
                "\r\n",
                "params = {'max_features': 'auto'}\r\n",
                "clf = create_model('rf', verbose = True, **params)\r\n",
                "\r\n",
                "params = {\r\n",
                "    \"n_estimators\": np.random.randint(10, 300, 20),\r\n",
                "    \"min_samples_leaf\": [5, 10 ,15, 20, 30, 40 , 50],\r\n",
                "    \"min_samples_split\": [2, 3, 4],\r\n",
                "    }\r\n",
                "clf_tuned = tune_model(\r\n",
                "    clf, optimize = 'R2', n_iter = 5, fold = 5, round = 5, custom_grid = params\r\n",
                "    )"
            ],
            "outputs": [],
            "metadata": {}
        },
        {
            "cell_type": "code",
            "execution_count": null,
            "source": [
                "clf_tuned.get_params"
            ],
            "outputs": [],
            "metadata": {}
        },
        {
            "cell_type": "code",
            "execution_count": null,
            "source": [],
            "outputs": [],
            "metadata": {}
        }
    ],
    "metadata": {
        "orig_nbformat": 4,
        "language_info": {
            "name": "python",
            "version": "3.8.5",
            "mimetype": "text/x-python",
            "codemirror_mode": {
                "name": "ipython",
                "version": 3
            },
            "pygments_lexer": "ipython3",
            "nbconvert_exporter": "python",
            "file_extension": ".py"
        },
        "kernelspec": {
            "name": "python3",
            "display_name": "Python 3.8.5 64-bit ('base': conda)"
        },
        "interpreter": {
            "hash": "96eb50e1d44aed467dc8f759cb08c32fbfa9babcf79c554e2d0e5feb04653a10"
        }
    },
    "nbformat": 4,
    "nbformat_minor": 2
}